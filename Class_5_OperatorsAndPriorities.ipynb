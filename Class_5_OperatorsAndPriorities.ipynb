{
 "cells": [
  {
   "cell_type": "markdown",
   "metadata": {},
   "source": [
    "# Operators"
   ]
  },
  {
   "cell_type": "code",
   "execution_count": null,
   "metadata": {},
   "outputs": [],
   "source": [
    "num= -3*6+4            # 3*6 = -18 + 4 = -14\n",
    "print(num)"
   ]
  },
  {
   "cell_type": "code",
   "execution_count": null,
   "metadata": {},
   "outputs": [],
   "source": [
    "number= 3+6*7*(2+1)\n",
    "number"
   ]
  },
  {
   "cell_type": "code",
   "execution_count": null,
   "metadata": {},
   "outputs": [],
   "source": [
    "num1 = 2*3%5\n",
    "num1"
   ]
  },
  {
   "cell_type": "code",
   "execution_count": null,
   "metadata": {},
   "outputs": [],
   "source": [
    "sm = (5*((25%13)+100)/(2*13) //2)\n",
    "sm"
   ]
  },
  {
   "cell_type": "markdown",
   "metadata": {},
   "source": [
    "# IF Statement"
   ]
  },
  {
   "cell_type": "code",
   "execution_count": null,
   "metadata": {},
   "outputs": [],
   "source": [
    "# if statement evaluates whether a condition is equal to true or false.\n",
    "# The statement will execute a block of code \n",
    "# if a specified condition is equal to true. \n",
    "# Otherwise, the block of code within the if statement is not execute,.."
   ]
  },
  {
   "cell_type": "code",
   "execution_count": null,
   "metadata": {},
   "outputs": [],
   "source": [
    "# EXAMPLE 1\n",
    "\n",
    "student_name = \"Maria\"\n",
    "if student_name == 'Asad':\n",
    "    print('Right student')"
   ]
  },
  {
   "cell_type": "code",
   "execution_count": 2,
   "metadata": {},
   "outputs": [
    {
     "name": "stdout",
     "output_type": "stream",
     "text": [
      " Enter your name Maria\n"
     ]
    }
   ],
   "source": [
    "# EXAMPLE 2\n",
    "\n",
    "st_name = input(' Enter your name')\n",
    "if st_name == 'Maria':\n",
    "    print(f\"Welcome to our team Miss {st_name}\")"
   ]
  },
  {
   "cell_type": "code",
   "execution_count": 4,
   "metadata": {},
   "outputs": [
    {
     "name": "stdout",
     "output_type": "stream",
     "text": [
      " Enter your Lucky Number 2\n"
     ]
    }
   ],
   "source": [
    "# EXAMPLE 3\n",
    "\n",
    "number = int(input(' Enter your Lucky Number'));\n",
    "\n",
    "if number == 7:\n",
    "    print('You win');"
   ]
  },
  {
   "cell_type": "markdown",
   "metadata": {},
   "source": [
    " # If Else Statement"
   ]
  },
  {
   "cell_type": "code",
   "execution_count": 6,
   "metadata": {},
   "outputs": [
    {
     "name": "stdout",
     "output_type": "stream",
     "text": [
      "Enter your Lucky Number: 2\n",
      "You Loss the Game\n"
     ]
    }
   ],
   "source": [
    "# EXAMPLE 3\n",
    "\n",
    "number = int(input('Enter your Lucky Number: '));\n",
    "\n",
    "if number == 7:\n",
    "    print('You win the Game');\n",
    "else:\n",
    "    print('You Loss the Game')"
   ]
  },
  {
   "cell_type": "code",
   "execution_count": 11,
   "metadata": {},
   "outputs": [
    {
     "name": "stdout",
     "output_type": "stream",
     "text": [
      "Enter the price of Tomato per Kg: 50\n",
      "Give me one Kg\n"
     ]
    }
   ],
   "source": [
    "\n",
    "# Example 4\n",
    "\n",
    "price = int(input('Enter the price of Tomato per Kg: '))\n",
    "if price > 100:                            # Greater Than\n",
    "    print(\"The rate is so high\");\n",
    "if price < 100:                           # Less Than\n",
    "    print('Give me one Kg');\n",
    "if price == 100:\n",
    "    print(\"Give me half Kg\");\n",
    "    "
   ]
  },
  {
   "cell_type": "code",
   "execution_count": 12,
   "metadata": {},
   "outputs": [
    {
     "name": "stdout",
     "output_type": "stream",
     "text": [
      "Enter the price of Tomato per Kg: 120\n",
      "The rate is so high\n"
     ]
    }
   ],
   "source": [
    "# Example 4\n",
    "\n",
    "price = int(input('Enter the price of Tomato per Kg: '))\n",
    "if price > 100:                            # Greater Than\n",
    "    print(\"The rate is so high\");\n",
    "if price < 100:                           # Less Than\n",
    "    print('Give me one Kg');\n",
    "if price == 100:\n",
    "    print(\"Give me half Kg\");"
   ]
  },
  {
   "cell_type": "code",
   "execution_count": 13,
   "metadata": {},
   "outputs": [
    {
     "name": "stdout",
     "output_type": "stream",
     "text": [
      "Enter the price of Tomato per Kg: 100\n",
      "Give me half Kg\n"
     ]
    }
   ],
   "source": [
    "# Example 4\n",
    "\n",
    "price = int(input('Enter the price of Tomato per Kg: '))\n",
    "if price > 100:                            # Greater Than\n",
    "    print(\"The rate is so high\");\n",
    "if price < 100:                           # Less Than\n",
    "    print('Give me one Kg');\n",
    "if price == 100:\n",
    "    print(\"Give me half Kg\");"
   ]
  },
  {
   "cell_type": "code",
   "execution_count": null,
   "metadata": {},
   "outputs": [],
   "source": []
  }
 ],
 "metadata": {
  "kernelspec": {
   "display_name": "Python 3",
   "language": "python",
   "name": "python3"
  },
  "language_info": {
   "codemirror_mode": {
    "name": "ipython",
    "version": 3
   },
   "file_extension": ".py",
   "mimetype": "text/x-python",
   "name": "python",
   "nbconvert_exporter": "python",
   "pygments_lexer": "ipython3",
   "version": "3.7.6"
  }
 },
 "nbformat": 4,
 "nbformat_minor": 4
}
