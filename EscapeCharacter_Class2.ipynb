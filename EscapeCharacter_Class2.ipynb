{
 "cells": [
  {
   "cell_type": "code",
   "execution_count": 1,
   "metadata": {},
   "outputs": [],
   "source": [
    "## CLass 2."
   ]
  },
  {
   "cell_type": "markdown",
   "metadata": {},
   "source": [
    "# Print"
   ]
  },
  {
   "cell_type": "code",
   "execution_count": 14,
   "metadata": {},
   "outputs": [
    {
     "name": "stdout",
     "output_type": "stream",
     "text": [
      "hi! My name is Maria. i am learning python\n"
     ]
    }
   ],
   "source": [
    "print('hi!' , end=' ')\n",
    "print(\"My name is Maria.\" , end=\" \")\n",
    "print('i am learning python')"
   ]
  },
  {
   "cell_type": "markdown",
   "metadata": {},
   "source": [
    "# Escape Characters \n",
    "    \\'\tSingle Quote\t\n",
    "    \\\\\tBackslash\t\n",
    "    \\n\tNew Line\t\n",
    "    \\r\tCarriage Return\t\n",
    "    \\t\tTab\t\n",
    "    \\b\tBackspace\t\n",
    "    \\f\tForm Feed\t\n",
    "    \\ooo\tOctal value\t\n",
    "    \\xhh\tHex value"
   ]
  },
  {
   "cell_type": "markdown",
   "metadata": {},
   "source": [
    "##  1\n"
   ]
  },
  {
   "cell_type": "code",
   "execution_count": 28,
   "metadata": {},
   "outputs": [
    {
     "name": "stdout",
     "output_type": "stream",
     "text": [
      "Hey  I am Maria I am a student of Jawan Pak I love to play with Coding.\n",
      " Escape sequences allow you to include special characters in strings.n C,all escape sequences consist of two or more characters,the first of which is the backslash, the remaining characters determine the interpretation of the escape sequence.For example,  is an escape sequence that denotes a newline character.\n"
     ]
    }
   ],
   "source": [
    "\n",
    "# Backslash and newline ignored   ## \\newline\n",
    "\n",
    "\n",
    "print('Hey  I am Maria \\\n",
    "I am a student of Jawan Pak \\\n",
    "I love to play with Coding.')\n",
    "print(' Escape sequences allow you to include special characters in strings.n C,\\\n",
    "all escape sequences consist of two or more characters,\\\n",
    "the first of which is the backslash, \\\n",
    "the remaining characters determine the interpretation of the escape sequence.\\\n",
    "For example,  is an escape sequence that denotes a newline character.')"
   ]
  },
  {
   "cell_type": "markdown",
   "metadata": {},
   "source": [
    "## 2\n",
    "\n",
    "\n"
   ]
  },
  {
   "cell_type": "code",
   "execution_count": 26,
   "metadata": {},
   "outputs": [
    {
     "name": "stdout",
     "output_type": "stream",
     "text": [
      "The date is 1 \\ 1\\ 2022\n",
      "The date is 1 \\ 1\\ 2022\n"
     ]
    }
   ],
   "source": [
    "# double backslash (\\\\)           return   single Backslash\n",
    "(\\)\n",
    "\n",
    "\n",
    "print('The date is 1 \\\\ 1\\\\ 2022')\n",
    "print('The date is 1 \\ 1\\ 2022')\n"
   ]
  },
  {
   "cell_type": "markdown",
   "metadata": {},
   "source": [
    "# 3\n"
   ]
  },
  {
   "cell_type": "code",
   "execution_count": 27,
   "metadata": {},
   "outputs": [
    {
     "name": "stdout",
     "output_type": "stream",
     "text": [
      "I am a girl. I 'm a student. I teach python programming \n"
     ]
    }
   ],
   "source": [
    "\n",
    "# \\'              #    return Single quote (') \n",
    "\n",
    "\n",
    "print('I am a girl. I \\'m a student. I teach python programming ')"
   ]
  },
  {
   "cell_type": "markdown",
   "metadata": {},
   "source": [
    "# 4\n",
    "\n"
   ]
  },
  {
   "cell_type": "code",
   "execution_count": 2,
   "metadata": {},
   "outputs": [
    {
     "name": "stdout",
     "output_type": "stream",
     "text": [
      "Hey! How are you? i 'm \"Maria\" \n"
     ]
    }
   ],
   "source": [
    "# \\\"             #   Double quote (\")\n",
    "\n",
    "print('Hey! How are you? \\\n",
    "i \\'m \\\"Maria\" ')"
   ]
  },
  {
   "cell_type": "markdown",
   "metadata": {},
   "source": [
    "# 5"
   ]
  },
  {
   "cell_type": "code",
   "execution_count": 35,
   "metadata": {},
   "outputs": [
    {
     "name": "stdout",
     "output_type": "stream",
     "text": [
      "hi \u0007 wao\n"
     ]
    }
   ],
   "source": [
    "\n",
    "\n",
    "#\\a                         #  ASCII Bell (BEL)\n",
    "print('hi \\a wao')"
   ]
  },
  {
   "cell_type": "markdown",
   "metadata": {},
   "source": [
    "## 6"
   ]
  },
  {
   "cell_type": "code",
   "execution_count": 44,
   "metadata": {},
   "outputs": [
    {
     "name": "stdout",
     "output_type": "stream",
     "text": [
      "Hello\b world\n"
     ]
    }
   ],
   "source": [
    "\n",
    "\n",
    "#  \\b                  \tASCII Backspace (BS)\n",
    "\n",
    "\n",
    "\n",
    "print('Hello\\b world')                   #not working"
   ]
  },
  {
   "cell_type": "markdown",
   "metadata": {},
   "source": [
    "\n",
    "## 7"
   ]
  },
  {
   "cell_type": "code",
   "execution_count": 50,
   "metadata": {},
   "outputs": [
    {
     "name": "stdout",
     "output_type": "stream",
     "text": [
      "Hello\f",
      " World!\n"
     ]
    }
   ],
   "source": [
    "\n",
    "\n",
    "\n",
    "# \\f                            \tASCII Formfeed (FF) \n",
    "print('Hello\\b world')                   #not working               \n",
    "\n",
    "#print('Hi \\f how are you')               #not working"
   ]
  },
  {
   "cell_type": "markdown",
   "metadata": {},
   "source": [
    " ### 8"
   ]
  },
  {
   "cell_type": "code",
   "execution_count": 1,
   "metadata": {},
   "outputs": [
    {
     "name": "stdout",
     "output_type": "stream",
     "text": [
      "hi \n",
      " how are u\n"
     ]
    }
   ],
   "source": [
    "\n",
    "# \\n                          \tASCII Linefeed (LF) New Line\n",
    "\n",
    "print('hi \\n how are u')"
   ]
  },
  {
   "cell_type": "markdown",
   "metadata": {},
   "source": [
    "# 9"
   ]
  },
  {
   "cell_type": "code",
   "execution_count": 14,
   "metadata": {},
   "outputs": [
    {
     "name": "stdout",
     "output_type": "stream",
     "text": [
      "Hello\n"
     ]
    }
   ],
   "source": [
    "##      \\ooo       \tOctal value \n",
    "#A backslash followed by three integers will result in a octal value:\n",
    "\n",
    "txt = \"\\110\\145\\154\\154\\157\"\n",
    "print(txt)"
   ]
  },
  {
   "cell_type": "markdown",
   "metadata": {},
   "source": [
    "# 10"
   ]
  },
  {
   "cell_type": "code",
   "execution_count": 16,
   "metadata": {},
   "outputs": [
    {
     "name": "stdout",
     "output_type": "stream",
     "text": [
      " can you solve\n"
     ]
    }
   ],
   "source": [
    "\n",
    "#  \\r                        \tCarriage Return\n",
    "\n",
    "\n",
    "print( 'hy ! there is an error \\r can you solve' )"
   ]
  },
  {
   "cell_type": "code",
   "execution_count": 18,
   "metadata": {},
   "outputs": [
    {
     "name": "stdout",
     "output_type": "stream",
     "text": [
      " use an escape character.\n"
     ]
    }
   ],
   "source": [
    "print('To insert characters that are illegal in a string,\\r use an escape character.')"
   ]
  },
  {
   "cell_type": "markdown",
   "metadata": {},
   "source": [
    "# 11"
   ]
  },
  {
   "cell_type": "code",
   "execution_count": 22,
   "metadata": {},
   "outputs": [
    {
     "name": "stdout",
     "output_type": "stream",
     "text": [
      "Hello\n"
     ]
    }
   ],
   "source": [
    "# #A backslash followed by an 'x' and a hex number represents a hex value:\n",
    "#      \\xhh                                \tHex value\n",
    "\n",
    "print(\"\\x48\\x65\\x6c\\x6c\\x6f\")"
   ]
  },
  {
   "cell_type": "code",
   "execution_count": null,
   "metadata": {},
   "outputs": [],
   "source": []
  }
 ],
 "metadata": {
  "kernelspec": {
   "display_name": "Python 3",
   "language": "python",
   "name": "python3"
  },
  "language_info": {
   "codemirror_mode": {
    "name": "ipython",
    "version": 3
   },
   "file_extension": ".py",
   "mimetype": "text/x-python",
   "name": "python",
   "nbconvert_exporter": "python",
   "pygments_lexer": "ipython3",
   "version": "3.7.6"
  }
 },
 "nbformat": 4,
 "nbformat_minor": 4
}
