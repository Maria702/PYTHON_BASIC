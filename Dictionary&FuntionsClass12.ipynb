{
 "cells": [
  {
   "cell_type": "markdown",
   "metadata": {},
   "source": [
    "# More on Dictionary"
   ]
  },
  {
   "cell_type": "markdown",
   "metadata": {},
   "source": [
    "# Dictionary in Dictionary"
   ]
  },
  {
   "cell_type": "code",
   "execution_count": 8,
   "metadata": {},
   "outputs": [
    {
     "data": {
      "text/plain": [
       "{'python': {'Nisar': 4, 'Hamza': 9, 'Ali': 8},\n",
       " 'java': {'Nisar': 7, 'Hamza': 5, 'Ali': 6},\n",
       " 'Js': {'Nisar': 10, 'Hamza': 5, 'Ali': 9}}"
      ]
     },
     "execution_count": 8,
     "metadata": {},
     "output_type": "execute_result"
    }
   ],
   "source": [
    "multiDic = {\n",
    "    'python':{'Nisar': 4, 'Hamza':9, 'Ali':8 },\n",
    "    'java':{'Nisar': 7, 'Hamza':5, 'Ali':6},\n",
    "    'Js':{'Nisar': 10, 'Hamza':5, 'Ali':9}\n",
    "    \n",
    "}\n",
    "multiDic"
   ]
  },
  {
   "cell_type": "markdown",
   "metadata": {},
   "source": [
    "# Access The Dictionary"
   ]
  },
  {
   "cell_type": "code",
   "execution_count": 10,
   "metadata": {},
   "outputs": [
    {
     "data": {
      "text/plain": [
       "{'Nisar': 7, 'Hamza': 5, 'Ali': 6}"
      ]
     },
     "execution_count": 10,
     "metadata": {},
     "output_type": "execute_result"
    }
   ],
   "source": [
    "multiDic['java']"
   ]
  },
  {
   "cell_type": "code",
   "execution_count": 11,
   "metadata": {},
   "outputs": [
    {
     "data": {
      "text/plain": [
       "{'Nisar': 4, 'Hamza': 9, 'Ali': 8}"
      ]
     },
     "execution_count": 11,
     "metadata": {},
     "output_type": "execute_result"
    }
   ],
   "source": [
    "multiDic['python']"
   ]
  },
  {
   "cell_type": "code",
   "execution_count": 9,
   "metadata": {},
   "outputs": [
    {
     "data": {
      "text/plain": [
       "6"
      ]
     },
     "execution_count": 9,
     "metadata": {},
     "output_type": "execute_result"
    }
   ],
   "source": [
    "multiDic['java']['Ali']"
   ]
  },
  {
   "cell_type": "code",
   "execution_count": 13,
   "metadata": {},
   "outputs": [
    {
     "data": {
      "text/plain": [
       "{'python': {'Nisar': 10, 'Hamza': 9, 'Ali': 8},\n",
       " 'java': {'Nisar': 7, 'Hamza': 5, 'Ali': 6},\n",
       " 'Js': {'Nisar': 10, 'Hamza': 5, 'Ali': 9}}"
      ]
     },
     "execution_count": 13,
     "metadata": {},
     "output_type": "execute_result"
    }
   ],
   "source": [
    "# Update\n",
    "\n",
    "multiDic['python']['Nisar']= 10\n",
    "multiDic"
   ]
  },
  {
   "cell_type": "code",
   "execution_count": 17,
   "metadata": {},
   "outputs": [
    {
     "data": {
      "text/plain": [
       "dict"
      ]
     },
     "execution_count": 17,
     "metadata": {},
     "output_type": "execute_result"
    }
   ],
   "source": [
    "type(multiDic)"
   ]
  },
  {
   "cell_type": "markdown",
   "metadata": {},
   "source": [
    "# Dictionary in List"
   ]
  },
  {
   "cell_type": "code",
   "execution_count": 15,
   "metadata": {},
   "outputs": [
    {
     "data": {
      "text/plain": [
       "[{'Country': 'US'}]"
      ]
     },
     "execution_count": 15,
     "metadata": {},
     "output_type": "execute_result"
    }
   ],
   "source": [
    "dic = []\n",
    "dic.append({'Country':'US'})\n",
    "dic"
   ]
  },
  {
   "cell_type": "code",
   "execution_count": 16,
   "metadata": {},
   "outputs": [
    {
     "data": {
      "text/plain": [
       "list"
      ]
     },
     "execution_count": 16,
     "metadata": {},
     "output_type": "execute_result"
    }
   ],
   "source": [
    "type(dic)"
   ]
  },
  {
   "cell_type": "code",
   "execution_count": 18,
   "metadata": {},
   "outputs": [
    {
     "data": {
      "text/plain": [
       "[{'Country': 'US'}, {'Subject': 'English'}]"
      ]
     },
     "execution_count": 18,
     "metadata": {},
     "output_type": "execute_result"
    }
   ],
   "source": [
    "dic.append({'Subject':'English'})\n",
    "dic"
   ]
  },
  {
   "cell_type": "code",
   "execution_count": 22,
   "metadata": {},
   "outputs": [
    {
     "data": {
      "text/plain": [
       "'English'"
      ]
     },
     "execution_count": 22,
     "metadata": {},
     "output_type": "execute_result"
    }
   ],
   "source": [
    "dic[1]['Subject']"
   ]
  },
  {
   "cell_type": "code",
   "execution_count": 19,
   "metadata": {},
   "outputs": [
    {
     "ename": "IndexError",
     "evalue": "list index out of range",
     "output_type": "error",
     "traceback": [
      "\u001b[1;31m---------------------------------------------------------------------------\u001b[0m",
      "\u001b[1;31mIndexError\u001b[0m                                Traceback (most recent call last)",
      "\u001b[1;32m<ipython-input-19-431b6eafe133>\u001b[0m in \u001b[0;36m<module>\u001b[1;34m\u001b[0m\n\u001b[1;32m----> 1\u001b[1;33m \u001b[0mdic\u001b[0m\u001b[1;33m[\u001b[0m\u001b[1;36m2\u001b[0m\u001b[1;33m]\u001b[0m\u001b[1;33m[\u001b[0m\u001b[1;34m'Subject'\u001b[0m\u001b[1;33m]\u001b[0m\u001b[1;33m\u001b[0m\u001b[1;33m\u001b[0m\u001b[0m\n\u001b[0m",
      "\u001b[1;31mIndexError\u001b[0m: list index out of range"
     ]
    }
   ],
   "source": [
    "dic[2]['Subject']"
   ]
  },
  {
   "cell_type": "code",
   "execution_count": 33,
   "metadata": {},
   "outputs": [],
   "source": [
    "# use int, float, bool, set, tuple, dic , list\n",
    "miscList = [100, 50.5 , True, 'Nisar',{200}, (1000,5000),{'Country':'Pakistan'}, [3,4,5]]"
   ]
  },
  {
   "cell_type": "code",
   "execution_count": 34,
   "metadata": {},
   "outputs": [
    {
     "data": {
      "text/plain": [
       "[100,\n",
       " 50.5,\n",
       " True,\n",
       " 'Nisar',\n",
       " {200},\n",
       " (1000, 5000),\n",
       " {'Country': 'Pakistan'},\n",
       " [3, 4, 5]]"
      ]
     },
     "execution_count": 34,
     "metadata": {},
     "output_type": "execute_result"
    }
   ],
   "source": [
    "miscList"
   ]
  },
  {
   "cell_type": "code",
   "execution_count": 26,
   "metadata": {},
   "outputs": [
    {
     "data": {
      "text/plain": [
       "{200}"
      ]
     },
     "execution_count": 26,
     "metadata": {},
     "output_type": "execute_result"
    }
   ],
   "source": [
    "miscList[4]"
   ]
  },
  {
   "cell_type": "code",
   "execution_count": 27,
   "metadata": {},
   "outputs": [
    {
     "data": {
      "text/plain": [
       "[3, 4, 5]"
      ]
     },
     "execution_count": 27,
     "metadata": {},
     "output_type": "execute_result"
    }
   ],
   "source": [
    "miscList[7]"
   ]
  },
  {
   "cell_type": "code",
   "execution_count": 28,
   "metadata": {},
   "outputs": [
    {
     "data": {
      "text/plain": [
       "{'Country': 'Pakistan'}"
      ]
     },
     "execution_count": 28,
     "metadata": {},
     "output_type": "execute_result"
    }
   ],
   "source": [
    "miscList[6]"
   ]
  },
  {
   "cell_type": "code",
   "execution_count": 29,
   "metadata": {},
   "outputs": [
    {
     "data": {
      "text/plain": [
       "[100,\n",
       " 50.5,\n",
       " True,\n",
       " 'Nisar',\n",
       " {200},\n",
       " (1000, 5000),\n",
       " {'Country': 'Pakistan'},\n",
       " [3, 4, 5]]"
      ]
     },
     "execution_count": 29,
     "metadata": {},
     "output_type": "execute_result"
    }
   ],
   "source": [
    "# Copy\n",
    "\n",
    "newDic = miscList\n",
    "newDic"
   ]
  },
  {
   "cell_type": "markdown",
   "metadata": {},
   "source": [
    "# Python FUNCTIONs\n",
    "   - A function is a block of code which only runs when it is called.\n",
    "\n",
    "    - You can pass data, known as parameters, into a function.\n",
    "\n",
    "      - A function can return data as a result."
   ]
  },
  {
   "cell_type": "markdown",
   "metadata": {},
   "source": [
    "# Creating a Function\n",
    "   - In Python a function is defined using the def keyword:"
   ]
  },
  {
   "cell_type": "code",
   "execution_count": 40,
   "metadata": {},
   "outputs": [],
   "source": [
    "def add_two():\n",
    "    a= 10;\n",
    "    b= 50;\n",
    "    print(a+b)"
   ]
  },
  {
   "cell_type": "markdown",
   "metadata": {},
   "source": [
    "# Calling a Function\n",
    "   - To call a function, use the function name followed by parenthesis:"
   ]
  },
  {
   "cell_type": "code",
   "execution_count": 41,
   "metadata": {},
   "outputs": [
    {
     "name": "stdout",
     "output_type": "stream",
     "text": [
      "60\n"
     ]
    }
   ],
   "source": [
    "add_two()"
   ]
  },
  {
   "cell_type": "code",
   "execution_count": 42,
   "metadata": {},
   "outputs": [
    {
     "name": "stdout",
     "output_type": "stream",
     "text": [
      "Enter a number100\n",
      "Enter a number6\n",
      "1006\n"
     ]
    }
   ],
   "source": [
    "def addTwo():\n",
    "    a = input('Enter a number');\n",
    "    b = input('Enter a number');\n",
    "    print(a+b)\n",
    "addTwo()"
   ]
  },
  {
   "cell_type": "code",
   "execution_count": 44,
   "metadata": {},
   "outputs": [
    {
     "name": "stdout",
     "output_type": "stream",
     "text": [
      "Enter a number: 50\n",
      "Enter a number: 100\n",
      "150.0\n"
     ]
    }
   ],
   "source": [
    "def addTwo():\n",
    "    a = float(input('Enter a number: '));\n",
    "    b = float(input('Enter a number: '));\n",
    "    print(a+b)\n",
    "addTwo()"
   ]
  },
  {
   "cell_type": "code",
   "execution_count": 4,
   "metadata": {},
   "outputs": [],
   "source": [
    "def students_detail():\n",
    "    name = input(\"Enter your Name: \")\n",
    "    father = input(\"Enter your Father Name: \")\n",
    "    rollNum = input(\"Enter your Roll Number: \")\n",
    "    course = input(\"Enter your Course: \")\n",
    "    timings = input(\"Enter your Time: \")\n",
    "    institute= input (\"Enter your Institution Name: \")\n",
    "    \n",
    "    print(f\"\"\"\n",
    "    \n",
    "    ******    Students Card    ******\n",
    "    \n",
    "    Name of Student: {name}\n",
    "    Father Name    : {father}\n",
    "    Roll Number    : {rollNum}\n",
    "    Course         : {course}\n",
    "    Timings        : {timings}\n",
    "    Institute      : {institute}\n",
    "    \"\"\")\n",
    "    # tripple quoates allow us to wrirte a string in multiple lines "
   ]
  },
  {
   "cell_type": "code",
   "execution_count": 5,
   "metadata": {
    "scrolled": true
   },
   "outputs": [
    {
     "name": "stdout",
     "output_type": "stream",
     "text": [
      "Enter your Name: Mariya Waseem\n",
      "Enter your Father Name: Waseem Ahmed\n",
      "Enter your Roll Number: 23474456\n",
      "Enter your Course: Python Programming Language\n",
      "Enter your Time: 9 to 11\n",
      "Enter your Institution Name: Saylani Mass IT Program\n",
      "\n",
      "    \n",
      "    ******    Students Card    ******\n",
      "    \n",
      "    Name of Student: Mariya Waseem\n",
      "    Father Name    : Waseem Ahmed\n",
      "    Roll Number    : 23474456\n",
      "    Course         : Python Programming Language\n",
      "    Timings        : 9 to 11\n",
      "    Institute      : Saylani Mass IT Program\n",
      "    \n"
     ]
    }
   ],
   "source": [
    "students_detail()"
   ]
  }
 ],
 "metadata": {
  "kernelspec": {
   "display_name": "Python 3",
   "language": "python",
   "name": "python3"
  },
  "language_info": {
   "codemirror_mode": {
    "name": "ipython",
    "version": 3
   },
   "file_extension": ".py",
   "mimetype": "text/x-python",
   "name": "python",
   "nbconvert_exporter": "python",
   "pygments_lexer": "ipython3",
   "version": "3.7.6"
  }
 },
 "nbformat": 4,
 "nbformat_minor": 4
}
