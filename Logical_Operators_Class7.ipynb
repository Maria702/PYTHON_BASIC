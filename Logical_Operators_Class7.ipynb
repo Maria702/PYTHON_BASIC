{
 "cells": [
  {
   "cell_type": "markdown",
   "metadata": {},
   "source": [
    "# LOGICAL OPERATORS\n",
    "       - 1: AND OPERATORS \n",
    "                   Works as Nested If's\n",
    "                   AND operator is likely a multiply\n",
    "                  \n",
    "        - 2: OR OPERATOR\n",
    "                    Works as multiple if's\n",
    "                    Or operator is likely a additions\n",
    "                    \n",
    "      "
   ]
  },
  {
   "cell_type": "code",
   "execution_count": null,
   "metadata": {},
   "outputs": [],
   "source": [
    "# A logical operator is a symbol or word\n",
    "#  used to connect two or more expressions\n",
    "\n",
    "#Logical operators are used on conditional statements (either True or False).\n",
    "# They perform Logical AND, Logical OR and Logical NOT operations.\n",
    "\n",
    "\n",
    "    "
   ]
  },
  {
   "cell_type": "markdown",
   "metadata": {},
   "source": [
    "# 1: AND OPERATORS"
   ]
  },
  {
   "cell_type": "code",
   "execution_count": null,
   "metadata": {},
   "outputs": [],
   "source": [
    "# AND operator returns True if both the operands are True else it returns False\n"
   ]
  },
  {
   "cell_type": "code",
   "execution_count": 15,
   "metadata": {},
   "outputs": [],
   "source": [
    "# AND operator is likely a multiply\n",
    "\n",
    "# BOOLEN RESULTS: True (1)  & False(0)\n",
    "\n",
    "# True       True  >>      True\n",
    "#   1   and   1   =    1 (True)\n",
    "#   1   and   0   =    0 (False)\n",
    "#   0   and   1   =    0 (False)\n",
    "#   0   and   0   =    0 (False)\n",
    "#\n",
    "#\n",
    "#"
   ]
  },
  {
   "cell_type": "code",
   "execution_count": 1,
   "metadata": {},
   "outputs": [
    {
     "name": "stdout",
     "output_type": "stream",
     "text": [
      "Ok\n"
     ]
    }
   ],
   "source": [
    "# EXAMPLE 1 a\n",
    "\n",
    "a = 10;\n",
    "b = 12;\n",
    "if ((a == 10) and (b == 12)):\n",
    "    # True         False\n",
    "    \n",
    "    print('Ok');\n",
    "else:\n",
    "    print('NOT OK')"
   ]
  },
  {
   "cell_type": "code",
   "execution_count": 2,
   "metadata": {},
   "outputs": [
    {
     "name": "stdout",
     "output_type": "stream",
     "text": [
      "NOT OK\n"
     ]
    }
   ],
   "source": [
    "# EXAMPLE 1 b\n",
    "\n",
    "a = 10;\n",
    "b = 12;\n",
    "if ((a == 10) and (b == 13)):\n",
    "    print('Ok');\n",
    "else:\n",
    "    print('NOT OK')"
   ]
  },
  {
   "cell_type": "code",
   "execution_count": 16,
   "metadata": {},
   "outputs": [
    {
     "name": "stdout",
     "output_type": "stream",
     "text": [
      "All are same\n"
     ]
    }
   ],
   "source": [
    "# EXAMPLE 2 a\n",
    "\n",
    "a=b=c=d=e=f=g=0\n",
    "\n",
    "if((a==b) and (b==c) and (c==d) and (d==e) and (e==f) and (f==g)):\n",
    "    print(\"All are same\");\n",
    "else:\n",
    "    print(\"All are not same\")"
   ]
  },
  {
   "cell_type": "code",
   "execution_count": 17,
   "metadata": {},
   "outputs": [
    {
     "name": "stdout",
     "output_type": "stream",
     "text": [
      "All are not same\n"
     ]
    }
   ],
   "source": [
    "# EXAMPLE 2 b\n",
    "\n",
    "a=b=c=d=e=f=g=0\n",
    "b= 5\n",
    "\n",
    "if((a==b) and (b==c) and (c==d) and (d==e) and (e==f) and (f==g)):\n",
    "    print(\"All are same\");\n",
    "else:\n",
    "    print(\"All are not same\")"
   ]
  },
  {
   "cell_type": "code",
   "execution_count": 8,
   "metadata": {},
   "outputs": [
    {
     "name": "stdout",
     "output_type": "stream",
     "text": [
      "C is not less than 10 and D is not greater than 20\n"
     ]
    }
   ],
   "source": [
    " # EXAMPLE 3 a\n",
    "c= 10\n",
    "d= 20\n",
    "\n",
    "if ((c<10) and (d>20)):\n",
    "    print(' c is less  and d is greater ')\n",
    "else:\n",
    "    print('C is not less than 10 and D is not greater than 20')"
   ]
  },
  {
   "cell_type": "code",
   "execution_count": 12,
   "metadata": {},
   "outputs": [
    {
     "name": "stdout",
     "output_type": "stream",
     "text": [
      " c is less than 10  and d is greater 20 \n"
     ]
    }
   ],
   "source": [
    "# EXAMPLE 3 b\n",
    "\n",
    "c= 8\n",
    "d= 22\n",
    "\n",
    "if ((c<10) and (d>20)):\n",
    "    print(' c is less than 10  and d is greater 20 ')\n",
    "else:\n",
    "    print('C is not less than 10 and D is not greater than 20')"
   ]
  },
  {
   "cell_type": "code",
   "execution_count": 20,
   "metadata": {},
   "outputs": [
    {
     "name": "stdout",
     "output_type": "stream",
     "text": [
      "Enter your Percentage 80\n",
      "Pass\n"
     ]
    }
   ],
   "source": [
    "# Assign a Grade\n",
    "\n",
    "grade = None\n",
    "\n",
    "per = float(input('Enter your Percentage '));\n",
    "if ((per>=80) and (per>=70) and (per>=60) and (per>=50)):\n",
    "    print(\"Pass\")\n",
    "else:\n",
    "    print('Fail')"
   ]
  },
  {
   "cell_type": "code",
   "execution_count": 22,
   "metadata": {},
   "outputs": [
    {
     "name": "stdout",
     "output_type": "stream",
     "text": [
      "Enter your Percentage 64\n",
      "Fail\n"
     ]
    }
   ],
   "source": [
    "# Assign a Grade\n",
    "\n",
    "grade = None\n",
    "\n",
    "per = float(input('Enter your Percentage '));\n",
    "if ((per>=80) and (per>=70) and (per>=60) and (per>=50)):\n",
    "    print(\"Pass\")\n",
    "else:\n",
    "    print('Fail')"
   ]
  },
  {
   "cell_type": "code",
   "execution_count": null,
   "metadata": {},
   "outputs": [],
   "source": [
    "# fail... because first assing percent is 64 but the above percent is 80..."
   ]
  },
  {
   "cell_type": "markdown",
   "metadata": {},
   "source": [
    "# 2: OR OPERATOR"
   ]
  },
  {
   "cell_type": "code",
   "execution_count": null,
   "metadata": {},
   "outputs": [],
   "source": [
    "# or operator returns True if either of the operands is True.\n",
    "\n",
    "# Likely a addition\n",
    "                \n",
    "    #True (1)   False (0)\n",
    "    # (+)         (-)\n",
    "    \n",
    "#  True(1)     True(1)    = True(1)\n",
    "\n",
    "#  True(1)     False(0)  = True(1) \n",
    "\n",
    "#  False(0)   True(1)    = True(1) \n",
    "\n",
    "#  False(0)   False(0)  = False(0) \n",
    "#"
   ]
  },
  {
   "cell_type": "code",
   "execution_count": 18,
   "metadata": {},
   "outputs": [
    {
     "name": "stdout",
     "output_type": "stream",
     "text": [
      "Enter your Percentage40\n",
      "Fail\n"
     ]
    }
   ],
   "source": [
    "# Assign a Grade\n",
    "\n",
    "grade = None\n",
    "\n",
    "per = float(input('Enter your Percentage '));\n",
    "if ((per>=80) or (per>=70) or (per>=60) or (per>=50)):\n",
    "    print(\"Pass\")\n",
    "else:\n",
    "    print('Fail')"
   ]
  },
  {
   "cell_type": "code",
   "execution_count": 1,
   "metadata": {},
   "outputs": [
    {
     "name": "stdout",
     "output_type": "stream",
     "text": [
      "Same\n"
     ]
    }
   ],
   "source": [
    "# # EXAMPLE \n",
    "a = 100\n",
    "b = 120\n",
    "\n",
    "if ((a==100) and (b==120)):\n",
    "    print('Same');"
   ]
  },
  {
   "cell_type": "code",
   "execution_count": 5,
   "metadata": {},
   "outputs": [
    {
     "name": "stdout",
     "output_type": "stream",
     "text": [
      "not same\n"
     ]
    }
   ],
   "source": [
    "# # EXAMPLE \n",
    "\n",
    "a = 100\n",
    "b = 120\n",
    "\n",
    "if ((a==100) and (not(b==120))):\n",
    "    # a== 100 and  b not equal to 120\n",
    "    \n",
    "    print('Same');\n",
    "else:         # but b is 120\n",
    "    print('not same')  "
   ]
  },
  {
   "cell_type": "code",
   "execution_count": 6,
   "metadata": {},
   "outputs": [
    {
     "name": "stdout",
     "output_type": "stream",
     "text": [
      "Same\n"
     ]
    }
   ],
   "source": [
    "# # EXAMPLE \n",
    "\n",
    "a = 100\n",
    "b = 100\n",
    "\n",
    "if ((a==100) and (not(b==120))):\n",
    "    # a== 100 and  b not equal to 120\n",
    "    \n",
    "    print('Same');    # but b is not equal to 120\n",
    "else:        \n",
    "    print('not same')  "
   ]
  },
  {
   "cell_type": "markdown",
   "metadata": {},
   "source": [
    "# BITWISE OPERATORS\n",
    "       -   bitwise operators work only on integers."
   ]
  },
  {
   "cell_type": "code",
   "execution_count": null,
   "metadata": {},
   "outputs": [],
   "source": [
    "# bitwise operators are used to performing bitwise calculations on integers.\n",
    "# The integers are first converted into binary and \n",
    "# then operations are performed on bit by bit,\n",
    "# hence the name bitwise operators. \n",
    "# Then the result is returned in decimal format"
   ]
  },
  {
   "cell_type": "code",
   "execution_count": 7,
   "metadata": {},
   "outputs": [],
   "source": [
    "#  Decimal    Binary\n",
    "\n",
    "# 0            0000\n",
    "# 1            0001\n",
    "# 2            0010\n",
    "# 3            0011\n",
    "# 4            0100\n",
    "# 5            0101\n",
    "# 6            0110\n",
    "# 7            1111\n",
    "# 8            1000\n",
    "# 9            1001\n",
    "# 10           1010\n",
    "# 11           1011\n",
    "# 12           1100\n",
    "# 13           1101\n",
    "# 14           1110\n",
    "# 15           1111\n",
    "#"
   ]
  },
  {
   "cell_type": "markdown",
   "metadata": {},
   "source": [
    "# 1: Compliment Bitwise operation ( ~ ) (Tilde)."
   ]
  },
  {
   "cell_type": "code",
   "execution_count": null,
   "metadata": {},
   "outputs": [],
   "source": [
    "# bitwise complement operator is a unary operator (works on only one operand).\n",
    "# It takes one number and inverts all bits of it. \n",
    "# When bitwise operator is applied on bits then, \n",
    "# all the 1's become 0's and vice versa"
   ]
  },
  {
   "cell_type": "code",
   "execution_count": 12,
   "metadata": {},
   "outputs": [
    {
     "data": {
      "text/plain": [
       "-13"
      ]
     },
     "execution_count": 12,
     "metadata": {},
     "output_type": "execute_result"
    }
   ],
   "source": [
    " ~12"
   ]
  },
  {
   "cell_type": "code",
   "execution_count": 10,
   "metadata": {},
   "outputs": [
    {
     "data": {
      "text/plain": [
       "-3"
      ]
     },
     "execution_count": 10,
     "metadata": {},
     "output_type": "execute_result"
    }
   ],
   "source": [
    "~2"
   ]
  },
  {
   "cell_type": "markdown",
   "metadata": {},
   "source": [
    "# Ampersand (&) Bitwise operators"
   ]
  },
  {
   "cell_type": "code",
   "execution_count": null,
   "metadata": {},
   "outputs": [],
   "source": [
    "#‘&’ is a bitwise operator in Python that acts on bits \n",
    "# and performs bit by bit operation."
   ]
  },
  {
   "cell_type": "code",
   "execution_count": null,
   "metadata": {},
   "outputs": [],
   "source": [
    "# Binary Multiplication\n",
    "\n",
    "# a   b   multiplication\n",
    "\n",
    "# 0   0      0\n",
    "# 0   1      0\n",
    "# 1   0      1\n",
    "# 1   1      1\n",
    "#"
   ]
  },
  {
   "cell_type": "code",
   "execution_count": 3,
   "metadata": {},
   "outputs": [
    {
     "data": {
      "text/plain": [
       "0"
      ]
     },
     "execution_count": 3,
     "metadata": {},
     "output_type": "execute_result"
    }
   ],
   "source": [
    "a = 10;        # binary ____ 1010\n",
    "b = 4;         # binary ____ 0100\n",
    "               #            ______\n",
    "      # a and b              0000      multiply\n",
    "               #            ______\n",
    "        # convert            8421\n",
    "                         # + \n",
    "                         # = 0\n",
    "a&b\n",
    "\n",
    " \n",
    "\n"
   ]
  },
  {
   "cell_type": "code",
   "execution_count": 2,
   "metadata": {},
   "outputs": [
    {
     "data": {
      "text/plain": [
       "12"
      ]
     },
     "execution_count": 2,
     "metadata": {},
     "output_type": "execute_result"
    }
   ],
   "source": [
    "c= 12          # binary  1100\n",
    "d=13          # binary   1101\n",
    "             #  _______________       multiply\n",
    "#  12 and 13             1100\n",
    "             # _________________\n",
    "#  Convert               8421\n",
    "                      # +__\n",
    "                    #   12\n",
    "c&d"
   ]
  },
  {
   "cell_type": "code",
   "execution_count": 5,
   "metadata": {},
   "outputs": [
    {
     "data": {
      "text/plain": [
       "0"
      ]
     },
     "execution_count": 5,
     "metadata": {},
     "output_type": "execute_result"
    }
   ],
   "source": [
    "e = 6       #   0110\n",
    "f = 8       #   1000\n",
    "            #  _______\n",
    " # 6 & 8        0000\n",
    "    #         _______\n",
    " # convert      8421\n",
    "      # +       0\n",
    "    \n",
    "e&f"
   ]
  },
  {
   "cell_type": "code",
   "execution_count": 6,
   "metadata": {},
   "outputs": [
    {
     "data": {
      "text/plain": [
       "11"
      ]
     },
     "execution_count": 6,
     "metadata": {},
     "output_type": "execute_result"
    }
   ],
   "source": [
    "g = 11  #      1011\n",
    "h = 15  #      1111\n",
    "    #          _____    multiply\n",
    "    # g & h    1011\n",
    "    #          _____\n",
    "    #convert   8421\n",
    "    # +        _ __\n",
    "               #11\n",
    "\n",
    "g&h"
   ]
  },
  {
   "cell_type": "markdown",
   "metadata": {},
   "source": [
    "##  2: Pipe / or operator\n",
    "# Bitwise inclusive OR operator |"
   ]
  },
  {
   "cell_type": "code",
   "execution_count": null,
   "metadata": {},
   "outputs": [],
   "source": [
    "# A pipe is a method to pass information from one process to another process."
   ]
  },
  {
   "cell_type": "code",
   "execution_count": null,
   "metadata": {},
   "outputs": [],
   "source": [
    "# bINARY ADDITION\n",
    "\n",
    "#  a     b      addition\n",
    "\n",
    "#  0     0         0\n",
    "#  0     1         1\n",
    "#  1     0         1\n",
    "#  1     1         10"
   ]
  },
  {
   "cell_type": "code",
   "execution_count": 7,
   "metadata": {},
   "outputs": [
    {
     "data": {
      "text/plain": [
       "13"
      ]
     },
     "execution_count": 7,
     "metadata": {},
     "output_type": "execute_result"
    }
   ],
   "source": [
    "a = 12  #  1100\n",
    "b = 13  #  1101\n",
    "\n",
    "    \n",
    "\n",
    "12 | 13\n"
   ]
  },
  {
   "cell_type": "markdown",
   "metadata": {},
   "source": [
    "# Bitwise Xor operators (^)"
   ]
  },
  {
   "cell_type": "code",
   "execution_count": null,
   "metadata": {},
   "outputs": [],
   "source": [
    "# The bitwise XOR operator ( ^ ) returns a 1 in each bit position for which\n",
    "# the corresponding bits of either but not both operands are 1 s."
   ]
  },
  {
   "cell_type": "code",
   "execution_count": null,
   "metadata": {},
   "outputs": [],
   "source": [
    "# Binary SUbstraction\n",
    "\n",
    "# a    b     subs\n",
    "\n",
    "#  1    1       0\n",
    "#  0    0       0\n",
    "#  1    0       1\n",
    "#  0    1       1"
   ]
  },
  {
   "cell_type": "code",
   "execution_count": 8,
   "metadata": {},
   "outputs": [
    {
     "data": {
      "text/plain": [
       "1"
      ]
     },
     "execution_count": 8,
     "metadata": {},
     "output_type": "execute_result"
    }
   ],
   "source": [
    "12 ^ 13\n",
    "   \n",
    "    # binary 12       1100\n",
    "    # binary 13       1101\n",
    "            #         ____   subs\n",
    "            #         0001\n",
    "            \n",
    "        #convert to   8421  deciml\n",
    "        # add            _"
   ]
  },
  {
   "cell_type": "markdown",
   "metadata": {},
   "source": [
    " #   Bitwise Left Shift  ( << )"
   ]
  },
  {
   "cell_type": "code",
   "execution_count": null,
   "metadata": {},
   "outputs": [],
   "source": [
    "# The left operand specifies the value to be shifted. \n",
    "# The right operand specifies the number of positions \n",
    "# that the bits in the value are to be shifted"
   ]
  },
  {
   "cell_type": "code",
   "execution_count": 9,
   "metadata": {},
   "outputs": [
    {
     "data": {
      "text/plain": [
       "40"
      ]
     },
     "execution_count": 9,
     "metadata": {},
     "output_type": "execute_result"
    }
   ],
   "source": [
    " 10 << 2\n",
    "     \n",
    "        # binaryy 10     1010\n",
    "    # left shift 2     1010 00  =>    1  0  1 0  0  0\n",
    "     #                               32 16  8 4  2  1\n",
    "       #                add          __     _\n",
    "       #                            32   +  8\n",
    "        #                               40"
   ]
  },
  {
   "cell_type": "markdown",
   "metadata": {},
   "source": [
    "# Bitwise Right Shift ( >>)"
   ]
  },
  {
   "cell_type": "code",
   "execution_count": null,
   "metadata": {},
   "outputs": [],
   "source": [
    "# Indicates the bits are to be shifted to the right."
   ]
  },
  {
   "cell_type": "code",
   "execution_count": 10,
   "metadata": {},
   "outputs": [
    {
     "data": {
      "text/plain": [
       "2"
      ]
     },
     "execution_count": 10,
     "metadata": {},
     "output_type": "execute_result"
    }
   ],
   "source": [
    " 10 >> 2\n",
    "       # binaryy 10     1010\n",
    "    # right shift 2    00 1010   =>   0  0  1  0  1 0  \n",
    "     #                               32 16  8  4  2  1\n",
    "       #                add                 _     _\n",
    "       #                            \n",
    "        #                               "
   ]
  },
  {
   "cell_type": "code",
   "execution_count": 11,
   "metadata": {},
   "outputs": [
    {
     "data": {
      "text/plain": [
       "10"
      ]
     },
     "execution_count": 11,
     "metadata": {},
     "output_type": "execute_result"
    }
   ],
   "source": [
    "\n",
    "\n",
    "40 >> 2"
   ]
  },
  {
   "cell_type": "markdown",
   "metadata": {},
   "source": [
    "# SHORT CUT METHODD FOR BITWISE SHIFTS"
   ]
  },
  {
   "cell_type": "code",
   "execution_count": 12,
   "metadata": {},
   "outputs": [
    {
     "data": {
      "text/plain": [
       "15"
      ]
     },
     "execution_count": 12,
     "metadata": {},
     "output_type": "execute_result"
    }
   ],
   "source": [
    "# right shift bitwise\n",
    "\n",
    "500 >> 5    "
   ]
  },
  {
   "cell_type": "code",
   "execution_count": 13,
   "metadata": {},
   "outputs": [
    {
     "data": {
      "text/plain": [
       "32"
      ]
     },
     "execution_count": 13,
     "metadata": {},
     "output_type": "execute_result"
    }
   ],
   "source": [
    "# how ?\n",
    "\n",
    "2**5"
   ]
  },
  {
   "cell_type": "code",
   "execution_count": 15,
   "metadata": {},
   "outputs": [
    {
     "data": {
      "text/plain": [
       "15"
      ]
     },
     "execution_count": 15,
     "metadata": {},
     "output_type": "execute_result"
    }
   ],
   "source": [
    "500//32\n"
   ]
  },
  {
   "cell_type": "code",
   "execution_count": 16,
   "metadata": {},
   "outputs": [
    {
     "data": {
      "text/plain": [
       "1664"
      ]
     },
     "execution_count": 16,
     "metadata": {},
     "output_type": "execute_result"
    }
   ],
   "source": [
    "# example Left shift\n",
    "\n",
    "52<<5\n"
   ]
  },
  {
   "cell_type": "code",
   "execution_count": 17,
   "metadata": {},
   "outputs": [
    {
     "data": {
      "text/plain": [
       "32"
      ]
     },
     "execution_count": 17,
     "metadata": {},
     "output_type": "execute_result"
    }
   ],
   "source": [
    "# How\n",
    "\n",
    "2**5"
   ]
  },
  {
   "cell_type": "code",
   "execution_count": 22,
   "metadata": {},
   "outputs": [
    {
     "data": {
      "text/plain": [
       "1664"
      ]
     },
     "execution_count": 22,
     "metadata": {},
     "output_type": "execute_result"
    }
   ],
   "source": [
    "32*52"
   ]
  }
 ],
 "metadata": {
  "kernelspec": {
   "display_name": "Python 3",
   "language": "python",
   "name": "python3"
  },
  "language_info": {
   "codemirror_mode": {
    "name": "ipython",
    "version": 3
   },
   "file_extension": ".py",
   "mimetype": "text/x-python",
   "name": "python",
   "nbconvert_exporter": "python",
   "pygments_lexer": "ipython3",
   "version": "3.7.6"
  }
 },
 "nbformat": 4,
 "nbformat_minor": 4
}
