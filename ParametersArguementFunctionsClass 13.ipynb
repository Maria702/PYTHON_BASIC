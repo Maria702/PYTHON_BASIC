{
 "cells": [
  {
   "cell_type": "code",
   "execution_count": 1,
   "metadata": {},
   "outputs": [
    {
     "name": "stdout",
     "output_type": "stream",
     "text": [
      "Enter a number: 2\n",
      "The Square 2 is 4\n"
     ]
    }
   ],
   "source": [
    "def square():   #parameter\n",
    "    num= int(input('Enter a number: '));\n",
    "    print(f'The Square {num} is {num*2}');\n",
    "square()"
   ]
  },
  {
   "cell_type": "code",
   "execution_count": 2,
   "metadata": {},
   "outputs": [
    {
     "name": "stdout",
     "output_type": "stream",
     "text": [
      "Enter a number: 100\n",
      "The Square 100 is 200\n"
     ]
    }
   ],
   "source": [
    "def square():   #parameterless\n",
    "    num= int(input('Enter a number: '));\n",
    "    print(f'The Square {num} is {num*2}');\n",
    "square()"
   ]
  },
  {
   "cell_type": "code",
   "execution_count": 3,
   "metadata": {},
   "outputs": [],
   "source": [
    "def area_square():\n",
    "    length = int(input('Enter a length'));\n",
    "    breath = int(input('Enter a breath'));\n",
    "    area = length*breath\n",
    "    print(f\"\"\"\n",
    "    The Area of Square with Length {length}\n",
    "    and The breath {breath} is {area}\n",
    "    \"\"\")"
   ]
  },
  {
   "cell_type": "code",
   "execution_count": 4,
   "metadata": {},
   "outputs": [
    {
     "name": "stdout",
     "output_type": "stream",
     "text": [
      "Enter a length50\n",
      "Enter a breath2\n",
      "\n",
      "    The Area of Square with Length 50\n",
      "    and The breath 2 is 100\n",
      "    \n"
     ]
    }
   ],
   "source": [
    "area_square()"
   ]
  },
  {
   "cell_type": "markdown",
   "metadata": {},
   "source": [
    "# Parameters and Arguement of a functions: "
   ]
  },
  {
   "cell_type": "markdown",
   "metadata": {},
   "source": [
    "  - The terms parameter and argument can be used for the same thing: information that are passed into a function.\n",
    " \n",
    " - A parameter is the variable listed inside the parentheses in the function definition.\n",
    "\n",
    "   - An argument is the value that are sent to the function when it is called."
   ]
  },
  {
   "cell_type": "code",
   "execution_count": 7,
   "metadata": {},
   "outputs": [],
   "source": [
    "# eos = year of service\n",
    "\n",
    "def salaryIncreament(name,eos,currentSalary): # parameter\n",
    "    # if an employee has been working for more than 1 year\n",
    "    # if salary is more than 50k & less than 100k increament 15%\n",
    "    # if salary is less tha 50k increament 20%\n",
    "    # if salary is more than 100k & less than 150k increament 10%\n",
    "    # Other will get 5% increament..\n",
    "    \n",
    "    if eos >=1:       #less than\n",
    "        if (currentSalary< 50000):\n",
    "            increament = currentSalary*0.20\n",
    "            newSalary = currentSalary + increament\n",
    "            \n",
    "        elif((currentSalary>=50000) and (currentSalary<100000)):\n",
    "            increament = currentSalary*0.15\n",
    "            newSalary = currentSalary + increament\n",
    "            \n",
    "        elif((currentSalary>=100000) and (currentSalary<150000)):\n",
    "            increament = currentSalary*0.10\n",
    "            newSalary = currentSalary + increament\n",
    "        else:\n",
    "            increament = currentSalary*0.05\n",
    "            newSalary = currentSalary + increament\n",
    "        print(f\"\"\"\n",
    "        Name of Employee : {name}\n",
    "        Year of Service  : {eos}\n",
    "        Current Salary   : {currentSalary}\n",
    "        Increament Amount : {increament}\n",
    "        New Salary        : {newSalary}\"\"\")\n",
    "    else:\n",
    "        print('There is no increament for you this year')\n",
    "       \n",
    "    "
   ]
  },
  {
   "cell_type": "code",
   "execution_count": 8,
   "metadata": {},
   "outputs": [
    {
     "ename": "TypeError",
     "evalue": "salaryIncreament() missing 3 required positional arguments: 'name', 'eos', and 'currentSalary'",
     "output_type": "error",
     "traceback": [
      "\u001b[1;31m---------------------------------------------------------------------------\u001b[0m",
      "\u001b[1;31mTypeError\u001b[0m                                 Traceback (most recent call last)",
      "\u001b[1;32m<ipython-input-8-49213cc1d0f5>\u001b[0m in \u001b[0;36m<module>\u001b[1;34m\u001b[0m\n\u001b[0;32m      1\u001b[0m \u001b[1;31m# if parament is given , we will have to pass the arguement..\u001b[0m\u001b[1;33m\u001b[0m\u001b[1;33m\u001b[0m\u001b[1;33m\u001b[0m\u001b[0m\n\u001b[0;32m      2\u001b[0m \u001b[1;33m\u001b[0m\u001b[0m\n\u001b[1;32m----> 3\u001b[1;33m \u001b[0msalaryIncreament\u001b[0m\u001b[1;33m(\u001b[0m\u001b[1;33m)\u001b[0m  \u001b[1;31m# arguement\u001b[0m\u001b[1;33m\u001b[0m\u001b[1;33m\u001b[0m\u001b[0m\n\u001b[0m",
      "\u001b[1;31mTypeError\u001b[0m: salaryIncreament() missing 3 required positional arguments: 'name', 'eos', and 'currentSalary'"
     ]
    }
   ],
   "source": [
    "# if parament is given , we will have to pass the arguement..\n",
    "\n",
    "salaryIncreament()  # arguement"
   ]
  },
  {
   "cell_type": "code",
   "execution_count": 9,
   "metadata": {},
   "outputs": [
    {
     "name": "stdout",
     "output_type": "stream",
     "text": [
      "\n",
      "        Name of Employee : Maria\n",
      "        Year of Service  : 2\n",
      "        Current Salary   : 120000\n",
      "        Increament Amount : 12000.0\n",
      "        New Salary        : 132000.0\n"
     ]
    }
   ],
   "source": [
    " #  salaryIncreament(name,eos,currentSalary)\n",
    "salaryIncreament('Maria',2,120000)"
   ]
  },
  {
   "cell_type": "code",
   "execution_count": 11,
   "metadata": {},
   "outputs": [
    {
     "name": "stdout",
     "output_type": "stream",
     "text": [
      "\n",
      "        Name of Employee : Sheikh\n",
      "        Year of Service  : 5\n",
      "        Current Salary   : 500000\n",
      "        Increament Amount : 25000.0\n",
      "        New Salary        : 525000.0\n"
     ]
    }
   ],
   "source": [
    "salaryIncreament('Sheikh',5,500000)"
   ]
  },
  {
   "cell_type": "code",
   "execution_count": 12,
   "metadata": {},
   "outputs": [
    {
     "name": "stdout",
     "output_type": "stream",
     "text": [
      "There is no increament for you this year\n"
     ]
    }
   ],
   "source": [
    "salaryIncreament('khan',0,35000)"
   ]
  },
  {
   "cell_type": "markdown",
   "metadata": {},
   "source": [
    "# KeyWords Arguement\n",
    "  - Keyword arguments (or named arguments) are values that, when passed into a function, are identifiable by specific parameter names.\n",
    "  \n",
    "  - You can also send arguments with the key = value syntax. his way the order of the arguments does not matter."
   ]
  },
  {
   "cell_type": "code",
   "execution_count": 19,
   "metadata": {},
   "outputs": [
    {
     "name": "stdout",
     "output_type": "stream",
     "text": [
      "The youngest child is Ria\n"
     ]
    }
   ],
   "source": [
    "def my_function(child3, child2, child1):\n",
    "    print(\"The youngest child is \" + child3)\n",
    "\n",
    "my_function(child1 = \"Khan\", child2 = \"Sheikh\", child3 = \"Ria\")"
   ]
  },
  {
   "cell_type": "code",
   "execution_count": 13,
   "metadata": {},
   "outputs": [
    {
     "name": "stdout",
     "output_type": "stream",
     "text": [
      "There is no increament for you this year\n"
     ]
    }
   ],
   "source": [
    "salaryIncreament(name='khan',eos=0,currentSalary=35000) # keyword Arguement"
   ]
  },
  {
   "cell_type": "code",
   "execution_count": 20,
   "metadata": {},
   "outputs": [
    {
     "name": "stdout",
     "output_type": "stream",
     "text": [
      "Help on function salaryIncreament in module __main__:\n",
      "\n",
      "salaryIncreament(name, eos=0, currentSalary=0)\n",
      "\n"
     ]
    }
   ],
   "source": [
    "help(salaryIncreament)"
   ]
  },
  {
   "cell_type": "markdown",
   "metadata": {},
   "source": [
    "# Default Parameter Value\n",
    "\n",
    "    - If we call the function without argument, it uses the default value:"
   ]
  },
  {
   "cell_type": "code",
   "execution_count": 14,
   "metadata": {},
   "outputs": [],
   "source": [
    "# eos = year of service\n",
    "\n",
    "def salaryIncreament(name,eos=0,currentSalary=0): # parameter value use by default\n",
    "    \n",
    "    if eos >=1:       #less than\n",
    "        if (currentSalary< 50000):\n",
    "            increament = currentSalary*0.20\n",
    "            newSalary = currentSalary + increament\n",
    "            \n",
    "        elif((currentSalary>=50000) and (currentSalary<100000)):\n",
    "            increament = currentSalary*0.15\n",
    "            newSalary = currentSalary + increament\n",
    "            \n",
    "        elif((currentSalary>=100000) and (currentSalary<150000)):\n",
    "            increament = currentSalary*0.10\n",
    "            newSalary = currentSalary + increament\n",
    "        else:\n",
    "            increament = currentSalary*0.05\n",
    "            newSalary = currentSalary + increament\n",
    "        print(f\"\"\"\n",
    "        Name of Employee : {name}\n",
    "        Year of Service  : {eos}\n",
    "        Current Salary   : {currentSalary}\n",
    "        Increament Amount : {increament}\n",
    "        New Salary        : {newSalary}\"\"\")\n",
    "    else:\n",
    "        print('There is no increament for you this year')\n",
    "       \n",
    "    "
   ]
  },
  {
   "cell_type": "code",
   "execution_count": 15,
   "metadata": {},
   "outputs": [
    {
     "name": "stdout",
     "output_type": "stream",
     "text": [
      "\n",
      "        Name of Employee : Rehan\n",
      "        Year of Service  : 5\n",
      "        Current Salary   : 0\n",
      "        Increament Amount : 0.0\n",
      "        New Salary        : 0.0\n"
     ]
    }
   ],
   "source": [
    "salaryIncreament(\"Rehan\", 5)"
   ]
  },
  {
   "cell_type": "code",
   "execution_count": 16,
   "metadata": {},
   "outputs": [
    {
     "name": "stdout",
     "output_type": "stream",
     "text": [
      "\n",
      "        Name of Employee : 5\n",
      "        Year of Service  : 60000\n",
      "        Current Salary   : 0\n",
      "        Increament Amount : 0.0\n",
      "        New Salary        : 0.0\n"
     ]
    }
   ],
   "source": [
    "salaryIncreament(5,60000)"
   ]
  },
  {
   "cell_type": "code",
   "execution_count": null,
   "metadata": {},
   "outputs": [],
   "source": [
    "# There is a code bug.. and the solution is keyword arguement and a function.."
   ]
  },
  {
   "cell_type": "code",
   "execution_count": 21,
   "metadata": {},
   "outputs": [
    {
     "name": "stdout",
     "output_type": "stream",
     "text": [
      "Enter employee name: Ria\n",
      "Enter number of years in service: 2\n",
      "Enter current salary of the empployee: 135000\n",
      "\n",
      "        Name of Employee : Ria\n",
      "        Year of Service  : 2.0\n",
      "        Current Salary   : 135000.0\n",
      "        Increament Amount : 13500.0\n",
      "        New Salary        : 148500.0\n"
     ]
    }
   ],
   "source": [
    "name= input(\"Enter employee name: \")\n",
    "eos = float(input(\"Enter number of years in service: \"))\n",
    "currentSalary = float(input(\"Enter current salary of the empployee: \"))\n",
    "\n",
    "salaryIncreament(name,eos,currentSalary)"
   ]
  },
  {
   "cell_type": "code",
   "execution_count": 22,
   "metadata": {},
   "outputs": [
    {
     "name": "stdout",
     "output_type": "stream",
     "text": [
      "Help on function salaryIncreament in module __main__:\n",
      "\n",
      "salaryIncreament(name, eos=0, currentSalary=0)\n",
      "\n"
     ]
    }
   ],
   "source": [
    "help(salaryIncreament)"
   ]
  },
  {
   "cell_type": "code",
   "execution_count": 23,
   "metadata": {},
   "outputs": [
    {
     "name": "stdout",
     "output_type": "stream",
     "text": [
      "Help on built-in function len in module builtins:\n",
      "\n",
      "len(obj, /)\n",
      "    Return the number of items in a container.\n",
      "\n"
     ]
    }
   ],
   "source": [
    "help(len)"
   ]
  },
  {
   "cell_type": "code",
   "execution_count": 24,
   "metadata": {},
   "outputs": [
    {
     "name": "stdout",
     "output_type": "stream",
     "text": [
      "Hello, Mariya!\n"
     ]
    }
   ],
   "source": [
    "def greet_user(username):\n",
    " \"\"\"Display a simple greeting.\"\"\"\n",
    " print(\"Hello, \" + username.title() + \"!\")\n",
    "\n",
    "greet_user('Mariya')"
   ]
  },
  {
   "cell_type": "code",
   "execution_count": 25,
   "metadata": {},
   "outputs": [],
   "source": [
    "def describe_pet(animal_type, pet_name):\n",
    "    \"\"\"Display information about a pet.\"\"\"\n",
    "    print(\"\\nI have a \" + animal_type + \".\")\n",
    "    print(\"My \" + animal_type + \"'s name is \" + pet_name.title() + \".\")"
   ]
  },
  {
   "cell_type": "code",
   "execution_count": 26,
   "metadata": {},
   "outputs": [
    {
     "name": "stdout",
     "output_type": "stream",
     "text": [
      "\n",
      "I have a hamster.\n",
      "My hamster's name is Harry.\n"
     ]
    }
   ],
   "source": [
    "describe_pet('hamster', 'harry')"
   ]
  },
  {
   "cell_type": "markdown",
   "metadata": {},
   "source": [
    "# Function Return Value\n",
    "  - To let a function return a value, use the return statement:"
   ]
  },
  {
   "cell_type": "markdown",
   "metadata": {},
   "source": [
    "  -  Gobal Variable: Can be accessed in and out of function\n",
    "\n",
    "   - Local Variable: local variables are defined and accessed only inside the function"
   ]
  },
  {
   "cell_type": "code",
   "execution_count": 18,
   "metadata": {},
   "outputs": [
    {
     "name": "stdout",
     "output_type": "stream",
     "text": [
      "15\n",
      "25\n",
      "45\n"
     ]
    }
   ],
   "source": [
    "def my_function(x):\n",
    "    return 5 * x\n",
    "\n",
    "print(my_function(3))\n",
    "print(my_function(5))\n",
    "print(my_function(9))"
   ]
  },
  {
   "cell_type": "code",
   "execution_count": 34,
   "metadata": {},
   "outputs": [
    {
     "name": "stdout",
     "output_type": "stream",
     "text": [
      "The square of a 5 is  10\n"
     ]
    }
   ],
   "source": [
    "def squareVal(num):    # parameterized function..\n",
    "    \"\"\"The function takes a numeric value and \n",
    "    print the square of the value\"\"\"   # docString\n",
    "    countryName = 'Pakistan'    # local variable\n",
    "    square = num * 2     # local variable\n",
    "    print(f\"The square of a {num} is  {square}\")\n",
    "squareVal(5)"
   ]
  },
  {
   "cell_type": "code",
   "execution_count": 33,
   "metadata": {},
   "outputs": [
    {
     "name": "stdout",
     "output_type": "stream",
     "text": [
      "<function square at 0x0606BC90>\n"
     ]
    }
   ],
   "source": [
    "print(square)"
   ]
  },
  {
   "cell_type": "code",
   "execution_count": 35,
   "metadata": {},
   "outputs": [
    {
     "ename": "NameError",
     "evalue": "name 'countryName' is not defined",
     "output_type": "error",
     "traceback": [
      "\u001b[1;31m---------------------------------------------------------------------------\u001b[0m",
      "\u001b[1;31mNameError\u001b[0m                                 Traceback (most recent call last)",
      "\u001b[1;32m<ipython-input-35-224c51bd5810>\u001b[0m in \u001b[0;36m<module>\u001b[1;34m\u001b[0m\n\u001b[1;32m----> 1\u001b[1;33m \u001b[0mprint\u001b[0m\u001b[1;33m(\u001b[0m\u001b[0mcountryName\u001b[0m\u001b[1;33m)\u001b[0m\u001b[1;33m\u001b[0m\u001b[1;33m\u001b[0m\u001b[0m\n\u001b[0m",
      "\u001b[1;31mNameError\u001b[0m: name 'countryName' is not defined"
     ]
    }
   ],
   "source": [
    "print(countryName)"
   ]
  },
  {
   "cell_type": "code",
   "execution_count": null,
   "metadata": {},
   "outputs": [],
   "source": [
    "\"\"\" those variable which is the define inside the function, we can use inside\n",
    "the body. cant use inside the body..\n",
    "\"\"\" "
   ]
  },
  {
   "cell_type": "code",
   "execution_count": 39,
   "metadata": {},
   "outputs": [
    {
     "name": "stdout",
     "output_type": "stream",
     "text": [
      "The square of a 5 is  10 which is local variable\n",
      "The Globle variable is 20\n"
     ]
    }
   ],
   "source": [
    "a = 20  # global variable\n",
    "\n",
    "def squareVal(num):    # parameterized function..\n",
    "    \"\"\"The function takes a numeric value and \n",
    "    print the square of the value\"\"\"   # docString\n",
    "    countryName = 'Pakistan'   # local variable\n",
    "    square = num * 2     # local variable\n",
    "    print(f\"The square of a {num} is  {square} which is local variable\")\n",
    "    print(f'The Globle variable is {a}')\n",
    "squareVal(5)"
   ]
  },
  {
   "cell_type": "code",
   "execution_count": 37,
   "metadata": {},
   "outputs": [
    {
     "name": "stdout",
     "output_type": "stream",
     "text": [
      "20\n"
     ]
    }
   ],
   "source": [
    "# # global variable, we can get anywhere..\n",
    "print(a)"
   ]
  },
  {
   "cell_type": "code",
   "execution_count": 47,
   "metadata": {},
   "outputs": [],
   "source": [
    "def circumferenceVal(radius):\n",
    "    circumference = 2*3.142*radius\n",
    "     # ksi local variable ki value ko function se bahar access karne k liye\n",
    "    # return k through bahar nikalenge\n",
    "    return circumference"
   ]
  },
  {
   "cell_type": "code",
   "execution_count": 51,
   "metadata": {},
   "outputs": [
    {
     "name": "stdout",
     "output_type": "stream",
     "text": [
      "12.568\n"
     ]
    }
   ],
   "source": [
    "Val_of_circum = circumference(10)\n",
    "print(val_of_circum)"
   ]
  },
  {
   "cell_type": "code",
   "execution_count": null,
   "metadata": {},
   "outputs": [],
   "source": [
    "def circumferenceVal(radius):\n",
    "    circumference = 2*3.142*radius\n",
    "     # ksi local variable ki value ko function se bahar access karne k liye\n",
    "    # return k through bahar nikalenge\n",
    "    # return circumference   #if we not return the value"
   ]
  },
  {
   "cell_type": "code",
   "execution_count": 54,
   "metadata": {},
   "outputs": [
    {
     "name": "stdout",
     "output_type": "stream",
     "text": [
      "62.839999999999996\n"
     ]
    }
   ],
   "source": [
    "val_of_circum = circumference(10)\n",
    "print(val_of_circum)"
   ]
  },
  {
   "cell_type": "code",
   "execution_count": null,
   "metadata": {},
   "outputs": [],
   "source": [
    "def circumferenceVal(radius):\n",
    "    circumference = 2*3.142*radius\n",
    "     # ksi local variable ki value ko function se bahar access karne k liye\n",
    "    # return k through bahar nikalenge\n",
    "     return    # write only return"
   ]
  },
  {
   "cell_type": "code",
   "execution_count": 55,
   "metadata": {},
   "outputs": [
    {
     "data": {
      "text/plain": [
       "62.839999999999996"
      ]
     },
     "execution_count": 55,
     "metadata": {},
     "output_type": "execute_result"
    }
   ],
   "source": [
    "circumference(10)"
   ]
  }
 ],
 "metadata": {
  "kernelspec": {
   "display_name": "Python 3",
   "language": "python",
   "name": "python3"
  },
  "language_info": {
   "codemirror_mode": {
    "name": "ipython",
    "version": 3
   },
   "file_extension": ".py",
   "mimetype": "text/x-python",
   "name": "python",
   "nbconvert_exporter": "python",
   "pygments_lexer": "ipython3",
   "version": "3.7.6"
  }
 },
 "nbformat": 4,
 "nbformat_minor": 4
}
