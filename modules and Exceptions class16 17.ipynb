{
 "cells": [
  {
   "cell_type": "markdown",
   "metadata": {},
   "source": [
    "# Modules / Libraries / packages...."
   ]
  },
  {
   "cell_type": "markdown",
   "metadata": {},
   "source": [
    "    - Modules refer to a file containing Python statements and definitions. A file containing Python code\n",
    "    \n",
    "    -This module provides access to the mathematical functions defined by    the C standard."
   ]
  },
  {
   "cell_type": "code",
   "execution_count": 3,
   "metadata": {},
   "outputs": [],
   "source": [
    "import math    # this is module"
   ]
  },
  {
   "cell_type": "code",
   "execution_count": 4,
   "metadata": {},
   "outputs": [
    {
     "data": {
      "text/plain": [
       "3"
      ]
     },
     "execution_count": 4,
     "metadata": {},
     "output_type": "execute_result"
    }
   ],
   "source": [
    "# Return the ceiling of x as an Integral.\n",
    "# This is the smallest integer >= x.\n",
    "\n",
    "math.ceil(2.7)"
   ]
  },
  {
   "cell_type": "code",
   "execution_count": 6,
   "metadata": {},
   "outputs": [
    {
     "data": {
      "text/plain": [
       "6"
      ]
     },
     "execution_count": 6,
     "metadata": {},
     "output_type": "execute_result"
    }
   ],
   "source": [
    "math.ceil(5.66666666)"
   ]
  },
  {
   "cell_type": "code",
   "execution_count": 7,
   "metadata": {},
   "outputs": [
    {
     "data": {
      "text/plain": [
       "9"
      ]
     },
     "execution_count": 7,
     "metadata": {},
     "output_type": "execute_result"
    }
   ],
   "source": [
    "# Return the floor of x as an Integral.\n",
    "# This is the largest integer <= x.\n",
    "\n",
    "math.floor(9.2)"
   ]
  },
  {
   "cell_type": "code",
   "execution_count": 8,
   "metadata": {},
   "outputs": [
    {
     "data": {
      "text/plain": [
       "9"
      ]
     },
     "execution_count": 8,
     "metadata": {},
     "output_type": "execute_result"
    }
   ],
   "source": [
    "math.floor(9.666)"
   ]
  },
  {
   "cell_type": "code",
   "execution_count": 9,
   "metadata": {},
   "outputs": [
    {
     "data": {
      "text/plain": [
       "20.085536923187668"
      ]
     },
     "execution_count": 9,
     "metadata": {},
     "output_type": "execute_result"
    }
   ],
   "source": [
    "# Return e raised to the power of x.\n",
    "\n",
    "math.exp(3)"
   ]
  },
  {
   "cell_type": "code",
   "execution_count": 10,
   "metadata": {},
   "outputs": [
    {
     "data": {
      "text/plain": [
       "7.38905609893065"
      ]
     },
     "execution_count": 10,
     "metadata": {},
     "output_type": "execute_result"
    }
   ],
   "source": [
    "math.exp(2)"
   ]
  },
  {
   "cell_type": "code",
   "execution_count": 11,
   "metadata": {},
   "outputs": [
    {
     "data": {
      "text/plain": [
       "2.0"
      ]
     },
     "execution_count": 11,
     "metadata": {},
     "output_type": "execute_result"
    }
   ],
   "source": [
    "#  Return fmod(x, y), according to platform C. / return remainder.\n",
    "\n",
    "math.fmod(2,3)"
   ]
  },
  {
   "cell_type": "code",
   "execution_count": 2,
   "metadata": {},
   "outputs": [],
   "source": [
    "import mymodule"
   ]
  },
  {
   "cell_type": "code",
   "execution_count": 3,
   "metadata": {},
   "outputs": [
    {
     "name": "stdout",
     "output_type": "stream",
     "text": [
      "i am in the code\n"
     ]
    },
    {
     "data": {
      "text/plain": [
       "(100, 'i am square of 10')"
      ]
     },
     "execution_count": 3,
     "metadata": {},
     "output_type": "execute_result"
    }
   ],
   "source": [
    "mymodule.square_of_a_num(10)"
   ]
  },
  {
   "cell_type": "code",
   "execution_count": 4,
   "metadata": {},
   "outputs": [
    {
     "data": {
      "text/plain": [
       "{'artist': 'MARIA', 'album': 'Python', 'tracks': 6}"
      ]
     },
     "execution_count": 4,
     "metadata": {},
     "output_type": "execute_result"
    }
   ],
   "source": [
    "mymodule.make_album('MARIA', \"Python\", 6)"
   ]
  },
  {
   "cell_type": "code",
   "execution_count": 5,
   "metadata": {},
   "outputs": [
    {
     "data": {
      "text/plain": [
       "{'artist': 'rabia', 'album': 'web', 'tracks': 10}"
      ]
     },
     "execution_count": 5,
     "metadata": {},
     "output_type": "execute_result"
    }
   ],
   "source": [
    "mymodule.make_album('rabia','web',10)"
   ]
  },
  {
   "cell_type": "code",
   "execution_count": 7,
   "metadata": {},
   "outputs": [
    {
     "data": {
      "text/plain": [
       "{'artist': 'rabia', 'album': 'web', 'tracks': 10}"
      ]
     },
     "execution_count": 7,
     "metadata": {},
     "output_type": "execute_result"
    }
   ],
   "source": [
    "myNewAlbum = mymodule.make_album('rabia','web',10)\n",
    "myNewAlbum"
   ]
  },
  {
   "cell_type": "code",
   "execution_count": 9,
   "metadata": {},
   "outputs": [
    {
     "name": "stdout",
     "output_type": "stream",
     "text": [
      "Modules start here\n",
      "Modules interprated successfully..\n"
     ]
    }
   ],
   "source": [
    "# %load mymodule.py\n",
    "print(\"Modules start here\");\n",
    "\n",
    "def make_album(artist_name,album_title, num_of_tracks=\"\"):\n",
    "    \"\"\"This function takes two mandatory parameters:\n",
    "    artist_name,\n",
    "    album_title, \n",
    "    and one optional parameter\n",
    "    num_of_tracks\n",
    "     \n",
    "    it will return a  dictionary whose keys will be\n",
    "    artist and album\n",
    "    whose value will be the arguemnt provided by the user during function call\n",
    "    \"\"\"\n",
    "    album_dic ={'artist':artist_name, 'album':album_title}\n",
    "    if num_of_tracks:\n",
    "        album_dic['tracks']=num_of_tracks\n",
    "    return album_dic\n",
    "\n",
    "def square_of_a_num(num):\n",
    "    '''This function takes one mandatory parameter:\n",
    "    number.\n",
    "    \n",
    "     it will return a square root'''\n",
    "    square = num**2\n",
    "    print('i am in the code')  # print before return\n",
    "    return square , f\"i am square of {num}\"\n",
    "\n",
    "def meter_to_km(distance_in_meters):\n",
    "    distane_in_km = distance_in_meters/1000\n",
    "    return distane_in_km\n",
    "    \n",
    "print(\"Modules interprated successfully..\");       "
   ]
  },
  {
   "cell_type": "markdown",
   "metadata": {},
   "source": [
    "# Exception"
   ]
  },
  {
   "cell_type": "markdown",
   "metadata": {},
   "source": [
    "  - An exception is a Python object that represents an error."
   ]
  },
  {
   "cell_type": "markdown",
   "metadata": {},
   "source": [
    "\"Exception are discussed in private.\""
   ]
  },
  {
   "cell_type": "markdown",
   "metadata": {},
   "source": [
    "valid syntax: an integar can divide another integar\n",
    "12/12 3/  5/6\n",
    "    but 0 which is also an integar but cant divide any integar"
   ]
  },
  {
   "cell_type": "code",
   "execution_count": 1,
   "metadata": {},
   "outputs": [
    {
     "ename": "ZeroDivisionError",
     "evalue": "division by zero",
     "output_type": "error",
     "traceback": [
      "\u001b[1;31m---------------------------------------------------------------------------\u001b[0m",
      "\u001b[1;31mZeroDivisionError\u001b[0m                         Traceback (most recent call last)",
      "\u001b[1;32m<ipython-input-1-dd97ac5c07e9>\u001b[0m in \u001b[0;36m<module>\u001b[1;34m\u001b[0m\n\u001b[1;32m----> 1\u001b[1;33m \u001b[1;36m15\u001b[0m\u001b[1;33m/\u001b[0m\u001b[1;36m0\u001b[0m\u001b[1;33m\u001b[0m\u001b[1;33m\u001b[0m\u001b[0m\n\u001b[0m",
      "\u001b[1;31mZeroDivisionError\u001b[0m: division by zero"
     ]
    }
   ],
   "source": [
    "15/0"
   ]
  },
  {
   "cell_type": "code",
   "execution_count": 2,
   "metadata": {},
   "outputs": [
    {
     "name": "stdout",
     "output_type": "stream",
     "text": [
      "Tell me a numbere\n"
     ]
    },
    {
     "ename": "ValueError",
     "evalue": "invalid literal for int() with base 10: 'e'",
     "output_type": "error",
     "traceback": [
      "\u001b[1;31m---------------------------------------------------------------------------\u001b[0m",
      "\u001b[1;31mValueError\u001b[0m                                Traceback (most recent call last)",
      "\u001b[1;32m<ipython-input-2-9861451f610c>\u001b[0m in \u001b[0;36m<module>\u001b[1;34m\u001b[0m\n\u001b[1;32m----> 1\u001b[1;33m \u001b[0ma\u001b[0m \u001b[1;33m=\u001b[0m \u001b[0mint\u001b[0m\u001b[1;33m(\u001b[0m\u001b[0minput\u001b[0m\u001b[1;33m(\u001b[0m\u001b[1;34m'Tell me a number'\u001b[0m\u001b[1;33m)\u001b[0m\u001b[1;33m)\u001b[0m\u001b[1;33m\u001b[0m\u001b[1;33m\u001b[0m\u001b[0m\n\u001b[0m\u001b[0;32m      2\u001b[0m \u001b[0ma\u001b[0m\u001b[1;33m\u001b[0m\u001b[1;33m\u001b[0m\u001b[0m\n",
      "\u001b[1;31mValueError\u001b[0m: invalid literal for int() with base 10: 'e'"
     ]
    }
   ],
   "source": [
    "# we are getting number from user.. but user is typing an alphabet..\n",
    "# its called \"ValueError\"\n",
    "\n",
    "\n",
    "a = int(input('Tell me a number'))\n",
    "a"
   ]
  },
  {
   "cell_type": "code",
   "execution_count": 4,
   "metadata": {},
   "outputs": [
    {
     "name": "stdout",
     "output_type": "stream",
     "text": [
      "Tell me a number2\n",
      "Tell me a number0\n"
     ]
    },
    {
     "ename": "ZeroDivisionError",
     "evalue": "division by zero",
     "output_type": "error",
     "traceback": [
      "\u001b[1;31m---------------------------------------------------------------------------\u001b[0m",
      "\u001b[1;31mZeroDivisionError\u001b[0m                         Traceback (most recent call last)",
      "\u001b[1;32m<ipython-input-4-8223d9fbc05a>\u001b[0m in \u001b[0;36m<module>\u001b[1;34m\u001b[0m\n\u001b[0;32m      2\u001b[0m \u001b[0mnum2\u001b[0m \u001b[1;33m=\u001b[0m \u001b[0mint\u001b[0m\u001b[1;33m(\u001b[0m\u001b[0minput\u001b[0m\u001b[1;33m(\u001b[0m\u001b[1;34m'Tell me a number'\u001b[0m\u001b[1;33m)\u001b[0m\u001b[1;33m)\u001b[0m\u001b[1;33m\u001b[0m\u001b[1;33m\u001b[0m\u001b[0m\n\u001b[0;32m      3\u001b[0m \u001b[1;33m\u001b[0m\u001b[0m\n\u001b[1;32m----> 4\u001b[1;33m \u001b[0mc\u001b[0m \u001b[1;33m=\u001b[0m \u001b[0mnum1\u001b[0m\u001b[1;33m/\u001b[0m \u001b[0mnum2\u001b[0m\u001b[1;33m\u001b[0m\u001b[1;33m\u001b[0m\u001b[0m\n\u001b[0m\u001b[0;32m      5\u001b[0m \u001b[0mprnt\u001b[0m\u001b[1;33m(\u001b[0m\u001b[0mc\u001b[0m\u001b[1;33m)\u001b[0m\u001b[1;33m\u001b[0m\u001b[1;33m\u001b[0m\u001b[0m\n",
      "\u001b[1;31mZeroDivisionError\u001b[0m: division by zero"
     ]
    }
   ],
   "source": [
    "# user is given a zero number. so its a zeroDivision error/\n",
    "\n",
    "num1 = int(input('Tell me a number'))\n",
    "num2 = int(input('Tell me a number'))\n",
    "\n",
    "c = num1/ num2\n",
    "prnt(c)"
   ]
  },
  {
   "cell_type": "code",
   "execution_count": 6,
   "metadata": {},
   "outputs": [
    {
     "name": "stdout",
     "output_type": "stream",
     "text": [
      "Tell me a number to be divided: 5\n",
      "Tell me a number to be divided: 9\n",
      "0.5555555555555556\n"
     ]
    }
   ],
   "source": [
    "# so that we write an exception\n",
    "\n",
    "num1 = int(input('Tell me a number to be divided: '))\n",
    "num2 = int(input('Tell me a number to be divided: '))\n",
    "\n",
    "try:\n",
    "    res = num1/ num2\n",
    "except ZeroDivisionError:\n",
    "    \n",
    "    print(\"You cant divide an integar by 0\")\n",
    "print(res)           # no exception"
   ]
  },
  {
   "cell_type": "code",
   "execution_count": 7,
   "metadata": {},
   "outputs": [
    {
     "name": "stdout",
     "output_type": "stream",
     "text": [
      "Tell me a number to be divided: 8\n",
      "Tell me a number to be divided: 0\n",
      "You cant divide an integar by 0\n",
      "0.5555555555555556\n"
     ]
    }
   ],
   "source": [
    "\n",
    "num1 = int(input('Tell me a number to be divided: '))\n",
    "num2 = int(input('Tell me a number to be divided: '))\n",
    "\n",
    "try:\n",
    "    res = num1/ num2\n",
    "except ZeroDivisionError:\n",
    "    \n",
    "    print(\"You cant divide an integar by 0\")\n",
    "print(res)"
   ]
  },
  {
   "cell_type": "code",
   "execution_count": 4,
   "metadata": {},
   "outputs": [
    {
     "name": "stdout",
     "output_type": "stream",
     "text": [
      "Tell me a number to be divided: 4\n",
      "Tell me a number to be divided: 7\n",
      "0.5714285714285714\n"
     ]
    }
   ],
   "source": [
    "num1 = int(input('Tell me a number to be divided: '))\n",
    "num2 = int(input('Tell me a number to be divided: '))\n",
    "\n",
    "res = None\n",
    "\n",
    "try:\n",
    "    res = num1/ num2\n",
    "    print(res)\n",
    "except ZeroDivisionError:\n",
    "    \n",
    "    print(\"You cant divide an integar by 0\")\n"
   ]
  },
  {
   "cell_type": "code",
   "execution_count": 3,
   "metadata": {},
   "outputs": [
    {
     "data": {
      "text/plain": [
       "0.75"
      ]
     },
     "execution_count": 3,
     "metadata": {},
     "output_type": "execute_result"
    }
   ],
   "source": [
    "res"
   ]
  },
  {
   "cell_type": "code",
   "execution_count": 5,
   "metadata": {},
   "outputs": [
    {
     "name": "stdout",
     "output_type": "stream",
     "text": [
      "Tell me a number to be divided: nair\n"
     ]
    },
    {
     "ename": "ValueError",
     "evalue": "invalid literal for int() with base 10: 'nair'",
     "output_type": "error",
     "traceback": [
      "\u001b[1;31m---------------------------------------------------------------------------\u001b[0m",
      "\u001b[1;31mValueError\u001b[0m                                Traceback (most recent call last)",
      "\u001b[1;32m<ipython-input-5-1d2091199468>\u001b[0m in \u001b[0;36m<module>\u001b[1;34m\u001b[0m\n\u001b[0;32m      1\u001b[0m \u001b[1;31m# user not enter a number or enter an alphabt not number ,, so its a value error\u001b[0m\u001b[1;33m\u001b[0m\u001b[1;33m\u001b[0m\u001b[1;33m\u001b[0m\u001b[0m\n\u001b[0;32m      2\u001b[0m \u001b[1;33m\u001b[0m\u001b[0m\n\u001b[1;32m----> 3\u001b[1;33m \u001b[0mnum1\u001b[0m \u001b[1;33m=\u001b[0m \u001b[0mint\u001b[0m\u001b[1;33m(\u001b[0m\u001b[0minput\u001b[0m\u001b[1;33m(\u001b[0m\u001b[1;34m'Tell me a number to be divided: '\u001b[0m\u001b[1;33m)\u001b[0m\u001b[1;33m)\u001b[0m\u001b[1;33m\u001b[0m\u001b[1;33m\u001b[0m\u001b[0m\n\u001b[0m\u001b[0;32m      4\u001b[0m \u001b[0mnum2\u001b[0m \u001b[1;33m=\u001b[0m \u001b[0mint\u001b[0m\u001b[1;33m(\u001b[0m\u001b[0minput\u001b[0m\u001b[1;33m(\u001b[0m\u001b[1;34m'Tell me a number to be divided: '\u001b[0m\u001b[1;33m)\u001b[0m\u001b[1;33m)\u001b[0m\u001b[1;33m\u001b[0m\u001b[1;33m\u001b[0m\u001b[0m\n\u001b[0;32m      5\u001b[0m \u001b[1;33m\u001b[0m\u001b[0m\n",
      "\u001b[1;31mValueError\u001b[0m: invalid literal for int() with base 10: 'nair'"
     ]
    }
   ],
   "source": [
    "# but,,, we except a number.not a alphabet, if user enter a alphabets, instead\n",
    "# of number.. we will have to face error called, \"Value error\".. bcz we havnt\n",
    "# write a value error in exception..\n",
    "\n",
    "num1 = int(input('Tell me a number to be divided: '))\n",
    "num2 = int(input('Tell me a number to be divided: '))\n",
    "\n",
    "res = None\n",
    "\n",
    "try:\n",
    "    res = num1/ num2\n",
    "    print(res)\n",
    "except ZeroDivisionError:\n",
    "    \n",
    "    print(\"You cant divide an integar by 0\")\n"
   ]
  },
  {
   "cell_type": "code",
   "execution_count": 8,
   "metadata": {},
   "outputs": [
    {
     "name": "stdout",
     "output_type": "stream",
     "text": [
      "Tell me a number to be divided: hello\n",
      "dont print alphabet\n"
     ]
    }
   ],
   "source": [
    "# here is an error bcz we havent defined an value error..\n",
    "try:\n",
    "    num1 = int(input('Tell me a number to be divided: '));\n",
    "    num2 = int(input('Tell me a number to be divided: '))\n",
    "    res = num1/ num2\n",
    "    print(res)\n",
    "except ZeroDivisionError:exception in exception section,\n",
    "    print(\"You cant divide an integar by 0\");\n",
    "except ValueError:\n",
    "    print('dont print alphabet')\n"
   ]
  },
  {
   "cell_type": "code",
   "execution_count": 9,
   "metadata": {},
   "outputs": [
    {
     "name": "stdout",
     "output_type": "stream",
     "text": [
      "Tell me a number to be divided: h\n",
      "Acception is generated and caught successfully\n"
     ]
    }
   ],
   "source": [
    "try:\n",
    "    num1 = int(input('Tell me a number to be divided: '));\n",
    "    num2 = int(input('Tell me a number to be divided: '))\n",
    "    res = num1/ num2\n",
    "    print(res)\n",
    "    \n",
    "except Exception as e: # use parent class of exceptionn\n",
    "    print('Acception is generated and caught successfully')\n",
    "    "
   ]
  },
  {
   "cell_type": "code",
   "execution_count": 14,
   "metadata": {},
   "outputs": [
    {
     "name": "stdout",
     "output_type": "stream",
     "text": [
      "Tell me a number to be divided: hello\n",
      "Acception is generated and caught successfully\n",
      "invalid literal for int() with base 10: 'hello'\n"
     ]
    }
   ],
   "source": [
    "try:\n",
    "    num1 = int(input('Tell me a number to be divided: '));\n",
    "    num2 = int(input('Tell me a number to be divided: '))\n",
    "    res = num1/ num2\n",
    "    print(res)\n",
    "    \n",
    "except Exception as e:\n",
    "    print('Acception is generated and caught successfully\\n'+ str(e))"
   ]
  },
  {
   "cell_type": "markdown",
   "metadata": {},
   "source": [
    "# CLASS 17"
   ]
  },
  {
   "cell_type": "code",
   "execution_count": null,
   "metadata": {},
   "outputs": [],
   "source": [
    "# Exception\n",
    "\n",
    "try:\n",
    "    \n",
    "    \n",
    "except:"
   ]
  },
  {
   "cell_type": "code",
   "execution_count": 1,
   "metadata": {},
   "outputs": [
    {
     "name": "stdout",
     "output_type": "stream",
     "text": [
      "Enter a number2\n",
      "Enter a number0\n"
     ]
    },
    {
     "ename": "ZeroDivisionError",
     "evalue": "division by zero",
     "output_type": "error",
     "traceback": [
      "\u001b[1;31m---------------------------------------------------------------------------\u001b[0m",
      "\u001b[1;31mZeroDivisionError\u001b[0m                         Traceback (most recent call last)",
      "\u001b[1;32m<ipython-input-1-3ba6b9db53fc>\u001b[0m in \u001b[0;36m<module>\u001b[1;34m\u001b[0m\n\u001b[0;32m      1\u001b[0m \u001b[0ma\u001b[0m \u001b[1;33m=\u001b[0m \u001b[0mint\u001b[0m\u001b[1;33m(\u001b[0m\u001b[0minput\u001b[0m\u001b[1;33m(\u001b[0m\u001b[1;34m'Enter a number'\u001b[0m\u001b[1;33m)\u001b[0m\u001b[1;33m)\u001b[0m\u001b[1;33m;\u001b[0m\u001b[1;33m\u001b[0m\u001b[1;33m\u001b[0m\u001b[0m\n\u001b[0;32m      2\u001b[0m \u001b[0mb\u001b[0m \u001b[1;33m=\u001b[0m \u001b[0mint\u001b[0m\u001b[1;33m(\u001b[0m\u001b[0minput\u001b[0m\u001b[1;33m(\u001b[0m\u001b[1;34m'Enter a number'\u001b[0m\u001b[1;33m)\u001b[0m\u001b[1;33m)\u001b[0m\u001b[1;33m;\u001b[0m\u001b[1;33m\u001b[0m\u001b[1;33m\u001b[0m\u001b[0m\n\u001b[1;32m----> 3\u001b[1;33m \u001b[0mc\u001b[0m \u001b[1;33m=\u001b[0m \u001b[0ma\u001b[0m\u001b[1;33m/\u001b[0m\u001b[0mb\u001b[0m\u001b[1;33m\u001b[0m\u001b[1;33m\u001b[0m\u001b[0m\n\u001b[0m\u001b[0;32m      4\u001b[0m \u001b[1;33m\u001b[0m\u001b[0m\n\u001b[0;32m      5\u001b[0m \u001b[0mprint\u001b[0m\u001b[1;33m(\u001b[0m\u001b[0mc\u001b[0m\u001b[1;33m)\u001b[0m\u001b[1;33m\u001b[0m\u001b[1;33m\u001b[0m\u001b[0m\n",
      "\u001b[1;31mZeroDivisionError\u001b[0m: division by zero"
     ]
    }
   ],
   "source": [
    "a = int(input('Enter a number'));\n",
    "b = int(input('Enter a number'));\n",
    "c = a/b\n",
    "\n",
    "print(c)"
   ]
  },
  {
   "cell_type": "code",
   "execution_count": 2,
   "metadata": {},
   "outputs": [
    {
     "name": "stdout",
     "output_type": "stream",
     "text": [
      "first\n",
      "Enter a number20\n",
      "Enter a number0\n",
      "Handle Exception\n",
      "Last\n"
     ]
    }
   ],
   "source": [
    "print('first');\n",
    "\n",
    "a = int(input('Enter a number'));\n",
    "b = int(input('Enter a number'));\n",
    "\n",
    "try:\n",
    "    c = a/b\n",
    "    print(c);\n",
    "except ZeroDivisionError:\n",
    "    print('Handle Exception');\n",
    "    \n",
    "print('Last')"
   ]
  },
  {
   "cell_type": "code",
   "execution_count": 4,
   "metadata": {},
   "outputs": [
    {
     "name": "stdout",
     "output_type": "stream",
     "text": [
      "Enter a number1234\n",
      "Enter a number33003\n"
     ]
    },
    {
     "ename": "IndexError",
     "evalue": "list index out of range",
     "output_type": "error",
     "traceback": [
      "\u001b[1;31m---------------------------------------------------------------------------\u001b[0m",
      "\u001b[1;31mIndexError\u001b[0m                                Traceback (most recent call last)",
      "\u001b[1;32m<ipython-input-4-9650d0b5eb08>\u001b[0m in \u001b[0;36m<module>\u001b[1;34m\u001b[0m\n\u001b[0;32m      9\u001b[0m \u001b[1;32mtry\u001b[0m\u001b[1;33m:\u001b[0m\u001b[1;33m\u001b[0m\u001b[1;33m\u001b[0m\u001b[0m\n\u001b[0;32m     10\u001b[0m     \u001b[0mc\u001b[0m \u001b[1;33m=\u001b[0m \u001b[0ma\u001b[0m\u001b[1;33m/\u001b[0m\u001b[0mb\u001b[0m\u001b[1;33m\u001b[0m\u001b[1;33m\u001b[0m\u001b[0m\n\u001b[1;32m---> 11\u001b[1;33m     \u001b[0me\u001b[0m \u001b[1;33m=\u001b[0m \u001b[0md\u001b[0m\u001b[1;33m[\u001b[0m\u001b[1;36m5\u001b[0m\u001b[1;33m]\u001b[0m\u001b[1;33m\u001b[0m\u001b[1;33m\u001b[0m\u001b[0m\n\u001b[0m\u001b[0;32m     12\u001b[0m \u001b[1;33m\u001b[0m\u001b[0m\n\u001b[0;32m     13\u001b[0m     \u001b[0mprint\u001b[0m\u001b[1;33m(\u001b[0m\u001b[0me\u001b[0m\u001b[1;33m)\u001b[0m\u001b[1;33m;\u001b[0m\u001b[1;33m\u001b[0m\u001b[1;33m\u001b[0m\u001b[0m\n",
      "\u001b[1;31mIndexError\u001b[0m: list index out of range"
     ]
    }
   ],
   "source": [
    "# EXAMPLE:\n",
    "\n",
    "\n",
    "a = int(input('Enter a number'));\n",
    "b = int(input('Enter a number'));\n",
    "d = []\n",
    "\n",
    "\n",
    "try:\n",
    "    c = a/b\n",
    "    e = d[5]   # list index out of range bcz here d[5] but aabove d is empty\n",
    "\n",
    "    \n",
    "    print(e);\n",
    "except ZeroDivisionError:\n",
    "    print('Handle Exception');\n",
    "else:\n",
    "    print(c);"
   ]
  },
  {
   "cell_type": "code",
   "execution_count": 10,
   "metadata": {},
   "outputs": [
    {
     "name": "stdout",
     "output_type": "stream",
     "text": [
      "Enter a number3\n",
      "Enter a number0\n",
      "Handle Exception\n"
     ]
    }
   ],
   "source": [
    "# EXAMPLE:\n",
    "\n",
    "\n",
    "a = int(input('Enter a number'));\n",
    "b = int(input('Enter a number'));\n",
    "d = []\n",
    "\n",
    "\n",
    "try:\n",
    "    c = a/b\n",
    "    e = d[5]   # list index out of range\n",
    "\n",
    "    \n",
    "    print(e);\n",
    "except ZeroDivisionError:\n",
    "    print('Handle Exception');\n",
    "else:\n",
    "    print(c)\n"
   ]
  },
  {
   "cell_type": "code",
   "execution_count": 11,
   "metadata": {},
   "outputs": [
    {
     "name": "stdout",
     "output_type": "stream",
     "text": [
      "Enter a number3\n",
      "Enter a number233\n",
      "List index is out of range\n"
     ]
    }
   ],
   "source": [
    "# EXAMPLE:\n",
    "\n",
    "\n",
    "a = int(input('Enter a number'));\n",
    "b = int(input('Enter a number'));\n",
    "d = []\n",
    "\n",
    "\n",
    "try:\n",
    "    c = a/b\n",
    "    e = d[5]   # list index out of range\n",
    "\n",
    "except ZeroDivisionError:\n",
    "    print('Exception Caught');\n",
    "except IndexError:\n",
    "    print('List index is out of range')\n",
    "else:\n",
    "    print(c);\n",
    "    print(e);"
   ]
  },
  {
   "cell_type": "code",
   "execution_count": null,
   "metadata": {},
   "outputs": [],
   "source": [
    "# EXAMPLE:\n",
    "\n",
    "\n",
    "# a = int(input('Enter a number'));\n",
    "# b = int(input('Enter a number'));\n",
    "d = []\n",
    "\n",
    "\n",
    "try:\n",
    "    a = int(input('Enter a number'));#to except null val & val type error\n",
    "    b = int(input('Enter a number'));#we kept these input also in try block\n",
    "    c = a/b\n",
    "    e = d[5]   # list index out of range\n",
    "\n",
    "except # here we didnt explain the type of exception, general except can\n",
    "  # be used. means it will catch every every kind of exception\n",
    "    print('Exception Caught');\n",
    "\n",
    "else:\n",
    "    print(c);"
   ]
  },
  {
   "cell_type": "code",
   "execution_count": 23,
   "metadata": {},
   "outputs": [
    {
     "name": "stdout",
     "output_type": "stream",
     "text": [
      "Enter a number3\n",
      "Enter a number5\n",
      "Handle error  == list index out of range\n"
     ]
    }
   ],
   "source": [
    "# EXAMPLE:\n",
    "\n",
    "\n",
    "d = []\n",
    "\n",
    "try:\n",
    "    a = int(input('Enter a number'));\n",
    "    b = int(input('Enter a number'));\n",
    "    '''Build in message print karna hy exception ka, t0 { Exception as e} is m\n",
    "    jis trha ki acception ae g, wo uska message khd hi utha kr laega or print\n",
    "    is code ko khd s run kry,or exception raise kr k dikhae...\n",
    "    '''\n",
    "    c = a/b\n",
    "    e = d[5]   # list index out of range\n",
    "\n",
    "except Exception as e:\n",
    "    print('Handle error  == ' + str(e));\n",
    "\n",
    "else:\n",
    "    print(c);"
   ]
  },
  {
   "cell_type": "code",
   "execution_count": null,
   "metadata": {},
   "outputs": [],
   "source": [
    "# EXAMPLE:\n",
    "\n",
    "\n",
    "a = int(input('Enter a number'));\n",
    "b = int(input('Enter a number'));\n",
    "d = []\n",
    "\n",
    "\n",
    "try:\n",
    "    c = a/b\n",
    "    e = d[5]   # list index out of range\n",
    "    \n",
    "    'Yha hm ne ek sms likha hy,, or ek build in use kiya hy'\n",
    "\n",
    "except ZeroDivisionError:\n",
    "    print('Exception Caught');\n",
    "    \n",
    "except Exception in e:\n",
    "    print('Handle exception' + str(e));\n",
    "else:\n",
    "    print(c)"
   ]
  },
  {
   "cell_type": "markdown",
   "metadata": {},
   "source": [
    "# Finally\n",
    "  - run compulsory of finally block , even exception come or not"
   ]
  },
  {
   "cell_type": "code",
   "execution_count": 26,
   "metadata": {},
   "outputs": [
    {
     "name": "stdout",
     "output_type": "stream",
     "text": [
      "Enter a number4\n",
      "Enter a number5\n",
      "finally run\n"
     ]
    },
    {
     "ename": "IndexError",
     "evalue": "list index out of range",
     "output_type": "error",
     "traceback": [
      "\u001b[1;31m---------------------------------------------------------------------------\u001b[0m",
      "\u001b[1;31mIndexError\u001b[0m                                Traceback (most recent call last)",
      "\u001b[1;32m<ipython-input-26-b3e28d09914f>\u001b[0m in \u001b[0;36m<module>\u001b[1;34m\u001b[0m\n\u001b[0;32m      9\u001b[0m \u001b[1;32mtry\u001b[0m\u001b[1;33m:\u001b[0m\u001b[1;33m\u001b[0m\u001b[1;33m\u001b[0m\u001b[0m\n\u001b[0;32m     10\u001b[0m     \u001b[0mc\u001b[0m \u001b[1;33m=\u001b[0m \u001b[0ma\u001b[0m\u001b[1;33m/\u001b[0m\u001b[0mb\u001b[0m\u001b[1;33m\u001b[0m\u001b[1;33m\u001b[0m\u001b[0m\n\u001b[1;32m---> 11\u001b[1;33m     \u001b[0me\u001b[0m \u001b[1;33m=\u001b[0m \u001b[0md\u001b[0m\u001b[1;33m[\u001b[0m\u001b[1;36m5\u001b[0m\u001b[1;33m]\u001b[0m   \u001b[1;31m# list index out of range\u001b[0m\u001b[1;33m\u001b[0m\u001b[1;33m\u001b[0m\u001b[0m\n\u001b[0m\u001b[0;32m     12\u001b[0m \u001b[1;33m\u001b[0m\u001b[0m\n\u001b[0;32m     13\u001b[0m     \u001b[1;34m'Yha hm ne ek sms likha hy,, or ek build in use kiya hy'\u001b[0m\u001b[1;33m\u001b[0m\u001b[1;33m\u001b[0m\u001b[0m\n",
      "\u001b[1;31mIndexError\u001b[0m: list index out of range"
     ]
    }
   ],
   "source": [
    "# EXAMPLE:\n",
    "\n",
    "\n",
    "a = int(input('Enter a number'));\n",
    "b = int(input('Enter a number'));\n",
    "d = []\n",
    "\n",
    "\n",
    "try:\n",
    "    c = a/b\n",
    "    e = d[5]  # exception comes bcz of ths # list index out of range\n",
    "    \n",
    "    'Yha hm ne ek sms likha hy,, or ek build in use kiya hy'\n",
    "\n",
    "except ZeroDivisionError:\n",
    "    print('handle  ZeroDivisionError');\n",
    "else:\n",
    "    print(c)\n",
    "    \n",
    "finally:\n",
    "    \n",
    "    print('finally run');\n"
   ]
  },
  {
   "cell_type": "code",
   "execution_count": 27,
   "metadata": {},
   "outputs": [
    {
     "name": "stdout",
     "output_type": "stream",
     "text": [
      "Enter a number5\n",
      "Enter a number8\n",
      "0.625\n",
      "finally run\n"
     ]
    }
   ],
   "source": [
    "# EXAMPLE:\n",
    "\n",
    "\n",
    "a = int(input('Enter a number'));\n",
    "b = int(input('Enter a number'));\n",
    "d = [3,4,5,6,7,8]\n",
    "\n",
    "\n",
    "try:\n",
    "    c = a/b\n",
    "    e = d[5]  # exception comes bcz of ths # list index out of range\n",
    "    \n",
    "    'Yha hm ne ek sms likha hy,, or ek build in use kiya hy'\n",
    "\n",
    "except ZeroDivisionError:\n",
    "    print('handle  ZeroDivisionError');\n",
    "else:\n",
    "    print(c)\n",
    "    \n",
    "finally:\n",
    "    \n",
    "    print('finally run');\n"
   ]
  },
  {
   "cell_type": "code",
   "execution_count": 28,
   "metadata": {},
   "outputs": [
    {
     "name": "stdout",
     "output_type": "stream",
     "text": [
      "Enter a number4\n",
      "Enter a number0\n",
      "handle  ZeroDivisionError\n",
      "finally run\n"
     ]
    }
   ],
   "source": [
    "# EXAMPLE:\n",
    "\n",
    "\n",
    "a = int(input('Enter a number'));\n",
    "b = int(input('Enter a number'));\n",
    "d = [3,4,5,6,7,8]\n",
    "\n",
    "\n",
    "try:\n",
    "    c = a/b\n",
    "    e = d[5]  # exception comes bcz of ths # list index out of range\n",
    "    \n",
    "    'Yha hm ne ek sms likha hy,, or ek build in use kiya hy'\n",
    "\n",
    "except ZeroDivisionError:\n",
    "    print('handle  ZeroDivisionError');\n",
    "else:\n",
    "    print(c)\n",
    "    \n",
    "finally:\n",
    "    \n",
    "    print('finally run');\n"
   ]
  },
  {
   "cell_type": "markdown",
   "metadata": {},
   "source": [
    "# Raising our own exception..\n",
    "  - we can raise exception by ourselves. Only any condtion we define like a>10 raise exception like if user inputs value 10 raise exception....."
   ]
  },
  {
   "cell_type": "code",
   "execution_count": null,
   "metadata": {},
   "outputs": [],
   "source": [
    "# class Stud():\n",
    "#     def _init_(self,var name,var name ,......):\n",
    "#         if ......:\n",
    "#             raise Exception('');\n",
    "#         self.var name = var name\n",
    "#         self.var name = var name\n",
    "        \n",
    "        \n",
    "    "
   ]
  },
  {
   "cell_type": "markdown",
   "metadata": {},
   "source": [
    "Exception raise krne k lie hmy exception python ki general vli use ki hy \\n   abi code crash hogya hy,, qk abi hm n exception catch nh ki.."
   ]
  },
  {
   "cell_type": "code",
   "execution_count": 17,
   "metadata": {},
   "outputs": [],
   "source": [
    "class Stud():\n",
    "    def __init__(self,name,age):\n",
    "        if age > 80 and age < 16:\n",
    "            raise Exception('age can not be greater tha 80 and less than 16');\n",
    "        self.name = name\n",
    "        self.age = age"
   ]
  },
  {
   "cell_type": "code",
   "execution_count": 14,
   "metadata": {},
   "outputs": [
    {
     "name": "stdout",
     "output_type": "stream",
     "text": [
      "Enter your age30\n",
      "30\n"
     ]
    }
   ],
   "source": [
    "age = int(input('Enter your age: '));\n",
    "st = Stud('Maria',age)\n",
    "print(st.age)"
   ]
  },
  {
   "cell_type": "code",
   "execution_count": 18,
   "metadata": {},
   "outputs": [
    {
     "name": "stdout",
     "output_type": "stream",
     "text": [
      "Enter your age: 89\n",
      "89\n"
     ]
    }
   ],
   "source": [
    "age = int(input('Enter your age: '));\n",
    "st = Stud('Maria',age)\n",
    "print(st.age)"
   ]
  },
  {
   "cell_type": "markdown",
   "metadata": {},
   "source": [
    "catching the exception raised by ourself #### Exception catch krne klie whi km krygy k jha s raise hone ka dar ho , usko try me dal de, or except or except m catch kara dyn.."
   ]
  },
  {
   "cell_type": "code",
   "execution_count": 19,
   "metadata": {},
   "outputs": [],
   "source": [
    "\n",
    "class Stud():\n",
    "    def __init__(self,name,age):\n",
    "        if age > 80 and age < 16:\n",
    "            raise Exception('age can not be greater tha 80 and less than 16');\n",
    "        self.name = name\n",
    "        self.age = age\n",
    "        "
   ]
  },
  {
   "cell_type": "code",
   "execution_count": 3,
   "metadata": {},
   "outputs": [
    {
     "name": "stdout",
     "output_type": "stream",
     "text": [
      "Enter your age: 98\n",
      "98\n"
     ]
    }
   ],
   "source": [
    "\n",
    "\n",
    "'''ab hm n try except lga dia hy , code crash nh hoga,,'''\n",
    "\n",
    "try:\n",
    "    age = int(input('Enter your age: '));\n",
    "    st = Stud('Hyn',age)\n",
    "except Exception as e:\n",
    "    print('Exception' + str(e));\n",
    "else:\n",
    "    print(st.age)"
   ]
  },
  {
   "cell_type": "code",
   "execution_count": 22,
   "metadata": {},
   "outputs": [
    {
     "name": "stdout",
     "output_type": "stream",
     "text": [
      "Enter your name:  jddidmddmdm,z,dkddkkkkkdkdkdkkdkkdkd\n",
      "jddidmddmdm,z,dkddkkkkkdkdkdkkdkkdkd\n"
     ]
    }
   ],
   "source": [
    "# EXAMPLE\n",
    "\n",
    "\n",
    "userName = input('Enter your name:  ');\n",
    "print(userName)"
   ]
  },
  {
   "cell_type": "code",
   "execution_count": 24,
   "metadata": {},
   "outputs": [
    {
     "name": "stdout",
     "output_type": "stream",
     "text": [
      "Enter your valid name:  maria wasem\n"
     ]
    }
   ],
   "source": [
    "# EXAMPLE\n",
    "\n",
    "try:\n",
    "    userName = input('Enter your valid name:  ');\n",
    "    if len(userName)>20:\n",
    "        raise Exception('Use cant be more than 20 characters.')\n",
    "except Exception as e:\n",
    "    print('exception' + str(e))\n"
   ]
  },
  {
   "cell_type": "code",
   "execution_count": 27,
   "metadata": {},
   "outputs": [
    {
     "name": "stdout",
     "output_type": "stream",
     "text": [
      "Enter your valid name:  mariya waseem ahmed sheikh saima ria\n",
      "Exception : User Name cant be more than 20 characters.\n"
     ]
    }
   ],
   "source": [
    "# EXAMPLE\n",
    "\n",
    "try:\n",
    "    userName = input('Enter your valid name:  ');\n",
    "    if len(userName)>20:\n",
    "        raise Exception('User Name cant be more than 20 characters.')\n",
    "except Exception as e:\n",
    "    print('Exception : ' + str(e))\n"
   ]
  },
  {
   "cell_type": "code",
   "execution_count": 26,
   "metadata": {},
   "outputs": [
    {
     "name": "stdout",
     "output_type": "stream",
     "text": [
      "Enter your valid name:  maria waseeem\n",
      "User is maria waseeem\n"
     ]
    }
   ],
   "source": [
    "# EXAMPLE\n",
    "\n",
    "try:\n",
    "    userName = input('Enter your valid name:  ');\n",
    "    if len(userName)>20:\n",
    "        raise Exception('User Name cant be more than 20 characters.')\n",
    "except Exception as e:\n",
    "    print('Exception : ' + str(e))\n",
    "else:\n",
    "    print('User is ' + userName)"
   ]
  },
  {
   "cell_type": "markdown",
   "metadata": {},
   "source": [
    "In Last Code we used python exception,now we will use our own exception."
   ]
  },
  {
   "cell_type": "code",
   "execution_count": 2,
   "metadata": {},
   "outputs": [],
   "source": [
    "# EXAMPLE\n",
    "\n",
    "\n",
    "class Stud():\n",
    "    def __init__(self,name,age):\n",
    "        if age > 80 and age < 16:\n",
    "            raise Exception('age can not be greater tha 80 and less than 16');\n",
    "        self.name = name\n",
    "        self.age = age\n",
    "        \n",
    "        \n",
    "'''\n",
    " All the exception raised are derived from a class Exception by default\n",
    " we can make our own class of exception and can derived (inherit) it from parent\n",
    "'''\n",
    "\n",
    "class StudendAgeException(Exception):\n",
    "    pass\n",
    "        "
   ]
  }
 ],
 "metadata": {
  "kernelspec": {
   "display_name": "Python 3",
   "language": "python",
   "name": "python3"
  },
  "language_info": {
   "codemirror_mode": {
    "name": "ipython",
    "version": 3
   },
   "file_extension": ".py",
   "mimetype": "text/x-python",
   "name": "python",
   "nbconvert_exporter": "python",
   "pygments_lexer": "ipython3",
   "version": "3.7.6"
  }
 },
 "nbformat": 4,
 "nbformat_minor": 4
}
