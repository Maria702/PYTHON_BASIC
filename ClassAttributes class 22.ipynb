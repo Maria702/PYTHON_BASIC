{
 "cells": [
  {
   "cell_type": "code",
   "execution_count": 6,
   "metadata": {},
   "outputs": [],
   "source": [
    "# example 1\n",
    "\n",
    "class Car():\n",
    "    def __init__(self,make,model,year):\n",
    "        self.make  = make\n",
    "        self.model = model\n",
    "        self.year  = year\n",
    "    def get_description_name(self):\n",
    "        name = str(self.year) + ' ' + self.make + ' ' + self.model\n",
    "        return name.title()"
   ]
  },
  {
   "cell_type": "code",
   "execution_count": 7,
   "metadata": {},
   "outputs": [],
   "source": [
    "myNewCar = Car('civic' , 'a5', '2020');"
   ]
  },
  {
   "cell_type": "code",
   "execution_count": 9,
   "metadata": {},
   "outputs": [
    {
     "data": {
      "text/plain": [
       "'2020 Civic A5'"
      ]
     },
     "execution_count": 9,
     "metadata": {},
     "output_type": "execute_result"
    }
   ],
   "source": [
    "myNewCar.get_description_name()"
   ]
  },
  {
   "cell_type": "markdown",
   "metadata": {},
   "source": [
    "# setting a default value for an attributes :\n",
    "   - default attributes mean it will be set to all object"
   ]
  },
  {
   "cell_type": "code",
   "execution_count": 32,
   "metadata": {},
   "outputs": [],
   "source": [
    "# example 2\n",
    "\n",
    "class Car():\n",
    "    def __init__(self,make,model,year):\n",
    "        self.make  = make\n",
    "        self.model = model\n",
    "        self.year  = year\n",
    "         # default attribute\n",
    "        self.odometer_reading = 0\n",
    "        \n",
    "    def get_description_name(self):\n",
    "        name = str(self.year) + ' ' + self.make + ' ' + self.model\n",
    "        return name.title()\n",
    "    \n",
    "    def read_odometer(self):\n",
    "        print(\"This  car has \" + str(self.odometer_reading) + \" miles on it.\")"
   ]
  },
  {
   "cell_type": "code",
   "execution_count": 33,
   "metadata": {},
   "outputs": [],
   "source": [
    "newCar = Car('civic' , 'a5', '2020');"
   ]
  },
  {
   "cell_type": "code",
   "execution_count": 34,
   "metadata": {},
   "outputs": [
    {
     "name": "stdout",
     "output_type": "stream",
     "text": [
      "This  car has 0 miles on it.\n"
     ]
    }
   ],
   "source": [
    "newCar.read_odometer()"
   ]
  },
  {
   "cell_type": "markdown",
   "metadata": {},
   "source": [
    "# Modifying an attribute's value through a method"
   ]
  },
  {
   "cell_type": "code",
   "execution_count": 36,
   "metadata": {},
   "outputs": [],
   "source": [
    "# example 3 update \n",
    "\n",
    "class Car():\n",
    "    def __init__(self,make,model,year):\n",
    "        self.make  = make\n",
    "        self.model = model\n",
    "        self.year  = year\n",
    "         # default attribute\n",
    "        self.odometer_reading = 0\n",
    "        \n",
    "    def get_description_name(self):\n",
    "        name = str(self.year) + ' ' + self.make + ' ' + self.model\n",
    "        return name.title()\n",
    "    \n",
    "    def read_odometer(self):\n",
    "        \"get the odometer reading to the given value\"\n",
    "        print(\"This  car has \" + str(self.odometer_reading) + \" miles on it.\")\n",
    "        \n",
    "    def get_update(self, get):\n",
    "        \"set the odometer reading to the given value\"\n",
    "        self.odometer_reading = get"
   ]
  },
  {
   "cell_type": "code",
   "execution_count": 45,
   "metadata": {},
   "outputs": [],
   "source": [
    "car2 =  Car('civic' , 'a5', '2020');"
   ]
  },
  {
   "cell_type": "code",
   "execution_count": 38,
   "metadata": {},
   "outputs": [
    {
     "name": "stdout",
     "output_type": "stream",
     "text": [
      "This  car has 0 miles on it.\n"
     ]
    }
   ],
   "source": [
    "car2.read_odometer()"
   ]
  },
  {
   "cell_type": "code",
   "execution_count": 42,
   "metadata": {},
   "outputs": [],
   "source": [
    "car2.get_update(5000)"
   ]
  },
  {
   "cell_type": "code",
   "execution_count": 43,
   "metadata": {},
   "outputs": [
    {
     "name": "stdout",
     "output_type": "stream",
     "text": [
      "This  car has 5000 miles on it.\n"
     ]
    }
   ],
   "source": [
    "car2.read_odometer()"
   ]
  },
  {
   "cell_type": "code",
   "execution_count": 46,
   "metadata": {},
   "outputs": [],
   "source": [
    "## example 4  condition before update.....\n",
    "\n",
    "class Car():\n",
    "    def __init__(self,make,model,year):\n",
    "        self.make  = make\n",
    "        self.model = model\n",
    "        self.year  = year\n",
    "         # default attribute\n",
    "        self.odometer_reading = 0\n",
    "        \n",
    "    def get_description_name(self):\n",
    "        name = str(self.year) + ' ' + self.make + ' ' + self.model\n",
    "        return name.title()\n",
    "    \n",
    "    def read_odometer(self):\n",
    "        \"get the odometer reading to the given value\"\n",
    "        print(\"This  car has \" + str(self.odometer_reading) + \" miles on it.\")\n",
    "        \n",
    "        \n",
    "        #condition\n",
    "    def get_update(self, mileage):\n",
    "        if mileage >= self.odometer_reading:   #mileage is greater than and \n",
    "                                              # equal t0 self.odometer_reading\n",
    "            self.odometer_reading = mileage\n",
    "        else:\n",
    "            print(\"you cant roll back an odometer\")\n",
    "            "
   ]
  },
  {
   "cell_type": "code",
   "execution_count": 49,
   "metadata": {},
   "outputs": [],
   "source": [
    "car4 =  Car('Honda' , 'city', '2020');"
   ]
  },
  {
   "cell_type": "code",
   "execution_count": 51,
   "metadata": {},
   "outputs": [
    {
     "data": {
      "text/plain": [
       "'2020 Honda City'"
      ]
     },
     "execution_count": 51,
     "metadata": {},
     "output_type": "execute_result"
    }
   ],
   "source": [
    "car4.get_description_name()"
   ]
  },
  {
   "cell_type": "code",
   "execution_count": 53,
   "metadata": {},
   "outputs": [
    {
     "name": "stdout",
     "output_type": "stream",
     "text": [
      "This  car has 0 miles on it.\n"
     ]
    }
   ],
   "source": [
    "car4.read_odometer()"
   ]
  },
  {
   "cell_type": "code",
   "execution_count": 54,
   "metadata": {},
   "outputs": [],
   "source": [
    "car4.get_update(4000)"
   ]
  },
  {
   "cell_type": "code",
   "execution_count": 55,
   "metadata": {},
   "outputs": [
    {
     "name": "stdout",
     "output_type": "stream",
     "text": [
      "This  car has 4000 miles on it.\n"
     ]
    }
   ],
   "source": [
    "car4.read_odometer()"
   ]
  },
  {
   "cell_type": "code",
   "execution_count": 56,
   "metadata": {},
   "outputs": [
    {
     "name": "stdout",
     "output_type": "stream",
     "text": [
      "you cant roll back an odometer\n"
     ]
    }
   ],
   "source": [
    "car4.get_update(200)"
   ]
  },
  {
   "cell_type": "markdown",
   "metadata": {},
   "source": [
    "# Incremening an attribute's value through the method"
   ]
  },
  {
   "cell_type": "code",
   "execution_count": 8,
   "metadata": {},
   "outputs": [],
   "source": [
    "## example 4  condition before update.....\n",
    "\n",
    "class Car():\n",
    "    def __init__(self,make,model,year):\n",
    "        self.make  = make\n",
    "        self.model = model\n",
    "        self.year  = year\n",
    "         # default attribute\n",
    "        self.odometer_reading = 0\n",
    "        \n",
    "    def get_description_name(self):\n",
    "        name = str(self.year) + ' ' + self.make + ' ' + self.model\n",
    "        return name.title()\n",
    "    \n",
    "    def read_odometer(self):\n",
    "        \"get the odometer reading to the given value\"\n",
    "        print(\"This  car has \" + str(self.odometer_reading) + \" miles on it.\")\n",
    "        \n",
    "        \n",
    "        #condition\n",
    "    def get_update(self, mileage):\n",
    "        if mileage >= self.odometer_reading:   #mileage is greater than and \n",
    "                                              # equal t0 self.odometer_reading\n",
    "            self.odometer_reading = mileage\n",
    "        else:\n",
    "            print(\"you cant roll back an odometer\")\n",
    "            \n",
    "    def increment_odometer(self,miles):\n",
    "        self.odometer_reading += miles"
   ]
  },
  {
   "cell_type": "code",
   "execution_count": 9,
   "metadata": {},
   "outputs": [],
   "source": [
    "car5= Car('Honda' , 'city', '2020');"
   ]
  },
  {
   "cell_type": "code",
   "execution_count": 61,
   "metadata": {},
   "outputs": [
    {
     "data": {
      "text/plain": [
       "'2020 Honda City'"
      ]
     },
     "execution_count": 61,
     "metadata": {},
     "output_type": "execute_result"
    }
   ],
   "source": [
    "car5.get_description_name()"
   ]
  },
  {
   "cell_type": "code",
   "execution_count": 62,
   "metadata": {},
   "outputs": [
    {
     "name": "stdout",
     "output_type": "stream",
     "text": [
      "This  car has 0 miles on it.\n"
     ]
    }
   ],
   "source": [
    "car5.read_odometer()"
   ]
  },
  {
   "cell_type": "code",
   "execution_count": 63,
   "metadata": {},
   "outputs": [],
   "source": [
    "car5.get_update(1000)"
   ]
  },
  {
   "cell_type": "code",
   "execution_count": 65,
   "metadata": {},
   "outputs": [
    {
     "data": {
      "text/plain": [
       "1000"
      ]
     },
     "execution_count": 65,
     "metadata": {},
     "output_type": "execute_result"
    }
   ],
   "source": [
    "car5.odometer_reading"
   ]
  },
  {
   "cell_type": "code",
   "execution_count": 66,
   "metadata": {},
   "outputs": [],
   "source": [
    "car5.increment_odometer(50)"
   ]
  },
  {
   "cell_type": "code",
   "execution_count": 67,
   "metadata": {},
   "outputs": [
    {
     "name": "stdout",
     "output_type": "stream",
     "text": [
      "This  car has 1050 miles on it.\n"
     ]
    }
   ],
   "source": [
    "car5.read_odometer()"
   ]
  },
  {
   "cell_type": "markdown",
   "metadata": {},
   "source": [
    "# Inheritance"
   ]
  },
  {
   "cell_type": "code",
   "execution_count": 10,
   "metadata": {},
   "outputs": [],
   "source": [
    "# example\n",
    "class ElectricCar(Car):\n",
    "    def __init__(self,make,model,year):\n",
    "        super().__init__(make,model,year)"
   ]
  },
  {
   "cell_type": "code",
   "execution_count": 11,
   "metadata": {},
   "outputs": [
    {
     "ename": "TypeError",
     "evalue": "__init__() missing 3 required positional arguments: 'make', 'model', and 'year'",
     "output_type": "error",
     "traceback": [
      "\u001b[1;31m---------------------------------------------------------------------------\u001b[0m",
      "\u001b[1;31mTypeError\u001b[0m                                 Traceback (most recent call last)",
      "\u001b[1;32m<ipython-input-11-524571bc5083>\u001b[0m in \u001b[0;36m<module>\u001b[1;34m\u001b[0m\n\u001b[1;32m----> 1\u001b[1;33m \u001b[0mmy_tesla\u001b[0m \u001b[1;33m=\u001b[0m \u001b[0mElectricCar\u001b[0m\u001b[1;33m(\u001b[0m\u001b[1;33m)\u001b[0m\u001b[1;33m\u001b[0m\u001b[1;33m\u001b[0m\u001b[0m\n\u001b[0m",
      "\u001b[1;31mTypeError\u001b[0m: __init__() missing 3 required positional arguments: 'make', 'model', and 'year'"
     ]
    }
   ],
   "source": [
    "my_tesla = ElectricCar()\n"
   ]
  },
  {
   "cell_type": "code",
   "execution_count": 78,
   "metadata": {},
   "outputs": [],
   "source": [
    "my_tesla = ElectricCar('tesla' , 'ab' , 2020)"
   ]
  },
  {
   "cell_type": "code",
   "execution_count": 79,
   "metadata": {},
   "outputs": [
    {
     "data": {
      "text/plain": [
       "'2020 Tesla Ab'"
      ]
     },
     "execution_count": 79,
     "metadata": {},
     "output_type": "execute_result"
    }
   ],
   "source": [
    "my_tesla.get_description_name()"
   ]
  },
  {
   "cell_type": "code",
   "execution_count": 12,
   "metadata": {},
   "outputs": [],
   "source": [
    "# example\n",
    "class ElectricCar(Car):\n",
    "    def __init__(self,make,model,year, engine):\n",
    "        super().__init__(make,model,year)\n",
    "        self.engine = engine\n"
   ]
  },
  {
   "cell_type": "code",
   "execution_count": 13,
   "metadata": {},
   "outputs": [],
   "source": [
    "my_tesla = ElectricCar('tesla' , 'ab' , 2020, 'Engine')"
   ]
  },
  {
   "cell_type": "code",
   "execution_count": 82,
   "metadata": {},
   "outputs": [
    {
     "data": {
      "text/plain": [
       "'2020 Tesla Ab'"
      ]
     },
     "execution_count": 82,
     "metadata": {},
     "output_type": "execute_result"
    }
   ],
   "source": [
    "my_tesla.get_description_name()"
   ]
  },
  {
   "cell_type": "code",
   "execution_count": 83,
   "metadata": {},
   "outputs": [
    {
     "data": {
      "text/plain": [
       "'Engine'"
      ]
     },
     "execution_count": 83,
     "metadata": {},
     "output_type": "execute_result"
    }
   ],
   "source": [
    "my_tesla.engine"
   ]
  },
  {
   "cell_type": "code",
   "execution_count": 14,
   "metadata": {},
   "outputs": [],
   "source": [
    "# example\n",
    "\n",
    "class ElectricCar(Car):\n",
    "    def __init__(self,make,model,year):\n",
    "        super().__init__(make,model,year)\n",
    "        \n",
    "        self.battery_size =  70\n",
    "    def describe_bettery(self):\n",
    "        print(\"This car has a \" + str(self.battery_size) + \" -KWh Battery\")\n"
   ]
  },
  {
   "cell_type": "code",
   "execution_count": 15,
   "metadata": {},
   "outputs": [],
   "source": [
    "elec1 = ElectricCar('Elec' , 'Latest' , '2021')"
   ]
  },
  {
   "cell_type": "code",
   "execution_count": 87,
   "metadata": {},
   "outputs": [
    {
     "data": {
      "text/plain": [
       "'2021 Elec Latest'"
      ]
     },
     "execution_count": 87,
     "metadata": {},
     "output_type": "execute_result"
    }
   ],
   "source": [
    "elec1.get_description_name()"
   ]
  },
  {
   "cell_type": "code",
   "execution_count": 89,
   "metadata": {},
   "outputs": [
    {
     "name": "stdout",
     "output_type": "stream",
     "text": [
      "This car has a 70 -KWh Battery\n"
     ]
    }
   ],
   "source": [
    "elec1.describe_bettery()"
   ]
  },
  {
   "cell_type": "markdown",
   "metadata": {},
   "source": [
    "# OverRiding Method from the Parent class"
   ]
  },
  {
   "cell_type": "code",
   "execution_count": 16,
   "metadata": {},
   "outputs": [],
   "source": [
    "## example  1\n",
    "class Car():\n",
    "    def __init__(self,make,model,year):\n",
    "        self.make  = make\n",
    "        self.model = model\n",
    "        self.year  = year\n",
    "         # default attribute\n",
    "        self.odometer_reading = 0\n",
    "        \n",
    "    def get_description_name(self):\n",
    "        name = str(self.year) + ' ' + self.make + ' ' + self.model\n",
    "        return name.title()\n",
    "    \n",
    "    def read_odometer(self):\n",
    "        \"get the odometer reading to the given value\"\n",
    "        print(\"This  car has \" + str(self.odometer_reading) + \" miles on it.\")\n",
    "        \n",
    "        \n",
    "        #condition\n",
    "    def get_update(self, mileage):\n",
    "        if mileage >= self.odometer_reading:   #mileage is greater than and \n",
    "                                              # equal t0 self.odometer_reading\n",
    "            self.odometer_reading = mileage\n",
    "        else:\n",
    "            print(\"you cant roll back an odometer\")\n",
    "            \n",
    "    def increment_odometer(self,miles):\n",
    "        self.odometer_reading += miles\n",
    "        \n",
    "    def fill_gas(self):\n",
    "        print('Gas tank is being filled')"
   ]
  },
  {
   "cell_type": "code",
   "execution_count": 17,
   "metadata": {},
   "outputs": [],
   "source": [
    "# example 2\n",
    "\n",
    "class ElectricCar(Car):\n",
    "    def __init__(self,make,model,year):\n",
    "        super().__init__(make,model,year)\n",
    "        \n",
    "        self.battery_size =  70\n",
    "    def describe_bettery(self):\n",
    "        print(\"This car has a \" + str(self.battery_size) + \" -KWh Battery\")\n"
   ]
  },
  {
   "cell_type": "code",
   "execution_count": 94,
   "metadata": {},
   "outputs": [],
   "source": [
    "elec2 = ElectricCar('Elec' , 'Latest' , '2021')"
   ]
  },
  {
   "cell_type": "code",
   "execution_count": 95,
   "metadata": {},
   "outputs": [
    {
     "name": "stdout",
     "output_type": "stream",
     "text": [
      "Gas tank is being filled\n"
     ]
    }
   ],
   "source": [
    "elec2.fill_gas()"
   ]
  },
  {
   "cell_type": "markdown",
   "metadata": {},
   "source": [
    "CAR IS an electri,,, but bcz parent is car so that in electric car \"Gas tank is being filled\" is shown so we will have to override this problem"
   ]
  },
  {
   "cell_type": "code",
   "execution_count": 18,
   "metadata": {},
   "outputs": [],
   "source": [
    "# example 2\n",
    "\n",
    "class ElectricCar(Car):\n",
    "    def __init__(self,make,model,year):\n",
    "        super().__init__(make,model,year)\n",
    "        \n",
    "        self.battery_size =  70\n",
    "    def describe_bettery(self):\n",
    "        print(\"This car has a \" + str(self.battery_size) + \" -KWh Battery\")\n",
    "        \n",
    "    def fill_gas(self):\n",
    "        print('Electric car has no Gas tank. It runs on battery')"
   ]
  },
  {
   "cell_type": "code",
   "execution_count": 19,
   "metadata": {},
   "outputs": [],
   "source": [
    "elec3 = ElectricCar('Elec' , 'Latest' , '2021')"
   ]
  },
  {
   "cell_type": "code",
   "execution_count": 100,
   "metadata": {},
   "outputs": [
    {
     "name": "stdout",
     "output_type": "stream",
     "text": [
      "Electric car has no Gas tank. It runs on battery\n"
     ]
    }
   ],
   "source": [
    "elec3.fill_gas()"
   ]
  },
  {
   "cell_type": "markdown",
   "metadata": {},
   "source": [
    "# Instance as Attribute\n",
    "     object               variable\n",
    "       \n",
    "use of object of class as a variable"
   ]
  },
  {
   "cell_type": "code",
   "execution_count": 20,
   "metadata": {},
   "outputs": [],
   "source": [
    "class Battery():\n",
    "    def __init__(self,manu,hp,wats,cell):\n",
    "        self.manufac = manu\n",
    "        self.hp = hp\n",
    "        self.wats = wats\n",
    "        self.cell = cell\n",
    "        \n",
    "    def charge(self):\n",
    "        print('Battery is charging');\n",
    "    def description(self):\n",
    "        print(f'''     Battery Details\n",
    "        \n",
    "        Manufacture : {self.manufac}\n",
    "        Horse Power : {self.hp}\n",
    "        Watts       : {self.wats}\n",
    "        Cell        : {self.cell}\n",
    "        ''')"
   ]
  },
  {
   "cell_type": "code",
   "execution_count": 21,
   "metadata": {},
   "outputs": [],
   "source": [
    "# Electric car battery ko inherit nhi kar skti..."
   ]
  },
  {
   "cell_type": "code",
   "execution_count": 23,
   "metadata": {},
   "outputs": [],
   "source": [
    "class ElectricCar(Car):\n",
    "    def __init__(self,make,model,year):\n",
    "        super().__init__(make,model,year)\n",
    "        \n",
    "        self.battery = Battery(\"AGS\", '200', '100', '27')  #battery object and \n",
    "    # and insert in battry variable, Its called \"Instance as Attribute\"\n",
    "               \n",
    "    def fill_gas(self):\n",
    "        print('Electric car has no Gas tank. It runs on battery')"
   ]
  },
  {
   "cell_type": "code",
   "execution_count": 24,
   "metadata": {},
   "outputs": [],
   "source": [
    "e5 = ElectricCar('Elec' , 'Latest' , '2021')"
   ]
  },
  {
   "cell_type": "code",
   "execution_count": 27,
   "metadata": {},
   "outputs": [
    {
     "name": "stdout",
     "output_type": "stream",
     "text": [
      "     Battery Details\n",
      "        \n",
      "        Manufacture : AGS\n",
      "        Horse Power : 200\n",
      "        Watts       : 100\n",
      "        Cell        : 27\n",
      "        \n"
     ]
    }
   ],
   "source": [
    "e5.battery.description()"
   ]
  },
  {
   "cell_type": "code",
   "execution_count": 28,
   "metadata": {},
   "outputs": [
    {
     "data": {
      "text/plain": [
       "'27'"
      ]
     },
     "execution_count": 28,
     "metadata": {},
     "output_type": "execute_result"
    }
   ],
   "source": [
    "e5.battery.cell"
   ]
  },
  {
   "cell_type": "code",
   "execution_count": 30,
   "metadata": {},
   "outputs": [
    {
     "name": "stdout",
     "output_type": "stream",
     "text": [
      "Battery is charging\n"
     ]
    }
   ],
   "source": [
    "e5.battery.charge()"
   ]
  },
  {
   "cell_type": "code",
   "execution_count": 31,
   "metadata": {},
   "outputs": [
    {
     "data": {
      "text/plain": [
       "'AGS'"
      ]
     },
     "execution_count": 31,
     "metadata": {},
     "output_type": "execute_result"
    }
   ],
   "source": [
    "e5.battery.manufac"
   ]
  }
 ],
 "metadata": {
  "kernelspec": {
   "display_name": "Python 3",
   "language": "python",
   "name": "python3"
  },
  "language_info": {
   "codemirror_mode": {
    "name": "ipython",
    "version": 3
   },
   "file_extension": ".py",
   "mimetype": "text/x-python",
   "name": "python",
   "nbconvert_exporter": "python",
   "pygments_lexer": "ipython3",
   "version": "3.7.6"
  }
 },
 "nbformat": 4,
 "nbformat_minor": 4
}
