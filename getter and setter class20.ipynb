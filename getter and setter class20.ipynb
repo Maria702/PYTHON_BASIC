{
 "cells": [
  {
   "cell_type": "code",
   "execution_count": 23,
   "metadata": {},
   "outputs": [],
   "source": [
    "class Dog():\n",
    "    def __init__(self,name,age):\n",
    "        \n",
    "        # attribute\n",
    "        self.name = name\n",
    "        self.age = age\n",
    "        \n",
    "        # action/method\n",
    "    def sit(self):\n",
    "        print(f'{self.name} dog is sitting');\n",
    "    def roll_over(self):\n",
    "        print(f'{self.name} dog is rolling over');\n"
   ]
  },
  {
   "cell_type": "code",
   "execution_count": null,
   "metadata": {},
   "outputs": [],
   "source": [
    "dogi = Dog()\n",
    "\n",
    "# whenever object is created, it automatically calls the class initializer."
   ]
  },
  {
   "cell_type": "code",
   "execution_count": 24,
   "metadata": {},
   "outputs": [],
   "source": [
    "dogi = Dog(\"pappy\",10)"
   ]
  },
  {
   "cell_type": "code",
   "execution_count": 5,
   "metadata": {},
   "outputs": [
    {
     "data": {
      "text/plain": [
       "10"
      ]
     },
     "execution_count": 5,
     "metadata": {},
     "output_type": "execute_result"
    }
   ],
   "source": [
    "dogi.age"
   ]
  },
  {
   "cell_type": "code",
   "execution_count": 6,
   "metadata": {},
   "outputs": [
    {
     "data": {
      "text/plain": [
       "'pappy'"
      ]
     },
     "execution_count": 6,
     "metadata": {},
     "output_type": "execute_result"
    }
   ],
   "source": [
    "dogi.name"
   ]
  },
  {
   "cell_type": "code",
   "execution_count": 17,
   "metadata": {},
   "outputs": [
    {
     "name": "stdout",
     "output_type": "stream",
     "text": [
      "pappy dog is rolling over\n"
     ]
    }
   ],
   "source": [
    "dogi.roll_over()"
   ]
  },
  {
   "cell_type": "code",
   "execution_count": 25,
   "metadata": {},
   "outputs": [
    {
     "name": "stdout",
     "output_type": "stream",
     "text": [
      "pappy dog is sitting\n"
     ]
    }
   ],
   "source": [
    "dogi.sit()"
   ]
  },
  {
   "cell_type": "code",
   "execution_count": 26,
   "metadata": {},
   "outputs": [],
   "source": [
    "# create other object..\n",
    "\n",
    "dogi1= Dog('mamo' , 3)"
   ]
  },
  {
   "cell_type": "code",
   "execution_count": 28,
   "metadata": {},
   "outputs": [
    {
     "data": {
      "text/plain": [
       "'mamo'"
      ]
     },
     "execution_count": 28,
     "metadata": {},
     "output_type": "execute_result"
    }
   ],
   "source": [
    "dogi1.name"
   ]
  },
  {
   "cell_type": "code",
   "execution_count": 29,
   "metadata": {},
   "outputs": [
    {
     "data": {
      "text/plain": [
       "'pappy'"
      ]
     },
     "execution_count": 29,
     "metadata": {},
     "output_type": "execute_result"
    }
   ],
   "source": [
    "dogi.name"
   ]
  },
  {
   "cell_type": "code",
   "execution_count": 30,
   "metadata": {},
   "outputs": [],
   "source": [
    "# create other object..\n",
    "\n",
    "dogi2= Dog('jackey' , 1.5)"
   ]
  },
  {
   "cell_type": "code",
   "execution_count": 31,
   "metadata": {},
   "outputs": [
    {
     "data": {
      "text/plain": [
       "'jackey'"
      ]
     },
     "execution_count": 31,
     "metadata": {},
     "output_type": "execute_result"
    }
   ],
   "source": [
    "dogi2.name"
   ]
  },
  {
   "cell_type": "code",
   "execution_count": 32,
   "metadata": {},
   "outputs": [
    {
     "name": "stdout",
     "output_type": "stream",
     "text": [
      "mamo dog is sitting\n"
     ]
    }
   ],
   "source": [
    "dogi1.sit()"
   ]
  },
  {
   "cell_type": "code",
   "execution_count": 34,
   "metadata": {},
   "outputs": [
    {
     "name": "stdout",
     "output_type": "stream",
     "text": [
      "pappy dog is sitting\n"
     ]
    }
   ],
   "source": [
    "dogi.sit()"
   ]
  },
  {
   "cell_type": "code",
   "execution_count": 35,
   "metadata": {},
   "outputs": [
    {
     "name": "stdout",
     "output_type": "stream",
     "text": [
      "jackey dog is sitting\n"
     ]
    }
   ],
   "source": [
    "dogi2.sit()"
   ]
  },
  {
   "cell_type": "code",
   "execution_count": 2,
   "metadata": {},
   "outputs": [],
   "source": [
    " # Example 2\n",
    "    \n",
    "class Patient():\n",
    "    \n",
    "    # attribute\n",
    "    def __init__(self,name,gender,age,disease,contact):\n",
    "        self.name = name\n",
    "        self.gender = gender\n",
    "        self.age = age\n",
    "        self.disease = disease\n",
    "        self.contact = contact\n",
    "    def med(self):\n",
    "        print(f'{self.name} is taking medicien');\n",
    "    def details(self):\n",
    "        print(f'''_________ Patient Details _________ \n",
    "        \n",
    "        Name        = {self.name}\n",
    "        Gender      = {self.gender}\n",
    "        Age         = {self.age}\n",
    "        Disease     = {self.disease}\n",
    "        Contact     = {self.contact} ''')\n",
    "        "
   ]
  },
  {
   "cell_type": "code",
   "execution_count": 3,
   "metadata": {},
   "outputs": [],
   "source": [
    "person1 = Patient('Qasim', 'male', 50, 'fever', 344838838383883)"
   ]
  },
  {
   "cell_type": "code",
   "execution_count": 4,
   "metadata": {},
   "outputs": [
    {
     "data": {
      "text/plain": [
       "50"
      ]
     },
     "execution_count": 4,
     "metadata": {},
     "output_type": "execute_result"
    }
   ],
   "source": [
    "person1.age"
   ]
  },
  {
   "cell_type": "code",
   "execution_count": 5,
   "metadata": {},
   "outputs": [
    {
     "data": {
      "text/plain": [
       "344838838383883"
      ]
     },
     "execution_count": 5,
     "metadata": {},
     "output_type": "execute_result"
    }
   ],
   "source": [
    "person1.contact"
   ]
  },
  {
   "cell_type": "code",
   "execution_count": 6,
   "metadata": {},
   "outputs": [
    {
     "data": {
      "text/plain": [
       "'male'"
      ]
     },
     "execution_count": 6,
     "metadata": {},
     "output_type": "execute_result"
    }
   ],
   "source": [
    "person1.gender"
   ]
  },
  {
   "cell_type": "code",
   "execution_count": 7,
   "metadata": {},
   "outputs": [
    {
     "data": {
      "text/plain": [
       "'fever'"
      ]
     },
     "execution_count": 7,
     "metadata": {},
     "output_type": "execute_result"
    }
   ],
   "source": [
    "person1.disease"
   ]
  },
  {
   "cell_type": "code",
   "execution_count": 8,
   "metadata": {},
   "outputs": [
    {
     "name": "stdout",
     "output_type": "stream",
     "text": [
      "Qasim is taking medicien\n"
     ]
    }
   ],
   "source": [
    "person1.med()"
   ]
  },
  {
   "cell_type": "code",
   "execution_count": 9,
   "metadata": {},
   "outputs": [
    {
     "name": "stdout",
     "output_type": "stream",
     "text": [
      "_________ Patient Details _________ \n",
      "       \n",
      "       Name        = Qasim\n",
      "       Gender      = male\n",
      "       Age         = 50\n",
      "       Disease     = fever\n",
      "       Contact     = 344838838383883 \n"
     ]
    }
   ],
   "source": [
    "person1.details()"
   ]
  },
  {
   "cell_type": "code",
   "execution_count": 10,
   "metadata": {},
   "outputs": [],
   "source": [
    "person2 = Patient('Abc', 'Female', 70, 'High Bp', 3632234094)"
   ]
  },
  {
   "cell_type": "code",
   "execution_count": 11,
   "metadata": {},
   "outputs": [
    {
     "name": "stdout",
     "output_type": "stream",
     "text": [
      "Abc is taking medicien\n"
     ]
    }
   ],
   "source": [
    "person2.med()"
   ]
  },
  {
   "cell_type": "code",
   "execution_count": 12,
   "metadata": {},
   "outputs": [
    {
     "name": "stdout",
     "output_type": "stream",
     "text": [
      "_________ Patient Details _________ \n",
      "       \n",
      "       Name        = Abc\n",
      "       Gender      = Female\n",
      "       Age         = 70\n",
      "       Disease     = High Bp\n",
      "       Contact     = 3632234094 \n"
     ]
    }
   ],
   "source": [
    "person2.details()"
   ]
  },
  {
   "cell_type": "markdown",
   "metadata": {},
   "source": [
    "# Updating attribute's value"
   ]
  },
  {
   "cell_type": "code",
   "execution_count": 13,
   "metadata": {},
   "outputs": [
    {
     "data": {
      "text/plain": [
       "'High Bp'"
      ]
     },
     "execution_count": 13,
     "metadata": {},
     "output_type": "execute_result"
    }
   ],
   "source": [
    "person2.disease"
   ]
  },
  {
   "cell_type": "code",
   "execution_count": 14,
   "metadata": {},
   "outputs": [],
   "source": [
    "person2.disease = 'Low blood pressure'"
   ]
  },
  {
   "cell_type": "code",
   "execution_count": 15,
   "metadata": {},
   "outputs": [
    {
     "data": {
      "text/plain": [
       "'Low blood pressure'"
      ]
     },
     "execution_count": 15,
     "metadata": {},
     "output_type": "execute_result"
    }
   ],
   "source": [
    "person2.disease"
   ]
  },
  {
   "cell_type": "code",
   "execution_count": 17,
   "metadata": {},
   "outputs": [
    {
     "name": "stdout",
     "output_type": "stream",
     "text": [
      "_________ Patient Details _________ \n",
      "       \n",
      "       Name        = Abc\n",
      "       Gender      = Female\n",
      "       Age         = 70\n",
      "       Disease     = Low blood pressure\n",
      "       Contact     = 3632234094 \n"
     ]
    }
   ],
   "source": [
    "person2.details()"
   ]
  },
  {
   "cell_type": "raw",
   "metadata": {},
   "source": [
    "# changing attribute value directly is totally not a good approach"
   ]
  },
  {
   "cell_type": "markdown",
   "metadata": {},
   "source": [
    "# Getter and Setter "
   ]
  },
  {
   "cell_type": "markdown",
   "metadata": {},
   "source": [
    "-  getters and setters are not the same as those in other object-oriented programming languages. \n",
    "- Basically, the main purpose of using getters and setters in object-oriented programs is to ensure data encapsulation.\n",
    " \n",
    "     - We use getters & setters to add validation logic around getting and setting a value.\n",
    "     - To avoid direct access of a class field i.e. private variables cannot be accessed directly or modified by external user.\n",
    "     \n",
    "     \n",
    "        - To achieve getters & setters property, if we define normal get() and set() methods it will not reflect any special implementation"
   ]
  },
  {
   "cell_type": "code",
   "execution_count": 53,
   "metadata": {},
   "outputs": [],
   "source": [
    " # Example 3\n",
    "    \n",
    "class patient():\n",
    "    \n",
    "    # attribute\n",
    "    def __init__(self,name,gender,age,disease,contact):\n",
    "        self.Name = name\n",
    "        self.gender = gender\n",
    "        self.age = age\n",
    "        self.disease = disease\n",
    "        self.contact = contact\n",
    "        \n",
    "    def med(self):\n",
    "        print(f'{self.Name} is taking medicien');\n",
    "        \n",
    "    def details(self):\n",
    "        print(f'''_________ Patient Details _________ \n",
    "        \n",
    "        Name        = {self.Name}\n",
    "        Gender      = {self.gender}\n",
    "        Age         = {self.age}\n",
    "        Disease     = {self.disease}\n",
    "        Contact     = {self.contact} ''');\n",
    "        \n",
    "        \n",
    "     # getter\n",
    "    def get_name(self):\n",
    "        return self.Name\n",
    "    \n",
    "    # setter\n",
    "    def set_name(self, NewName):\n",
    "        self.Name = NewName\n",
    "         "
   ]
  },
  {
   "cell_type": "code",
   "execution_count": 54,
   "metadata": {},
   "outputs": [],
   "source": [
    "patient1 = patient('Qasim', 'male', 50, 'fever', 344838838383883)"
   ]
  },
  {
   "cell_type": "code",
   "execution_count": 55,
   "metadata": {},
   "outputs": [
    {
     "data": {
      "text/plain": [
       "'Qasim'"
      ]
     },
     "execution_count": 55,
     "metadata": {},
     "output_type": "execute_result"
    }
   ],
   "source": [
    "patient1.get_name()"
   ]
  },
  {
   "cell_type": "code",
   "execution_count": 56,
   "metadata": {},
   "outputs": [],
   "source": [
    "patient1.set_name('ahmed')"
   ]
  },
  {
   "cell_type": "code",
   "execution_count": 57,
   "metadata": {},
   "outputs": [
    {
     "data": {
      "text/plain": [
       "'ahmed'"
      ]
     },
     "execution_count": 57,
     "metadata": {},
     "output_type": "execute_result"
    }
   ],
   "source": [
    "patient1.get_name()"
   ]
  }
 ],
 "metadata": {
  "kernelspec": {
   "display_name": "Python 3",
   "language": "python",
   "name": "python3"
  },
  "language_info": {
   "codemirror_mode": {
    "name": "ipython",
    "version": 3
   },
   "file_extension": ".py",
   "mimetype": "text/x-python",
   "name": "python",
   "nbconvert_exporter": "python",
   "pygments_lexer": "ipython3",
   "version": "3.7.6"
  }
 },
 "nbformat": 4,
 "nbformat_minor": 4
}
