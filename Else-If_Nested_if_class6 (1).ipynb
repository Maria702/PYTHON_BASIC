{
 "cells": [
  {
   "cell_type": "markdown",
   "metadata": {},
   "source": [
    "# IF else"
   ]
  },
  {
   "cell_type": "code",
   "execution_count": null,
   "metadata": {},
   "outputs": [],
   "source": [
    "# EVEN NUMBER           #REMAINDER IS ZERO\n",
    "# are multiple of 2 / numbers divisble by 2.  \n",
    "\n",
    "# ODD NUMBER\n",
    "# are not multiple of 2 / numbers are not divisble by 2.\n"
   ]
  },
  {
   "cell_type": "code",
   "execution_count": 2,
   "metadata": {},
   "outputs": [
    {
     "name": "stdout",
     "output_type": "stream",
     "text": [
      "Enter a number: 40\n",
      "The number 40 is even\n"
     ]
    }
   ],
   "source": [
    " # EXAMPLE 1\n",
    "    \n",
    "    \n",
    "num = int(input('Enter a number: '));\n",
    "\n",
    "if num%2 == 0:            # if i divide the number by 2 and remainder is 0\n",
    "    print(f'The number {num} is even')\n",
    "else:\n",
    "    print(f'The number {num} is Odd')"
   ]
  },
  {
   "cell_type": "code",
   "execution_count": 3,
   "metadata": {},
   "outputs": [
    {
     "name": "stdout",
     "output_type": "stream",
     "text": [
      "Enter a number: 3\n",
      "The number 3 is Odd\n"
     ]
    }
   ],
   "source": [
    " # EXAMPLE 1\n",
    "    \n",
    "    \n",
    "num = int(input('Enter a number: '));\n",
    "\n",
    "if num%2 == 0:            # if i divide the number by 2 and remainder is 0\n",
    "    print(f'The number {num} is even')\n",
    "else:\n",
    "    print(f'The number {num} is Odd')"
   ]
  },
  {
   "cell_type": "code",
   "execution_count": 4,
   "metadata": {},
   "outputs": [
    {
     "name": "stdout",
     "output_type": "stream",
     "text": [
      "What is the condition of donut? fresh\n",
      "10\n"
     ]
    }
   ],
   "source": [
    "   # EXAMPLE  2\n",
    "    \n",
    "donut = input(\"What is the condition of donut? \")\n",
    "if donut == 'fresh':\n",
    "    buy = 10\n",
    "elif donut == 'low':\n",
    "    buy = 5\n",
    "else:\n",
    "    buy = 0\n",
    "print(buy)"
   ]
  },
  {
   "cell_type": "code",
   "execution_count": 6,
   "metadata": {},
   "outputs": [
    {
     "name": "stdout",
     "output_type": "stream",
     "text": [
      "What is the overall Percentage: 60\n",
      "You Grade is C\n"
     ]
    }
   ],
   "source": [
    "         # EXAMPLE  2\n",
    "# Assign the grade according to the percentage..\n",
    "\n",
    "grade = None\n",
    "\n",
    "per = float(input('What is the overall Percentage: '));\n",
    "if per > 80:     #greater than 80\n",
    "    print('Congratulations! You got A+ ');\n",
    "elif per > 70:\n",
    "    print('You Grade is A');\n",
    "elif per > 60:\n",
    "    print('You Grade is B')\n",
    "elif per > 50:\n",
    "    print('You Grade is C')\n",
    "elif per > 45:\n",
    "    print('You Grade is D')\n",
    "else:\n",
    "    print('Fail.')\n"
   ]
  },
  {
   "cell_type": "code",
   "execution_count": 7,
   "metadata": {},
   "outputs": [
    {
     "name": "stdout",
     "output_type": "stream",
     "text": [
      "What is the overall Percentage: 44\n",
      "Fail.\n"
     ]
    }
   ],
   "source": [
    "         # EXAMPLE  2\n",
    "# Assign the grade according to the percentage..\n",
    "\n",
    "grade = None\n",
    "\n",
    "per = float(input('What is the overall Percentage: '));\n",
    "if per >= 80:     #greater than equal to 80\n",
    "    print('Congratulations! You got A+ ');\n",
    "elif per >= 70:\n",
    "    print('You Grade is A');\n",
    "elif per >= 60:\n",
    "    print('You Grade is B')\n",
    "elif per >= 50:\n",
    "    print('You Grade is C')\n",
    "elif per >= 45:\n",
    "    print('You Grade is D')\n",
    "else:\n",
    "    print('Fail.')\n"
   ]
  },
  {
   "cell_type": "markdown",
   "metadata": {},
   "source": [
    "# NESTED IF"
   ]
  },
  {
   "cell_type": "code",
   "execution_count": null,
   "metadata": {},
   "outputs": [],
   "source": [
    "# one IF function inside of another,\n",
    "# allows you to test multiple criteria and\n",
    "# increases the number of possible outcomes"
   ]
  },
  {
   "cell_type": "code",
   "execution_count": 19,
   "metadata": {},
   "outputs": [
    {
     "name": "stdout",
     "output_type": "stream",
     "text": [
      "pass\n"
     ]
    }
   ],
   "source": [
    "a=b=c=d=e=f=g=0\n",
    "if a==b:\n",
    "    if a==b:\n",
    "        if b==c:\n",
    "            if c==d:\n",
    "                if d==e:\n",
    "                    if e==f:\n",
    "                        if f==g:\n",
    "                            print(\"pass\")"
   ]
  },
  {
   "cell_type": "code",
   "execution_count": 20,
   "metadata": {},
   "outputs": [],
   "source": [
    "a=b=c=d=e=f=g=0\n",
    "e= 2                          \n",
    "\n",
    "if a==b:\n",
    "    if a==b:\n",
    "        if b==c:\n",
    "            if c==d:\n",
    "                if d==e:             #fals here but can't run.\n",
    "                    if e==f:\n",
    "                        if f==g:\n",
    "                            print(\"pass\")"
   ]
  },
  {
   "cell_type": "code",
   "execution_count": 30,
   "metadata": {},
   "outputs": [
    {
     "name": "stdout",
     "output_type": "stream",
     "text": [
      "a not equal to b\n"
     ]
    }
   ],
   "source": [
    "a=b=c=d=e=f=g=h=0\n",
    "e= 2\n",
    "b= 3\n",
    "\n",
    "if a==b:             \n",
    "    if b==c:\n",
    "        if c==d:\n",
    "            if d==e:\n",
    "                if e==f:\n",
    "                    if f==g:\n",
    "                        if g==h:\n",
    "                            print(\" ALL pass\")\n",
    "                        else:\n",
    "                            print(\"g not equal to h\")\n",
    "                    else:\n",
    "                        print(\"f not equal to g\")\n",
    "                else:\n",
    "                    print(\"e not equal to f\")\n",
    "            else:  #e is equal to 2\n",
    "                print(\"d not equal to e\")\n",
    "        else:\n",
    "            print(\"c not equal to d\")\n",
    "    else:\n",
    "         print(\"b not equal to c\")\n",
    "else:        # b is equal to 3 not zero          \n",
    "    print(\"a not equal to b\")"
   ]
  },
  {
   "cell_type": "code",
   "execution_count": 31,
   "metadata": {},
   "outputs": [
    {
     "name": "stdout",
     "output_type": "stream",
     "text": [
      "Have you paid your examination fee? PAID\n",
      "Do you have an admit card? yes\n",
      "You can appear in exam\n"
     ]
    }
   ],
   "source": [
    "\n",
    "feeStatus= input('Have you paid your examination fee? ').lower()\n",
    "admitCard = input('Do you have an admit card? ');\n",
    "\n",
    "if feeStatus == 'paid':          #paid\n",
    "    if admitCard == 'yes':       # std has an admit card\n",
    "        print('You can appear in exam');  # appear\n",
    "    else:\n",
    "         print(\"You do't have admit card, you can't attend the exam\");\n",
    "else:             \n",
    "    print(\"You can't appear\");"
   ]
  },
  {
   "cell_type": "code",
   "execution_count": 12,
   "metadata": {},
   "outputs": [
    {
     "name": "stdout",
     "output_type": "stream",
     "text": [
      "Have you paid your examination fee or not ? paid\n",
      "Do you have a admit card? no\n",
      " You do't have admit card, you can't attend the exam\n"
     ]
    }
   ],
   "source": [
    "# A student can only appear in exam if his/her dues are cleared\n",
    "# and he/she must have admit card..\n",
    "\n",
    "feeStatus= input('Have you paid your examination fee or not ? ');\n",
    "admitCard = input('Do you have a admit card? ');\n",
    "\n",
    "if feeStatus == 'paid':               # fee paid\n",
    "    if admitCard == 'yes':          # stud has no admit card\n",
    "        print('You can appear in exam');\n",
    "    else:               # thats why stud cant attend..\n",
    "        print(\"You do't have admit card, you can't attend the exam\");\n",
    "else:\n",
    "    print(\"You can't appear\");"
   ]
  },
  {
   "cell_type": "code",
   "execution_count": 14,
   "metadata": {},
   "outputs": [
    {
     "name": "stdout",
     "output_type": "stream",
     "text": [
      "Have you paid your examination fee or not ? unpaid\n",
      "Do you have a admit card? no\n",
      "You can't appear\n"
     ]
    }
   ],
   "source": [
    "feeStatus= input('Have you paid your examination fee or not ? ');\n",
    "admitCard = input('Do you have a admit card? ');\n",
    "\n",
    "if feeStatus == 'paid':               #  not paid\n",
    "    if admitCard == 'yes':          # stud has no admit card\n",
    "        print('You can appear in exam');\n",
    "    else:               \n",
    "        print(\"You do't have admit card, you can't attend the exam\");\n",
    "else: # thats why stud cant attend..\n",
    "    print(\"You can't appear\");"
   ]
  },
  {
   "cell_type": "code",
   "execution_count": null,
   "metadata": {},
   "outputs": [],
   "source": [
    "#----------------or"
   ]
  },
  {
   "cell_type": "code",
   "execution_count": 15,
   "metadata": {},
   "outputs": [
    {
     "name": "stdout",
     "output_type": "stream",
     "text": [
      "Have you paid your examination fee or not ? unpaid\n",
      "You can't appear\n"
     ]
    }
   ],
   "source": [
    "feeStatus= input('Have you paid your examination fee or not ? ');\n",
    "\n",
    "\n",
    "if feeStatus == 'paid':               # fee unpaid\n",
    "    admitCard = input('Do you have a admit card? ');\n",
    "    if admitCard == 'yes':          \n",
    "        print('You can appear in exam');\n",
    "    else:               \n",
    "        print(\"You do't have admit card, you can't attend the exam\");\n",
    "else: # thats why stud cant attend..\n",
    "    print(\"You can't appear\");"
   ]
  },
  {
   "cell_type": "code",
   "execution_count": null,
   "metadata": {},
   "outputs": [],
   "source": []
  },
  {
   "cell_type": "code",
   "execution_count": null,
   "metadata": {},
   "outputs": [],
   "source": []
  },
  {
   "cell_type": "code",
   "execution_count": null,
   "metadata": {},
   "outputs": [],
   "source": []
  }
 ],
 "metadata": {
  "kernelspec": {
   "display_name": "Python 3",
   "language": "python",
   "name": "python3"
  },
  "language_info": {
   "codemirror_mode": {
    "name": "ipython",
    "version": 3
   },
   "file_extension": ".py",
   "mimetype": "text/x-python",
   "name": "python",
   "nbconvert_exporter": "python",
   "pygments_lexer": "ipython3",
   "version": "3.7.6"
  }
 },
 "nbformat": 4,
 "nbformat_minor": 4
}
