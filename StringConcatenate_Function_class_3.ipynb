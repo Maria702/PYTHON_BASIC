{
 "cells": [
  {
   "cell_type": "markdown",
   "metadata": {},
   "source": [
    "# String Concatenation\n",
    "\n",
    "    String concatenation means add strings together.\n"
   ]
  },
  {
   "cell_type": "code",
   "execution_count": 2,
   "metadata": {},
   "outputs": [
    {
     "data": {
      "text/plain": [
       "'Maria Waseem'"
      ]
     },
     "execution_count": 2,
     "metadata": {},
     "output_type": "execute_result"
    }
   ],
   "source": [
    "first_name = 'Maria';\n",
    "last_name = 'Waseem';\n",
    "first_name +' '+ last_name\n"
   ]
  },
  {
   "cell_type": "markdown",
   "metadata": {},
   "source": [
    "# Operators\n",
    "        +, - , * , /\n",
    "        if we add two strings called \" concatenate\"\n",
    "        but if we add 2 int, called 'add'"
   ]
  },
  {
   "cell_type": "code",
   "execution_count": 4,
   "metadata": {},
   "outputs": [
    {
     "ename": "TypeError",
     "evalue": "can only concatenate str (not \"int\") to str",
     "output_type": "error",
     "traceback": [
      "\u001b[1;31m---------------------------------------------------------------------------\u001b[0m",
      "\u001b[1;31mTypeError\u001b[0m                                 Traceback (most recent call last)",
      "\u001b[1;32m<ipython-input-4-7b6ee5617a91>\u001b[0m in \u001b[0;36m<module>\u001b[1;34m\u001b[0m\n\u001b[0;32m      1\u001b[0m \u001b[0mstr\u001b[0m\u001b[1;33m=\u001b[0m \u001b[1;34m'mine'\u001b[0m\u001b[1;33m\u001b[0m\u001b[1;33m\u001b[0m\u001b[0m\n\u001b[0;32m      2\u001b[0m \u001b[0mint\u001b[0m \u001b[1;33m=\u001b[0m \u001b[1;36m2\u001b[0m\u001b[1;33m\u001b[0m\u001b[1;33m\u001b[0m\u001b[0m\n\u001b[1;32m----> 3\u001b[1;33m \u001b[0mstr\u001b[0m \u001b[1;33m+\u001b[0m \u001b[0mint\u001b[0m\u001b[1;33m\u001b[0m\u001b[1;33m\u001b[0m\u001b[0m\n\u001b[0m",
      "\u001b[1;31mTypeError\u001b[0m: can only concatenate str (not \"int\") to str"
     ]
    }
   ],
   "source": [
    "str= 'mine'\n",
    "int = 2\n",
    "str + int"
   ]
  },
  {
   "cell_type": "markdown",
   "metadata": {},
   "source": [
    " # String Functions / methods"
   ]
  },
  {
   "cell_type": "markdown",
   "metadata": {},
   "source": [
    "# 1 :  capitalize() "
   ]
  },
  {
   "cell_type": "code",
   "execution_count": 30,
   "metadata": {},
   "outputs": [
    {
     "name": "stdout",
     "output_type": "stream",
     "text": [
      "pakistan\n"
     ]
    }
   ],
   "source": [
    "           # Converts the first character to upper case\n",
    "\n",
    "country = 'pakistan'\n",
    "print(country)\n"
   ]
  },
  {
   "cell_type": "code",
   "execution_count": 27,
   "metadata": {},
   "outputs": [
    {
     "data": {
      "text/plain": [
       "'Pakistan'"
      ]
     },
     "execution_count": 27,
     "metadata": {},
     "output_type": "execute_result"
    }
   ],
   "source": [
    "country.capitalize()"
   ]
  },
  {
   "cell_type": "markdown",
   "metadata": {},
   "source": [
    "# 2: casefold()"
   ]
  },
  {
   "cell_type": "code",
   "execution_count": 32,
   "metadata": {},
   "outputs": [
    {
     "name": "stdout",
     "output_type": "stream",
     "text": [
      "maria\n"
     ]
    }
   ],
   "source": [
    "# \tConverts string into lower case\n",
    "name = 'MARIA'\n",
    "print (name.casefold())"
   ]
  },
  {
   "cell_type": "markdown",
   "metadata": {},
   "source": [
    "\n",
    "# 3: center()"
   ]
  },
  {
   "cell_type": "code",
   "execution_count": 51,
   "metadata": {},
   "outputs": [],
   "source": [
    "#\tReturns a centered string\n",
    "# The center() method returns a new centered string of the specified length,\n",
    "# which is padded with the specified character. The deafult character is space\n",
    "\n",
    "#Syntax:                  str.center(width, fillchar)\n",
    "\n",
    "# Parameters:\n",
    "#                      width : The total length of the string.\n",
    "#                     fillchar :(Optional) A character to be used for padding.\n"
   ]
  },
  {
   "cell_type": "code",
   "execution_count": 49,
   "metadata": {},
   "outputs": [
    {
     "data": {
      "text/plain": [
       "' hi how are you'"
      ]
     },
     "execution_count": 49,
     "metadata": {},
     "output_type": "execute_result"
    }
   ],
   "source": [
    "str = ' hi how are you';\n",
    "str.center(4, '-')"
   ]
  },
  {
   "cell_type": "code",
   "execution_count": 50,
   "metadata": {},
   "outputs": [
    {
     "name": "stdout",
     "output_type": "stream",
     "text": [
      "-Hi-\n",
      "**Hi*\n",
      ">>Hi>>\n"
     ]
    }
   ],
   "source": [
    "greet='Hi'\n",
    "print(greet.center(4, '-'))\n",
    "print(greet.center(5, '*'))\n",
    "print(greet.center(6, '>'))"
   ]
  },
  {
   "cell_type": "markdown",
   "metadata": {},
   "source": [
    "  # 4:   count()"
   ]
  },
  {
   "cell_type": "code",
   "execution_count": 55,
   "metadata": {},
   "outputs": [
    {
     "data": {
      "text/plain": [
       "2"
      ]
     },
     "execution_count": 55,
     "metadata": {},
     "output_type": "execute_result"
    }
   ],
   "source": [
    "# Returns the number of times a specified value occurs in a string\n",
    "\n",
    "num = 'code with maria'\n",
    "num.count('a')"
   ]
  },
  {
   "cell_type": "code",
   "execution_count": 56,
   "metadata": {},
   "outputs": [
    {
     "data": {
      "text/plain": [
       "8"
      ]
     },
     "execution_count": 56,
     "metadata": {},
     "output_type": "execute_result"
    }
   ],
   "source": [
    "str = 'The center method returns a new centered string of the specified length,\\\n",
    "which is padded with the specified character. The deafult character is space.';\n",
    "str.count('d')"
   ]
  },
  {
   "cell_type": "markdown",
   "metadata": {},
   "source": [
    "# 5: encode()"
   ]
  },
  {
   "cell_type": "code",
   "execution_count": 57,
   "metadata": {},
   "outputs": [
    {
     "data": {
      "text/plain": [
       "'The center method returns a new centered string of the specified length,which is padded with the specified character. The deafult character is space.'"
      ]
     },
     "execution_count": 57,
     "metadata": {},
     "output_type": "execute_result"
    }
   ],
   "source": [
    "# Returns an encoded version of the string\n",
    "\n",
    "str"
   ]
  },
  {
   "cell_type": "code",
   "execution_count": null,
   "metadata": {},
   "outputs": [],
   "source": []
  },
  {
   "cell_type": "markdown",
   "metadata": {},
   "source": [
    "# 6 : endswith()"
   ]
  },
  {
   "cell_type": "code",
   "execution_count": 70,
   "metadata": {},
   "outputs": [
    {
     "data": {
      "text/plain": [
       "True"
      ]
     },
     "execution_count": 70,
     "metadata": {},
     "output_type": "execute_result"
    }
   ],
   "source": [
    "#\tReturns true if the string ends with the specified value\n",
    "# true or false\n",
    "\n",
    "name = 'maria'\n",
    "name.endswith('ria')"
   ]
  },
  {
   "cell_type": "code",
   "execution_count": 71,
   "metadata": {},
   "outputs": [
    {
     "data": {
      "text/plain": [
       "'maria'"
      ]
     },
     "execution_count": 71,
     "metadata": {},
     "output_type": "execute_result"
    }
   ],
   "source": [
    "name\n"
   ]
  },
  {
   "cell_type": "code",
   "execution_count": 72,
   "metadata": {},
   "outputs": [
    {
     "data": {
      "text/plain": [
       "False"
      ]
     },
     "execution_count": 72,
     "metadata": {},
     "output_type": "execute_result"
    }
   ],
   "source": [
    "name.endswith('ma')"
   ]
  },
  {
   "cell_type": "markdown",
   "metadata": {},
   "source": [
    "# 7; expandtabs() Parameters\n",
    "    The expandtabs() method returns a copy of string with all tab characters '\\t' replaced with whitespace characters until the next multiple of tabsize parameter."
   ]
  },
  {
   "cell_type": "code",
   "execution_count": 95,
   "metadata": {},
   "outputs": [],
   "source": [
    "#\tSets the tab size of the string\n",
    "# Return a copy where all tab characters are expanded using spaces.\n",
    "\n",
    "country1 = 'Pakistan\\tLahore\\tIslamabad\\tmurree\\tQuetta'"
   ]
  },
  {
   "cell_type": "code",
   "execution_count": 98,
   "metadata": {},
   "outputs": [
    {
     "name": "stdout",
     "output_type": "stream",
     "text": [
      "tab 8:     Pakistan        Lahore  Islamabad       murree  Quetta\n"
     ]
    }
   ],
   "source": [
    "print('tab 8: ' + '    ' +  country1.expandtabs(8))"
   ]
  },
  {
   "cell_type": "code",
   "execution_count": 101,
   "metadata": {},
   "outputs": [
    {
     "name": "stdout",
     "output_type": "stream",
     "text": [
      "Original String: xyz\t12345\tabc\n",
      "Tabsize 2: xyz 12345 abc\n",
      "Tabsize 10: xyz   12345 abc\n",
      "Tabsize 20: xyz 12345   abc\n",
      "Tabsize 30: xyz  12345     abc\n",
      "Tabsize 40: xyz                                     12345                                   abc\n"
     ]
    }
   ],
   "source": [
    "str = \"xyz\\t12345\\tabc\"\n",
    "print('Original String:', str)\n",
    "\n",
    "# tabsize is set to 2\n",
    "print('Tabsize 2:', str.expandtabs(2))\n",
    "\n",
    "# tabsize is set to 3\n",
    "print('Tabsize 10:', str.expandtabs(3))\n",
    "\n",
    "# tabsize is set to 4\n",
    "print('Tabsize 20:', str.expandtabs(4))\n",
    "\n",
    "# tabsize is set to 5\n",
    "print('Tabsize 30:', str.expandtabs(5))\n",
    "\n",
    "# tabsize is set to 6\n",
    "print('Tabsize 40:', str.expandtabs(40))"
   ]
  },
  {
   "cell_type": "markdown",
   "metadata": {},
   "source": [
    "# 8:  find()"
   ]
  },
  {
   "cell_type": "code",
   "execution_count": 107,
   "metadata": {},
   "outputs": [
    {
     "name": "stdout",
     "output_type": "stream",
     "text": [
      "27\n"
     ]
    }
   ],
   "source": [
    "#    \tSearches the string for a specified value and returns the position of where it was found\n",
    "\n",
    "\n",
    "sear = \"what is your name, What is your qualification\";\n",
    "print(sear.find('y', 9))"
   ]
  },
  {
   "cell_type": "markdown",
   "metadata": {},
   "source": [
    "# 9 lstrip()"
   ]
  },
  {
   "cell_type": "code",
   "execution_count": 121,
   "metadata": {},
   "outputs": [
    {
     "name": "stdout",
     "output_type": "stream",
     "text": [
      "   lion\n"
     ]
    }
   ],
   "source": [
    "# Return a copy of the string with leading left side whitespace removed.\n",
    "\n",
    "\n",
    "\n",
    "animal = \"   lion\"\n",
    "print(animal)"
   ]
  },
  {
   "cell_type": "code",
   "execution_count": 122,
   "metadata": {},
   "outputs": [
    {
     "data": {
      "text/plain": [
       "'lion'"
      ]
     },
     "execution_count": 122,
     "metadata": {},
     "output_type": "execute_result"
    }
   ],
   "source": [
    "animal.lstrip()"
   ]
  },
  {
   "cell_type": "markdown",
   "metadata": {},
   "source": [
    " # 10 rstrip()"
   ]
  },
  {
   "cell_type": "code",
   "execution_count": 126,
   "metadata": {},
   "outputs": [
    {
     "name": "stdout",
     "output_type": "stream",
     "text": [
      " parrots  \n"
     ]
    }
   ],
   "source": [
    "# Return a copy of the string with trailing right side whitespace removed.\n",
    "\n",
    "bird = ' parrots  '\n",
    "print(bird)"
   ]
  },
  {
   "cell_type": "code",
   "execution_count": 127,
   "metadata": {},
   "outputs": [
    {
     "data": {
      "text/plain": [
       "' parrots'"
      ]
     },
     "execution_count": 127,
     "metadata": {},
     "output_type": "execute_result"
    }
   ],
   "source": [
    "bird.rstrip()"
   ]
  },
  {
   "cell_type": "markdown",
   "metadata": {},
   "source": [
    "# 11; strip()"
   ]
  },
  {
   "cell_type": "code",
   "execution_count": 129,
   "metadata": {},
   "outputs": [
    {
     "data": {
      "text/plain": [
       "' how are you. '"
      ]
     },
     "execution_count": 129,
     "metadata": {},
     "output_type": "execute_result"
    }
   ],
   "source": [
    "greet = \" how are you. \"\n",
    "greet"
   ]
  },
  {
   "cell_type": "code",
   "execution_count": 131,
   "metadata": {},
   "outputs": [
    {
     "data": {
      "text/plain": [
       "'how are you.'"
      ]
     },
     "execution_count": 131,
     "metadata": {},
     "output_type": "execute_result"
    }
   ],
   "source": [
    "greet.strip()"
   ]
  },
  {
   "cell_type": "code",
   "execution_count": null,
   "metadata": {},
   "outputs": [],
   "source": []
  }
 ],
 "metadata": {
  "kernelspec": {
   "display_name": "Python 3",
   "language": "python",
   "name": "python3"
  },
  "language_info": {
   "codemirror_mode": {
    "name": "ipython",
    "version": 3
   },
   "file_extension": ".py",
   "mimetype": "text/x-python",
   "name": "python",
   "nbconvert_exporter": "python",
   "pygments_lexer": "ipython3",
   "version": "3.7.6"
  }
 },
 "nbformat": 4,
 "nbformat_minor": 4
}
