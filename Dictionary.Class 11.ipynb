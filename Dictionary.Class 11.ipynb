{
 "cells": [
  {
   "cell_type": "markdown",
   "metadata": {},
   "source": [
    "# Dictionary"
   ]
  },
  {
   "cell_type": "markdown",
   "metadata": {},
   "source": [
    "- Dictionaries are used to store data values in key:value pairs.\n",
    "\n",
    " - A dictionary is a collection which is ordered, changeable and do not allow duplicates.\n",
    "\n",
    "- Dictionaries are written with curly brackets, and have keys and values:"
   ]
  },
  {
   "cell_type": "code",
   "execution_count": 2,
   "metadata": {},
   "outputs": [
    {
     "name": "stdout",
     "output_type": "stream",
     "text": [
      "<class 'dict'>\n"
     ]
    }
   ],
   "source": [
    "a_dic = {\n",
    "    'name':'Maria',\n",
    "    'Course':'Python',\n",
    "    'institute':'Saylani Mass IT'\n",
    "}\n",
    "print(type(a_dic))"
   ]
  },
  {
   "cell_type": "markdown",
   "metadata": {},
   "source": [
    "# Dictionary Items\n",
    "       - Dictionary items are ordered, changeable, and does not allow duplicates.\n",
    "\n",
    "       - Dictionary items are presented in key:value pairs, and can be referred to by using the key name."
   ]
  },
  {
   "cell_type": "code",
   "execution_count": 6,
   "metadata": {},
   "outputs": [
    {
     "name": "stdout",
     "output_type": "stream",
     "text": [
      "Maria\n"
     ]
    }
   ],
   "source": [
    "a_dic = {\n",
    "    'name':'Maria',\n",
    "    'Course':'Python',\n",
    "    'institute':'Saylani Mass IT'\n",
    "}\n",
    "print(a_dic['name'])"
   ]
  },
  {
   "cell_type": "code",
   "execution_count": 7,
   "metadata": {},
   "outputs": [
    {
     "name": "stdout",
     "output_type": "stream",
     "text": [
      "Saylani Mass IT\n"
     ]
    }
   ],
   "source": [
    "print(a_dic['institute'])"
   ]
  },
  {
   "cell_type": "markdown",
   "metadata": {},
   "source": [
    "# Duplicates Not Allowed\n",
    "       - Dictionaries cannot have two items with the same key:"
   ]
  },
  {
   "cell_type": "code",
   "execution_count": 8,
   "metadata": {},
   "outputs": [
    {
     "name": "stdout",
     "output_type": "stream",
     "text": [
      "{'name': 'Maria', 'Course': 'Python', 'institute': 'Jawan Pakistan Tec'}\n"
     ]
    }
   ],
   "source": [
    "a_dic = {\n",
    "    'name':'Maria',\n",
    "    'Course':'Python',\n",
    "    'institute':'Saylani Mass IT', #Duplicate values will overwrite existing values\n",
    "    'institute':'Jawan Pakistan Tec'\n",
    "}\n",
    "print(a_dic)"
   ]
  },
  {
   "cell_type": "markdown",
   "metadata": {},
   "source": [
    "# Dictionary Length\n",
    "    - To determine how many items a dictionary has, use the len() function:"
   ]
  },
  {
   "cell_type": "code",
   "execution_count": 9,
   "metadata": {},
   "outputs": [
    {
     "name": "stdout",
     "output_type": "stream",
     "text": [
      "3\n"
     ]
    }
   ],
   "source": [
    "print(len(a_dic))"
   ]
  },
  {
   "cell_type": "markdown",
   "metadata": {},
   "source": [
    "# Dictionary Items - Data Types\n",
    "    - The values in dictionary items can be of any data type:\n",
    "        -String, int, boolean, and list data types"
   ]
  },
  {
   "cell_type": "code",
   "execution_count": 10,
   "metadata": {},
   "outputs": [
    {
     "name": "stdout",
     "output_type": "stream",
     "text": [
      "{'brand': 'Ford', 'electric': False, 'year': 1964, 'colors': ['red', 'white', 'blue']}\n"
     ]
    }
   ],
   "source": [
    "thisdict = {\n",
    "  \"brand\": \"Ford\",\n",
    "  \"electric\": False,\n",
    "  \"year\": 1964,\n",
    "  \"colors\": [\"red\", \"white\", \"blue\"]\n",
    "}\n",
    "print(thisdict)"
   ]
  },
  {
   "cell_type": "code",
   "execution_count": 15,
   "metadata": {},
   "outputs": [
    {
     "name": "stdout",
     "output_type": "stream",
     "text": [
      "0 5 5 13\n"
     ]
    }
   ],
   "source": [
    "empty_dic = {}\n",
    "aList= [1,2,3,4,5]\n",
    "aSet = {6,7,8,9,10}\n",
    "aTuple = (11,12,13,14,15)\n",
    "aString = \"I'm a student\"\n",
    "print(len(empty_dic), len(aSet), len(aTuple), len(aString))"
   ]
  },
  {
   "cell_type": "markdown",
   "metadata": {},
   "source": [
    "# Access Dictionary Items\n",
    "    - You can access the items of a dictionary by referring to its key name, inside square brackets:"
   ]
  },
  {
   "cell_type": "code",
   "execution_count": 16,
   "metadata": {},
   "outputs": [],
   "source": [
    "thisdict = {\n",
    "  \"brand\": \"Ford\",\n",
    "  \"electric\": False,\n",
    "  \"year\": 1964,\n",
    "  \"colors\": [\"red\", \"white\", \"blue\"]\n",
    "}\n"
   ]
  },
  {
   "cell_type": "code",
   "execution_count": 17,
   "metadata": {},
   "outputs": [
    {
     "name": "stdout",
     "output_type": "stream",
     "text": [
      "['red', 'white', 'blue']\n"
     ]
    }
   ],
   "source": [
    "x = thisdict['colors']\n",
    "print(x)"
   ]
  },
  {
   "cell_type": "code",
   "execution_count": 18,
   "metadata": {},
   "outputs": [
    {
     "name": "stdout",
     "output_type": "stream",
     "text": [
      "Ford\n"
     ]
    }
   ],
   "source": [
    "x = thisdict['brand']\n",
    "print(x)"
   ]
  },
  {
   "cell_type": "markdown",
   "metadata": {},
   "source": [
    "# There is also a method called get() that will give you the same result:"
   ]
  },
  {
   "cell_type": "code",
   "execution_count": 24,
   "metadata": {},
   "outputs": [
    {
     "name": "stdout",
     "output_type": "stream",
     "text": [
      "Ford\n"
     ]
    }
   ],
   "source": [
    "x = thisdict.get(\"brand\")\n",
    "print(x)"
   ]
  },
  {
   "cell_type": "code",
   "execution_count": 25,
   "metadata": {},
   "outputs": [
    {
     "name": "stdout",
     "output_type": "stream",
     "text": [
      "1964\n"
     ]
    }
   ],
   "source": [
    "x = thisdict.get(\"year\")\n",
    "print(x)"
   ]
  },
  {
   "cell_type": "markdown",
   "metadata": {},
   "source": [
    "# Get Keys\n",
    "   - The keys() method will return a list of all the keys in the dictionary."
   ]
  },
  {
   "cell_type": "code",
   "execution_count": 41,
   "metadata": {},
   "outputs": [],
   "source": [
    "a_dic = {\n",
    "    'name':'Maria',\n",
    "    'Course':'Python',\n",
    "    'institute':'Saylani Mass IT', \n",
    "    'institute':'Jawan Pakistan Tec'\n",
    "}\n"
   ]
  },
  {
   "cell_type": "code",
   "execution_count": 42,
   "metadata": {},
   "outputs": [
    {
     "data": {
      "text/plain": [
       "dict_keys(['name', 'Course', 'institute'])"
      ]
     },
     "execution_count": 42,
     "metadata": {},
     "output_type": "execute_result"
    }
   ],
   "source": [
    "a_dic.keys()"
   ]
  },
  {
   "cell_type": "markdown",
   "metadata": {},
   "source": [
    "- The list of the keys is a view of the dictionary, meaning that any changes done to the dictionary will be reflected in the keys list."
   ]
  },
  {
   "cell_type": "markdown",
   "metadata": {},
   "source": [
    "# Example\n",
    "  - Add a new item to the original dictionary, and see that the keys list gets updated as well"
   ]
  },
  {
   "cell_type": "code",
   "execution_count": 46,
   "metadata": {},
   "outputs": [
    {
     "name": "stdout",
     "output_type": "stream",
     "text": [
      "dict_keys(['name', 'Course', 'institute'])\n"
     ]
    }
   ],
   "source": [
    "a_dic = {\n",
    "    'name':'Maria',\n",
    "    'Course':'Python',\n",
    "    'institute':'Saylani Mass IT', \n",
    "    'institute':'Jawan Pakistan Tec'\n",
    "}\n",
    "\n",
    "x = a_dic.keys()  #before change\n",
    "print(x)"
   ]
  },
  {
   "cell_type": "code",
   "execution_count": 47,
   "metadata": {},
   "outputs": [
    {
     "name": "stdout",
     "output_type": "stream",
     "text": [
      "dict_keys(['name', 'Course', 'institute', 'Duration'])\n"
     ]
    }
   ],
   "source": [
    "a_dic[\"Duration\"] = \"Two months\"\n",
    "\n",
    "print(x) #after the change"
   ]
  },
  {
   "cell_type": "markdown",
   "metadata": {},
   "source": [
    "# Get Values\n",
    "  - The values() method will return a list of all the values in the dictionary."
   ]
  },
  {
   "cell_type": "code",
   "execution_count": 48,
   "metadata": {},
   "outputs": [
    {
     "data": {
      "text/plain": [
       "dict_values(['Maria', 'Python', 'Jawan Pakistan Tec', 'Two months'])"
      ]
     },
     "execution_count": 48,
     "metadata": {},
     "output_type": "execute_result"
    }
   ],
   "source": [
    "a_dic.values()"
   ]
  },
  {
   "cell_type": "markdown",
   "metadata": {},
   "source": [
    "- The list of the values is a view of the dictionary, meaning that any changes done to the dictionary will be reflected in the values list."
   ]
  },
  {
   "cell_type": "markdown",
   "metadata": {},
   "source": [
    "# Example\n",
    "Make a change in the original dictionary, and see that the values list gets updated as well:"
   ]
  },
  {
   "cell_type": "code",
   "execution_count": 49,
   "metadata": {},
   "outputs": [
    {
     "data": {
      "text/plain": [
       "{'name': 'Maria',\n",
       " 'Course': 'Python',\n",
       " 'institute': 'Jawan Pakistan Tec',\n",
       " 'Duration': 'Two months'}"
      ]
     },
     "execution_count": 49,
     "metadata": {},
     "output_type": "execute_result"
    }
   ],
   "source": [
    "a_dic"
   ]
  },
  {
   "cell_type": "code",
   "execution_count": 50,
   "metadata": {},
   "outputs": [
    {
     "name": "stdout",
     "output_type": "stream",
     "text": [
      "{'name': 'Maria', 'Course': 'Python', 'institute': 'Jawan Pakistan Tec', 'Duration': '2 Months'}\n"
     ]
    }
   ],
   "source": [
    "a_dic['Duration']= '2 Months'\n",
    "print(a_dic)"
   ]
  },
  {
   "cell_type": "markdown",
   "metadata": {},
   "source": [
    "# Check if Key Exists\n",
    "      To determine if a specified key is present in a dictionary use the in keyword:"
   ]
  },
  {
   "cell_type": "code",
   "execution_count": 59,
   "metadata": {},
   "outputs": [
    {
     "name": "stdout",
     "output_type": "stream",
     "text": [
      "Yes, 'Duration' is one of the keys in the thisdict dictionary\n"
     ]
    }
   ],
   "source": [
    "a_dic = {'name': 'Maria',\n",
    " 'Course': 'Python',\n",
    " 'institute': 'Jawan Pakistan Tec',\n",
    " 'Duration': 'Two months'}\n",
    "\n",
    "if 'Duration' in a_dic:\n",
    "     print(\"Yes, 'Duration' is one of the keys in the thisdict dictionary\")"
   ]
  },
  {
   "cell_type": "code",
   "execution_count": 60,
   "metadata": {},
   "outputs": [
    {
     "name": "stdout",
     "output_type": "stream",
     "text": [
      "No keys here\n"
     ]
    }
   ],
   "source": [
    "a_dic = {'name': 'Maria',\n",
    " 'Course': 'Python',\n",
    " 'institute': 'Jawan Pakistan Tec',\n",
    " 'Duration': 'Two months'}\n",
    "\n",
    "if 'timing' in a_dic:\n",
    "     print(\"Yes, 'Duration' is one of the keys in the thisdict dictionary\");\n",
    "else:\n",
    "    print('No keys here')"
   ]
  },
  {
   "cell_type": "markdown",
   "metadata": {},
   "source": [
    "# Change Dictionary Items\n",
    "  - You can change the value of a specific item by referring to its key name:"
   ]
  },
  {
   "cell_type": "code",
   "execution_count": 6,
   "metadata": {},
   "outputs": [
    {
     "name": "stdout",
     "output_type": "stream",
     "text": [
      "{'brand': 'Ford', 'electric': False, 'year': 2018, 'colors': ['red', 'white', 'blue']}\n"
     ]
    }
   ],
   "source": [
    "thisdict = {\n",
    "  \"brand\": \"Ford\",\n",
    "  \"electric\": False,\n",
    "  \"year\": 1964,\n",
    "  \"colors\": [\"red\", \"white\", \"blue\"]\n",
    "}\n",
    "thisdict[\"year\"] = 2018\n",
    "print(thisdict)"
   ]
  },
  {
   "cell_type": "markdown",
   "metadata": {},
   "source": [
    "# Update Dictionary\n",
    "   - The update() method will update the dictionary with the items from the given argument.\n",
    "\n",
    "    - The argument must be a dictionary, or an iterable object with key:value pairs."
   ]
  },
  {
   "cell_type": "code",
   "execution_count": 9,
   "metadata": {},
   "outputs": [
    {
     "name": "stdout",
     "output_type": "stream",
     "text": [
      "{'brand': 'Ford', 'electric': False, 'year': 2022, 'colors': ['red', 'white', 'blue']}\n"
     ]
    }
   ],
   "source": [
    "thisdict = {\n",
    "  \"brand\": \"Ford\",\n",
    "  \"electric\": False,\n",
    "  \"year\": 1964,\n",
    "  \"colors\": [\"red\", \"white\", \"blue\"]\n",
    "}\n",
    "thisdict.update({'year':2022})\n",
    "print(thisdict)"
   ]
  },
  {
   "cell_type": "markdown",
   "metadata": {},
   "source": [
    "# Add Dictionary Items\n",
    "  - Adding an item to the dictionary is done by using a new index key and assigning a value to it:"
   ]
  },
  {
   "cell_type": "code",
   "execution_count": 10,
   "metadata": {},
   "outputs": [
    {
     "name": "stdout",
     "output_type": "stream",
     "text": [
      "{'brand': 'Ford', 'electric': False, 'year': 1964, 'colors': ['red', 'white', 'blue'], 'price': '2k'}\n"
     ]
    }
   ],
   "source": [
    "thisdict = {\n",
    "  \"brand\": \"Ford\",\n",
    "  \"electric\": False,\n",
    "  \"year\": 1964,\n",
    "  \"colors\": [\"red\", \"white\", \"blue\"]\n",
    "}\n",
    "thisdict['price'] = '2k'\n",
    "print(thisdict)"
   ]
  },
  {
   "cell_type": "markdown",
   "metadata": {},
   "source": [
    "# Remove Dictionary Items\n",
    " - There are several methods to remove items from a dictionary:"
   ]
  },
  {
   "cell_type": "markdown",
   "metadata": {},
   "source": [
    "# 1: pop() method\n",
    "   - It removes the item with the specified key name:"
   ]
  },
  {
   "cell_type": "code",
   "execution_count": 11,
   "metadata": {},
   "outputs": [
    {
     "name": "stdout",
     "output_type": "stream",
     "text": [
      "{'brand': 'Ford', 'year': 1964}\n"
     ]
    }
   ],
   "source": [
    "thisdict = {\n",
    "  \"brand\": \"Ford\",\n",
    "  \"model\": \"Mustang\",\n",
    "  \"year\": 1964\n",
    "}\n",
    "thisdict.pop(\"model\")\n",
    "print(thisdict)"
   ]
  },
  {
   "cell_type": "markdown",
   "metadata": {},
   "source": [
    "# 2: popitem() method \n",
    "  - It removes the last inserted item (in versions before 3.7, a random item is removed instead):"
   ]
  },
  {
   "cell_type": "code",
   "execution_count": 13,
   "metadata": {},
   "outputs": [
    {
     "name": "stdout",
     "output_type": "stream",
     "text": [
      "{'brand': 'Ford', 'model': 'Mustang'}\n"
     ]
    }
   ],
   "source": [
    "thisdict = {\n",
    "  \"brand\": \"Ford\",\n",
    "  \"model\": \"Mustang\",\n",
    "  \"year\": 1964\n",
    "}\n",
    "thisdict.popitem()\n",
    "print(thisdict)"
   ]
  },
  {
   "cell_type": "markdown",
   "metadata": {},
   "source": [
    "# 3: del keyword\n",
    "  - It removes the item with the specified key name:"
   ]
  },
  {
   "cell_type": "code",
   "execution_count": 17,
   "metadata": {},
   "outputs": [
    {
     "data": {
      "text/plain": [
       "{'name': 'Maria', 'Course': 'Python', 'Duration': 'Two months'}"
      ]
     },
     "execution_count": 17,
     "metadata": {},
     "output_type": "execute_result"
    }
   ],
   "source": [
    "a_dic = {\n",
    " 'name': 'Maria',\n",
    " 'Course': 'Python',\n",
    " 'institute': 'Jawan Pakistan Tec',\n",
    " 'Duration': 'Two months'}\n",
    "\n",
    "del a_dic['institute']\n",
    "a_dic"
   ]
  },
  {
   "cell_type": "code",
   "execution_count": 25,
   "metadata": {},
   "outputs": [],
   "source": [
    "# The del keyword can also delete the dictionary completely:\n",
    "\n",
    "a_dic = {\n",
    " 'name': 'Maria',\n",
    " 'Course': 'Python',\n",
    " 'institute': 'Jawan Pakistan Tec',\n",
    " 'Duration': 'Two months'}\n",
    "\n",
    "del a_dic\n"
   ]
  },
  {
   "cell_type": "code",
   "execution_count": 28,
   "metadata": {},
   "outputs": [
    {
     "ename": "NameError",
     "evalue": "name 'a_dic' is not defined",
     "output_type": "error",
     "traceback": [
      "\u001b[1;31m---------------------------------------------------------------------------\u001b[0m",
      "\u001b[1;31mNameError\u001b[0m                                 Traceback (most recent call last)",
      "\u001b[1;32m<ipython-input-28-627a2de480aa>\u001b[0m in \u001b[0;36m<module>\u001b[1;34m\u001b[0m\n\u001b[1;32m----> 1\u001b[1;33m \u001b[0mprint\u001b[0m\u001b[1;33m(\u001b[0m\u001b[0ma_dic\u001b[0m\u001b[1;33m)\u001b[0m  \u001b[1;31m#this will cause an error because \"a_dict\" no longer exists.\u001b[0m\u001b[1;33m\u001b[0m\u001b[1;33m\u001b[0m\u001b[0m\n\u001b[0m",
      "\u001b[1;31mNameError\u001b[0m: name 'a_dic' is not defined"
     ]
    }
   ],
   "source": [
    "print(a_dic)  #this will cause an error because \"a_dict\" no longer exists."
   ]
  },
  {
   "cell_type": "markdown",
   "metadata": {},
   "source": [
    "# 4: The clear() method empties the dictionary:"
   ]
  },
  {
   "cell_type": "code",
   "execution_count": 29,
   "metadata": {},
   "outputs": [
    {
     "name": "stdout",
     "output_type": "stream",
     "text": [
      "{}\n"
     ]
    }
   ],
   "source": [
    "a_dic = {\n",
    " 'name': 'Maria',\n",
    " 'Course': 'Python',\n",
    " 'institute': 'Jawan Pakistan Tec',\n",
    " 'Duration': 'Two months'}\n",
    "a_dic.clear()\n",
    "print(a_dic)"
   ]
  },
  {
   "cell_type": "markdown",
   "metadata": {},
   "source": [
    "# Loop Dictionaries\n",
    "  - You can loop through a dictionary by using a for loop.\n",
    "\n",
    "When looping through a dictionary, the return value are the keys of the dictionary, but there are methods to return the values as well."
   ]
  },
  {
   "cell_type": "code",
   "execution_count": 4,
   "metadata": {},
   "outputs": [
    {
     "name": "stdout",
     "output_type": "stream",
     "text": [
      "name\n",
      "Course\n",
      "institute\n",
      "Duration\n"
     ]
    }
   ],
   "source": [
    "# Print all key names in the dictionary, one by one:\n",
    "dic = {\n",
    " 'name': 'Maria',\n",
    " 'Course': 'Python',\n",
    " 'institute': 'Jawan Pakistan Tec',\n",
    " 'Duration': 'Two months'}\n",
    "\n",
    "for x in dic:\n",
    "    print(x)"
   ]
  },
  {
   "cell_type": "code",
   "execution_count": 5,
   "metadata": {},
   "outputs": [
    {
     "name": "stdout",
     "output_type": "stream",
     "text": [
      "Maria\n",
      "Python\n",
      "Jawan Pakistan Tec\n",
      "Two months\n"
     ]
    }
   ],
   "source": [
    "# Print all values in the dictionary, one by one:\n",
    "\n",
    "dic = {\n",
    " 'name': 'Maria',\n",
    " 'Course': 'Python',\n",
    " 'institute': 'Jawan Pakistan Tec',\n",
    " 'Duration': 'Two months'}\n",
    "\n",
    "for x in dic:\n",
    "    print(dic[x])\n",
    "\n"
   ]
  },
  {
   "cell_type": "code",
   "execution_count": 7,
   "metadata": {},
   "outputs": [
    {
     "name": "stdout",
     "output_type": "stream",
     "text": [
      "Maria\n",
      "Python\n",
      "Jawan Pakistan Tec\n",
      "Two months\n"
     ]
    }
   ],
   "source": [
    "# You can also use the values() method to return values of a dictionary:\n",
    "\n",
    "\n",
    "dic = {\n",
    " 'name': 'Maria',\n",
    " 'Course': 'Python',\n",
    " 'institute': 'Jawan Pakistan Tec',\n",
    " 'Duration': 'Two months'}\n",
    "\n",
    "for x in dic.values():\n",
    "    print(x)\n",
    "\n"
   ]
  },
  {
   "cell_type": "code",
   "execution_count": 8,
   "metadata": {},
   "outputs": [
    {
     "name": "stdout",
     "output_type": "stream",
     "text": [
      "name\n",
      "Course\n",
      "institute\n",
      "Duration\n"
     ]
    }
   ],
   "source": [
    "# You can use the keys() method to return the keys of a dictionary:\n",
    "\n",
    "dic = {\n",
    " 'name': 'Maria',\n",
    " 'Course': 'Python',\n",
    " 'institute': 'Jawan Pakistan Tec',\n",
    " 'Duration': 'Two months'}\n",
    "\n",
    "for x in dic.keys():\n",
    "    print(x)\n",
    "\n"
   ]
  },
  {
   "cell_type": "code",
   "execution_count": 9,
   "metadata": {},
   "outputs": [
    {
     "name": "stdout",
     "output_type": "stream",
     "text": [
      "('name', 'Maria')\n",
      "('Course', 'Python')\n",
      "('institute', 'Jawan Pakistan Tec')\n",
      "('Duration', 'Two months')\n"
     ]
    }
   ],
   "source": [
    "# Loop through both keys and values, by using the items() method:\n",
    "\n",
    "dic = {\n",
    " 'name': 'Maria',\n",
    " 'Course': 'Python',\n",
    " 'institute': 'Jawan Pakistan Tec',\n",
    " 'Duration': 'Two months'}\n",
    "\n",
    "for x in dic.items():\n",
    "    print(x)"
   ]
  },
  {
   "cell_type": "markdown",
   "metadata": {},
   "source": [
    "# Copy a Dictionary\n",
    "  - You cannot copy a dictionary simply by typing dict2 = dict1, because: dict2 will only be a reference to dict1, and changes made in dict1 will automatically also be made in dict2.\n",
    "\n",
    "  - There are ways to make a copy, one way is to use the built-in Dictionary method copy()."
   ]
  },
  {
   "cell_type": "code",
   "execution_count": 10,
   "metadata": {},
   "outputs": [
    {
     "name": "stdout",
     "output_type": "stream",
     "text": [
      "{'brand': 'Ford', 'model': 'Mustang', 'year': 1964}\n"
     ]
    }
   ],
   "source": [
    "# Make a copy of a dictionary with the copy() method:\n",
    "\n",
    "thisdict = {\n",
    "  \"brand\": \"Ford\",\n",
    "  \"model\": \"Mustang\",\n",
    "  \"year\": 1964\n",
    "}\n",
    "mydict = thisdict.copy()\n",
    "print(mydict)"
   ]
  },
  {
   "cell_type": "code",
   "execution_count": 11,
   "metadata": {},
   "outputs": [
    {
     "name": "stdout",
     "output_type": "stream",
     "text": [
      "{'brand': 'Ford', 'model': 'Mustang', 'year': 1964}\n"
     ]
    }
   ],
   "source": [
    "# Another way to make a copy is to use the built-in function dict().\n",
    "\n",
    "thisdict = {\n",
    "  \"brand\": \"Ford\",\n",
    "  \"model\": \"Mustang\",\n",
    "  \"year\": 1964\n",
    "}\n",
    "mydict = dict(thisdict)\n",
    "print(mydict)"
   ]
  },
  {
   "cell_type": "markdown",
   "metadata": {},
   "source": [
    "# Nested Dictionaries\n",
    "  - A dictionary can contain dictionaries, this is called nested dictionaries."
   ]
  },
  {
   "cell_type": "code",
   "execution_count": 14,
   "metadata": {},
   "outputs": [
    {
     "name": "stdout",
     "output_type": "stream",
     "text": [
      "{'Member1': {'name': 'Maria', 'year': 2002}, 'Member2': {'name': 'Ria', 'year': 2004}, 'Member3': {'name': 'Sheikh', 'year': 2000}, 'Member4': {'name': 'Khan', 'year': 2006}}\n"
     ]
    }
   ],
   "source": [
    "# Create a dictionary that contain three dictionaries:\n",
    "\n",
    "myfamily = {\n",
    "    'Member1' : {\n",
    "        'name': \"Maria\",\n",
    "        'year': 2002\n",
    "    },\n",
    "    'Member2' : {\n",
    "        'name': \"Ria\",\n",
    "        'year': 2004\n",
    "    },\n",
    "    'Member3' : {\n",
    "        'name': \"Sheikh\",\n",
    "        'year': 2000\n",
    "    },\n",
    "    'Member4' : {\n",
    "        'name': \"Khan\",\n",
    "        'year': 2006\n",
    "    }\n",
    "}\n",
    "\n",
    "print(myfamily)"
   ]
  },
  {
   "cell_type": "markdown",
   "metadata": {},
   "source": [
    "# Create three dictionaries, then create one dictionary that will contain the other three dictionaries:"
   ]
  },
  {
   "cell_type": "code",
   "execution_count": 25,
   "metadata": {},
   "outputs": [
    {
     "name": "stdout",
     "output_type": "stream",
     "text": [
      "{'child1': {'name': 'Sheikh', 'year': 2002}, 'child2': {'name': 'Ria', 'year': 2004}, 'child3': {'name': 'Khan', 'year': 2006}, 'child4': {'name': 'Maria', 'year': 2011}}\n"
     ]
    }
   ],
   "source": [
    "Member1 = {\n",
    "  \"name\" : \"Sheikh\",\n",
    "  \"year\" : 2002\n",
    "}\n",
    "Member2 = {\n",
    "  \"name\" : \"Ria\",\n",
    "  \"year\" : 2004\n",
    "}\n",
    "Member3 = {\n",
    "  \"name\" : \"Khan\",\n",
    "  \"year\" : 2006\n",
    "}\n",
    "Member4 = {\n",
    "  \"name\" : \"Maria\",\n",
    "  \"year\" : 2011\n",
    "}\n",
    "\n",
    "myfamily = {\n",
    "  \"child1\" : Member1,\n",
    "  \"child2\" : Member2,\n",
    "  \"child3\" : Member3,\n",
    "  \"child4\" : Member4,\n",
    "}\n",
    "print(myfamily)"
   ]
  },
  {
   "cell_type": "markdown",
   "metadata": {},
   "source": [
    "# A list in a Dictionary"
   ]
  },
  {
   "cell_type": "code",
   "execution_count": 38,
   "metadata": {},
   "outputs": [],
   "source": [
    "class_py = {\n",
    "    'stud'   : ['asad', 'fahad', 'khan','sheikh'],\n",
    "    'course' : ['python','gd','data science','web'],\n",
    "    'days'   : ['monday','tuesday','wednesday','saturday'],\n",
    "    'age'    : [20, 25, 18, 22]\n",
    "    \n",
    "}"
   ]
  },
  {
   "cell_type": "code",
   "execution_count": 30,
   "metadata": {},
   "outputs": [
    {
     "name": "stdout",
     "output_type": "stream",
     "text": [
      "['asad', 'fahad', 'khan', 'sheikh']\n",
      "['python', 'gd', 'data science', 'web']\n",
      "['monday', 'tuesday', 'wednesday', 'saturday']\n",
      "[20, 25, 18, 22]\n"
     ]
    }
   ],
   "source": [
    "class_py\n",
    "for keys,values in class_py.items():\n",
    "        print(values)"
   ]
  },
  {
   "cell_type": "code",
   "execution_count": 31,
   "metadata": {},
   "outputs": [
    {
     "name": "stdout",
     "output_type": "stream",
     "text": [
      "stud\n",
      "course\n",
      "days\n",
      "age\n"
     ]
    }
   ],
   "source": [
    "class_py\n",
    "for keys,values in class_py.items():\n",
    "        print(keys)"
   ]
  },
  {
   "cell_type": "code",
   "execution_count": 40,
   "metadata": {},
   "outputs": [
    {
     "name": "stdout",
     "output_type": "stream",
     "text": [
      "stud ['asad', 'fahad', 'khan', 'sheikh']\n",
      "course ['python', 'gd', 'data science', 'web']\n",
      "days ['monday', 'tuesday', 'wednesday', 'saturday']\n",
      "age [20, 25, 18, 22]\n"
     ]
    }
   ],
   "source": [
    "class_py\n",
    "for keys,values in class_py.items():\n",
    "        print(keys,values)"
   ]
  },
  {
   "cell_type": "code",
   "execution_count": 41,
   "metadata": {},
   "outputs": [
    {
     "name": "stdout",
     "output_type": "stream",
     "text": [
      "20\n"
     ]
    }
   ],
   "source": [
    "# specific value (data)\n",
    "print(values[0])"
   ]
  },
  {
   "cell_type": "code",
   "execution_count": 33,
   "metadata": {},
   "outputs": [
    {
     "data": {
      "text/html": [
       "<div>\n",
       "<style scoped>\n",
       "    .dataframe tbody tr th:only-of-type {\n",
       "        vertical-align: middle;\n",
       "    }\n",
       "\n",
       "    .dataframe tbody tr th {\n",
       "        vertical-align: top;\n",
       "    }\n",
       "\n",
       "    .dataframe thead th {\n",
       "        text-align: right;\n",
       "    }\n",
       "</style>\n",
       "<table border=\"1\" class=\"dataframe\">\n",
       "  <thead>\n",
       "    <tr style=\"text-align: right;\">\n",
       "      <th></th>\n",
       "      <th>stud</th>\n",
       "      <th>course</th>\n",
       "      <th>days</th>\n",
       "      <th>age</th>\n",
       "    </tr>\n",
       "  </thead>\n",
       "  <tbody>\n",
       "    <tr>\n",
       "      <th>0</th>\n",
       "      <td>asad</td>\n",
       "      <td>python</td>\n",
       "      <td>monday</td>\n",
       "      <td>20</td>\n",
       "    </tr>\n",
       "    <tr>\n",
       "      <th>1</th>\n",
       "      <td>fahad</td>\n",
       "      <td>gd</td>\n",
       "      <td>tuesday</td>\n",
       "      <td>25</td>\n",
       "    </tr>\n",
       "    <tr>\n",
       "      <th>2</th>\n",
       "      <td>khan</td>\n",
       "      <td>data science</td>\n",
       "      <td>wednesday</td>\n",
       "      <td>18</td>\n",
       "    </tr>\n",
       "    <tr>\n",
       "      <th>3</th>\n",
       "      <td>sheikh</td>\n",
       "      <td>web</td>\n",
       "      <td>saturday</td>\n",
       "      <td>22</td>\n",
       "    </tr>\n",
       "  </tbody>\n",
       "</table>\n",
       "</div>"
      ],
      "text/plain": [
       "     stud        course       days  age\n",
       "0    asad        python     monday   20\n",
       "1   fahad            gd    tuesday   25\n",
       "2    khan  data science  wednesday   18\n",
       "3  sheikh           web   saturday   22"
      ]
     },
     "execution_count": 33,
     "metadata": {},
     "output_type": "execute_result"
    }
   ],
   "source": [
    "import pandas\n",
    "pandas.DataFrame(class_py)"
   ]
  },
  {
   "cell_type": "code",
   "execution_count": 44,
   "metadata": {},
   "outputs": [
    {
     "name": "stdout",
     "output_type": "stream",
     "text": [
      "False\n"
     ]
    }
   ],
   "source": [
    "a = ['py', 'gd', 'web', 'nt', 'cb']\n",
    "\n",
    "for name in a:\n",
    "    if name == 'cd':\n",
    "        print('True');\n",
    "        break\n",
    "else:\n",
    "    print('False')"
   ]
  },
  {
   "cell_type": "code",
   "execution_count": 47,
   "metadata": {},
   "outputs": [
    {
     "name": "stdout",
     "output_type": "stream",
     "text": [
      "True\n"
     ]
    }
   ],
   "source": [
    "a = ['py', 'gd', 'web', 'nt', 'cb']\n",
    "\n",
    "for name in a:\n",
    "    if name == 'web':\n",
    "        print('True');\n",
    "        break\n",
    "else:\n",
    "    print('False')"
   ]
  },
  {
   "cell_type": "code",
   "execution_count": 48,
   "metadata": {},
   "outputs": [
    {
     "name": "stdout",
     "output_type": "stream",
     "text": [
      "<built-in method copy of list object at 0x0664B2B0>\n"
     ]
    }
   ],
   "source": [
    "# Make a copy\n",
    "\n",
    "b = a.copy\n",
    "print(b)"
   ]
  },
  {
   "cell_type": "code",
   "execution_count": 51,
   "metadata": {},
   "outputs": [
    {
     "name": "stdout",
     "output_type": "stream",
     "text": [
      "['py', 'gd', 'web', 'nt', 'cb']\n"
     ]
    }
   ],
   "source": [
    "# make a slice\n",
    "\n",
    "c = a[:]\n",
    "print(c)"
   ]
  },
  {
   "cell_type": "code",
   "execution_count": 52,
   "metadata": {},
   "outputs": [
    {
     "data": {
      "text/plain": [
       "['py', 'gd', 'web', 'nt', 'cb']"
      ]
     },
     "execution_count": 52,
     "metadata": {},
     "output_type": "execute_result"
    }
   ],
   "source": [
    "# pass by reference\n",
    "\n",
    "d = c\n",
    "d"
   ]
  },
  {
   "cell_type": "code",
   "execution_count": 56,
   "metadata": {},
   "outputs": [
    {
     "name": "stdout",
     "output_type": "stream",
     "text": [
      "<built-in method copy of list object at 0x0664B2B0>\n"
     ]
    }
   ],
   "source": [
    "if type(a)=='list':\n",
    "    b= a.copy()\n",
    "print(b)"
   ]
  },
  {
   "cell_type": "code",
   "execution_count": 57,
   "metadata": {},
   "outputs": [
    {
     "data": {
      "text/plain": [
       "False"
      ]
     },
     "execution_count": 57,
     "metadata": {},
     "output_type": "execute_result"
    }
   ],
   "source": [
    "# iterate automatically\n",
    "\n",
    "a is list"
   ]
  },
  {
   "cell_type": "code",
   "execution_count": 58,
   "metadata": {},
   "outputs": [
    {
     "data": {
      "text/plain": [
       "True"
      ]
     },
     "execution_count": 58,
     "metadata": {},
     "output_type": "execute_result"
    }
   ],
   "source": [
    "# iterate automatically\n",
    "\n",
    "d is c"
   ]
  },
  {
   "cell_type": "code",
   "execution_count": 59,
   "metadata": {},
   "outputs": [
    {
     "name": "stdout",
     "output_type": "stream",
     "text": [
      "c\n",
      "o\n",
      "u\n",
      "r\n",
      "s\n",
      "e\n"
     ]
    }
   ],
   "source": [
    "for key in class_py:\n",
    "    if key == 'course':\n",
    "        for course in key:\n",
    "            print(course)\n",
    "# output is only course"
   ]
  },
  {
   "cell_type": "code",
   "execution_count": 67,
   "metadata": {},
   "outputs": [
    {
     "name": "stdout",
     "output_type": "stream",
     "text": [
      "20\n",
      "25\n",
      "18\n",
      "22\n"
     ]
    }
   ],
   "source": [
    "for course in class_py[key]:\n",
    "            print(course)\n",
    "# now we got a keys"
   ]
  },
  {
   "cell_type": "code",
   "execution_count": 66,
   "metadata": {},
   "outputs": [
    {
     "name": "stdout",
     "output_type": "stream",
     "text": [
      "python\n",
      "gd\n",
      "data science\n",
      "web\n"
     ]
    }
   ],
   "source": [
    "# ******* or ******\n",
    "\n",
    "for course in class_py['course']:\n",
    "            print(course)\n",
    "# now we got a course"
   ]
  }
 ],
 "metadata": {
  "kernelspec": {
   "display_name": "Python 3",
   "language": "python",
   "name": "python3"
  },
  "language_info": {
   "codemirror_mode": {
    "name": "ipython",
    "version": 3
   },
   "file_extension": ".py",
   "mimetype": "text/x-python",
   "name": "python",
   "nbconvert_exporter": "python",
   "pygments_lexer": "ipython3",
   "version": "3.7.6"
  }
 },
 "nbformat": 4,
 "nbformat_minor": 4
}
