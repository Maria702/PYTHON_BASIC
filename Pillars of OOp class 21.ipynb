{
 "cells": [
  {
   "cell_type": "markdown",
   "metadata": {},
   "source": [
    "# Pillars of Object Oriented Programming\n",
    "    -  Abstraction.\n",
    "    -  Encapsulation.\n",
    "    -  Inheritance.\n",
    "    -  Polymorphism."
   ]
  },
  {
   "cell_type": "markdown",
   "metadata": {},
   "source": [
    "#  1:  Inheritance.\n",
    "   - To recevie a quality, characteristics, etc from your parents or family..\n",
    "   \n",
    "      - Inheritance allows us to define a class that inherits all the methods and properties from another class.\n",
    "\n",
    "    - Parent class is the class being inherited from, also called base class.\n",
    "\n",
    "    - Child class is the class that inherits from another class, also called derived class.\n",
    "\n"
   ]
  },
  {
   "cell_type": "markdown",
   "metadata": {},
   "source": [
    "MultiLevel Inheritance.: This inheritance enables a child class to inherit from more than one parent class. \n",
    "\n",
    "\n",
    "\n",
    "class A():   # parent\n",
    "  attribute A    # child\n",
    "  behavior A     # child\n",
    "  \n",
    "class B():    # parent\n",
    "  attribute B     attribute A         # child\n",
    "  behavior B      behavior A          # child\n",
    "  \n",
    "class C():    # parent\n",
    "  attribute C     attribute B       attribute A         # child\n",
    "  behavior C      behavior B        behavior A          # child"
   ]
  },
  {
   "cell_type": "markdown",
   "metadata": {},
   "source": [
    "Multiple Inheritance.: the transfer of the properties of characteristics is done to more than one class hierarchically\n",
    "\n",
    "class A():       # parent\n",
    "  attribute A    # child\n",
    "  behavior A     # child\n",
    "  \n",
    "  \n",
    "#parent class A\n",
    "class vehicle:\n",
    "    def functioning(self):\n",
    "        print(“vehicles are used for transportation”)\n",
    "\n",
    "#child class A\n",
    "class car(vehicle):\n",
    "    def wheels(self):\n",
    "        print(“a car has 4 wheels”)\n",
    "       \n",
    "#child class A\n",
    "class electric_car(car):\n",
    "    def speciality(self):\n",
    "        print(“electric car runs on electricity”)\n",
    "\n",
    "electric=electric_car()\n",
    "electric.speciality()\n",
    "electric.wheels()\n",
    "electric.functioning()"
   ]
  },
  {
   "cell_type": "code",
   "execution_count": 5,
   "metadata": {},
   "outputs": [],
   "source": [
    "# Example:\n",
    "\n",
    "class Person():\n",
    "    def __init__(self,name,age,gender,cnic,contact):\n",
    "        self.person_name    = name\n",
    "        self.person_age     = age\n",
    "        self.person_gender  = gender\n",
    "        self.person_cnic    = cnic\n",
    "        self.person_contact = contact\n",
    "    def walk(self):\n",
    "        print(f'{self.person_name} is now walking.')\n",
    "            "
   ]
  },
  {
   "cell_type": "code",
   "execution_count": 7,
   "metadata": {},
   "outputs": [],
   "source": [
    "p1 = Person('Khan', 30, 'Male', 42410933993 , 283833399)"
   ]
  },
  {
   "cell_type": "code",
   "execution_count": 8,
   "metadata": {},
   "outputs": [
    {
     "name": "stdout",
     "output_type": "stream",
     "text": [
      "Khan is now walking.\n"
     ]
    }
   ],
   "source": [
    "p1.walk()"
   ]
  },
  {
   "cell_type": "code",
   "execution_count": 109,
   "metadata": {},
   "outputs": [],
   "source": [
    "# if user is not more than 1 year\n",
    "\n",
    "# Example 2 :\n",
    "\n",
    "class Person():\n",
    "    def __init__(self,name,age,gender,cnic,contact):\n",
    "        self.person_name    = name\n",
    "        self.person_age     = age\n",
    "        self.person_gender  = gender\n",
    "        self.person_cnic    = cnic\n",
    "        self.person_contact = contact\n",
    "    def walk(self):\n",
    "        if self.person_age <=1:\n",
    "            print(f'{self.person_name} is not walking..')\n",
    "        else:\n",
    "            print(f'{self.person_name} is now walking.')\n",
    "            \n"
   ]
  },
  {
   "cell_type": "code",
   "execution_count": 110,
   "metadata": {},
   "outputs": [],
   "source": [
    "p2 = Person('Ria', 0.5, 'Female', '3889393','888339')"
   ]
  },
  {
   "cell_type": "code",
   "execution_count": 111,
   "metadata": {},
   "outputs": [
    {
     "data": {
      "text/plain": [
       "'Ria'"
      ]
     },
     "execution_count": 111,
     "metadata": {},
     "output_type": "execute_result"
    }
   ],
   "source": [
    "p2.person_name"
   ]
  },
  {
   "cell_type": "code",
   "execution_count": 112,
   "metadata": {},
   "outputs": [
    {
     "data": {
      "text/plain": [
       "0.5"
      ]
     },
     "execution_count": 112,
     "metadata": {},
     "output_type": "execute_result"
    }
   ],
   "source": [
    "p2.person_age"
   ]
  },
  {
   "cell_type": "code",
   "execution_count": 113,
   "metadata": {},
   "outputs": [
    {
     "name": "stdout",
     "output_type": "stream",
     "text": [
      "Ria is not walking..\n"
     ]
    }
   ],
   "source": [
    "p2.walk()"
   ]
  },
  {
   "cell_type": "code",
   "execution_count": 114,
   "metadata": {},
   "outputs": [],
   "source": [
    "# now we making a class/inherit\n",
    "\n",
    "class stud(Person):\n",
    "    pass\n",
    "    "
   ]
  },
  {
   "cell_type": "code",
   "execution_count": 115,
   "metadata": {},
   "outputs": [],
   "source": [
    "s1 = stud('a',2,'m',12,23)"
   ]
  },
  {
   "cell_type": "code",
   "execution_count": 116,
   "metadata": {},
   "outputs": [
    {
     "data": {
      "text/plain": [
       "2"
      ]
     },
     "execution_count": 116,
     "metadata": {},
     "output_type": "execute_result"
    }
   ],
   "source": [
    "s1.person_age"
   ]
  },
  {
   "cell_type": "code",
   "execution_count": 117,
   "metadata": {},
   "outputs": [
    {
     "name": "stdout",
     "output_type": "stream",
     "text": [
      "a is now walking.\n"
     ]
    }
   ],
   "source": [
    "s1.walk()"
   ]
  },
  {
   "cell_type": "code",
   "execution_count": 118,
   "metadata": {},
   "outputs": [],
   "source": [
    "s2 = stud('prince',20,'male',12678,230077)"
   ]
  },
  {
   "cell_type": "code",
   "execution_count": 119,
   "metadata": {},
   "outputs": [
    {
     "data": {
      "text/plain": [
       "230077"
      ]
     },
     "execution_count": 119,
     "metadata": {},
     "output_type": "execute_result"
    }
   ],
   "source": [
    "s2.person_contact"
   ]
  },
  {
   "cell_type": "code",
   "execution_count": 120,
   "metadata": {},
   "outputs": [
    {
     "name": "stdout",
     "output_type": "stream",
     "text": [
      "prince is now walking.\n"
     ]
    }
   ],
   "source": [
    "s2.walk()"
   ]
  },
  {
   "cell_type": "code",
   "execution_count": 121,
   "metadata": {},
   "outputs": [],
   "source": [
    "# now we making other class/inherit\n",
    "\n",
    "class Teacher(Person):\n",
    "    pass"
   ]
  },
  {
   "cell_type": "code",
   "execution_count": 122,
   "metadata": {},
   "outputs": [],
   "source": [
    "tec1 = Teacher('Sonu', 20, 'Female',3833933, 91992)"
   ]
  },
  {
   "cell_type": "code",
   "execution_count": 123,
   "metadata": {},
   "outputs": [
    {
     "data": {
      "text/plain": [
       "'Sonu'"
      ]
     },
     "execution_count": 123,
     "metadata": {},
     "output_type": "execute_result"
    }
   ],
   "source": [
    "tec1.person_name"
   ]
  },
  {
   "cell_type": "code",
   "execution_count": 124,
   "metadata": {},
   "outputs": [
    {
     "data": {
      "text/plain": [
       "'Female'"
      ]
     },
     "execution_count": 124,
     "metadata": {},
     "output_type": "execute_result"
    }
   ],
   "source": [
    "tec1.person_gender"
   ]
  },
  {
   "cell_type": "code",
   "execution_count": 125,
   "metadata": {},
   "outputs": [],
   "source": [
    "# other class\n",
    "\n",
    "class Athlete(Person):\n",
    "    pass"
   ]
  },
  {
   "cell_type": "code",
   "execution_count": 126,
   "metadata": {},
   "outputs": [],
   "source": [
    "ath1 = Person('Salman', 30, 'Male', 383993,10292)"
   ]
  },
  {
   "cell_type": "code",
   "execution_count": 127,
   "metadata": {},
   "outputs": [
    {
     "data": {
      "text/plain": [
       "'Salman'"
      ]
     },
     "execution_count": 127,
     "metadata": {},
     "output_type": "execute_result"
    }
   ],
   "source": [
    "ath1.person_name"
   ]
  },
  {
   "cell_type": "code",
   "execution_count": 128,
   "metadata": {},
   "outputs": [
    {
     "data": {
      "text/plain": [
       "30"
      ]
     },
     "execution_count": 128,
     "metadata": {},
     "output_type": "execute_result"
    }
   ],
   "source": [
    "ath1.person_age"
   ]
  },
  {
   "cell_type": "code",
   "execution_count": 129,
   "metadata": {},
   "outputs": [
    {
     "name": "stdout",
     "output_type": "stream",
     "text": [
      "Salman is now walking.\n"
     ]
    }
   ],
   "source": [
    "ath1.walk()"
   ]
  },
  {
   "cell_type": "code",
   "execution_count": 171,
   "metadata": {},
   "outputs": [],
   "source": [
    "# here is a prob.... \n",
    "\n",
    "class Athlete(Person):\n",
    "    def run(self):\n",
    "        print(f'{self.person_name} is now running Super Fasting.')\n",
    "        \n",
    "        # method overriding\n",
    "        #   Polymorphism (many shapes)"
   ]
  },
  {
   "cell_type": "code",
   "execution_count": 172,
   "metadata": {},
   "outputs": [],
   "source": [
    "ath2 =  Athlete('fawad', 27, 'Male', 3993, 292)"
   ]
  },
  {
   "cell_type": "code",
   "execution_count": 173,
   "metadata": {},
   "outputs": [
    {
     "data": {
      "text/plain": [
       "'fawad'"
      ]
     },
     "execution_count": 173,
     "metadata": {},
     "output_type": "execute_result"
    }
   ],
   "source": [
    "ath2.person_name"
   ]
  },
  {
   "cell_type": "code",
   "execution_count": 176,
   "metadata": {},
   "outputs": [
    {
     "name": "stdout",
     "output_type": "stream",
     "text": [
      "fawad is now running Super Fasting.\n"
     ]
    }
   ],
   "source": [
    "ath2.run()"
   ]
  }
 ],
 "metadata": {
  "kernelspec": {
   "display_name": "Python 3",
   "language": "python",
   "name": "python3"
  },
  "language_info": {
   "codemirror_mode": {
    "name": "ipython",
    "version": 3
   },
   "file_extension": ".py",
   "mimetype": "text/x-python",
   "name": "python",
   "nbconvert_exporter": "python",
   "pygments_lexer": "ipython3",
   "version": "3.7.6"
  }
 },
 "nbformat": 4,
 "nbformat_minor": 4
}
